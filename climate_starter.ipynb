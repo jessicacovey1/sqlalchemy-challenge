{
 "cells": [
  {
   "cell_type": "code",
   "execution_count": 3,
   "metadata": {},
   "outputs": [],
   "source": [
    "%matplotlib inline\n",
    "from matplotlib import style\n",
    "style.use('fivethirtyeight')\n",
    "import matplotlib.pyplot as plt"
   ]
  },
  {
   "cell_type": "code",
   "execution_count": 4,
   "metadata": {},
   "outputs": [],
   "source": [
    "import numpy as np\n",
    "import pandas as pd"
   ]
  },
  {
   "cell_type": "code",
   "execution_count": 5,
   "metadata": {},
   "outputs": [],
   "source": [
    "import datetime as dt"
   ]
  },
  {
   "cell_type": "markdown",
   "metadata": {},
   "source": [
    "# Reflect Tables into SQLAlchemy ORM"
   ]
  },
  {
   "cell_type": "code",
   "execution_count": 6,
   "metadata": {},
   "outputs": [],
   "source": [
    "# Python SQL toolkit and Object Relational Mapper\n",
    "import sqlalchemy\n",
    "from sqlalchemy.ext.automap import automap_base\n",
    "from sqlalchemy.orm import Session\n",
    "from sqlalchemy import create_engine, func, inspect"
   ]
  },
  {
   "cell_type": "code",
   "execution_count": 7,
   "metadata": {},
   "outputs": [],
   "source": [
    "engine = create_engine(\"sqlite:///Resources/hawaii.sqlite\")"
   ]
  },
  {
   "cell_type": "code",
   "execution_count": 8,
   "metadata": {},
   "outputs": [],
   "source": [
    "# reflect an existing database into a new model\n",
    "Base = automap_base()\n",
    "\n",
    "# reflect the tables\n",
    "Base.prepare(engine, reflect=True)"
   ]
  },
  {
   "cell_type": "code",
   "execution_count": 9,
   "metadata": {},
   "outputs": [
    {
     "output_type": "execute_result",
     "data": {
      "text/plain": [
       "['measurement', 'station']"
      ]
     },
     "metadata": {},
     "execution_count": 9
    }
   ],
   "source": [
    "# We can view all of the classes that automap found\n",
    "Base.classes.keys()"
   ]
  },
  {
   "cell_type": "code",
   "execution_count": 10,
   "metadata": {},
   "outputs": [],
   "source": [
    "# Save references to each table\n",
    "Measurement = Base.classes.measurement\n",
    "Station = Base.classes.station"
   ]
  },
  {
   "cell_type": "code",
   "execution_count": 11,
   "metadata": {},
   "outputs": [],
   "source": [
    "# Create our session (link) from Python to the DB\n",
    "session = Session(engine)"
   ]
  },
  {
   "cell_type": "code",
   "execution_count": 12,
   "metadata": {
    "scrolled": true
   },
   "outputs": [
    {
     "output_type": "execute_result",
     "data": {
      "text/plain": [
       "{'_sa_instance_state': <sqlalchemy.orm.state.InstanceState at 0x26b16a8b910>,\n",
       " 'tobs': 65.0,\n",
       " 'prcp': 0.08,\n",
       " 'station': 'USC00519397',\n",
       " 'date': '2010-01-01',\n",
       " 'id': 1}"
      ]
     },
     "metadata": {},
     "execution_count": 12
    }
   ],
   "source": [
    "first_row = session.query(Measurement).first()\n",
    "first_row.__dict__"
   ]
  },
  {
   "cell_type": "code",
   "execution_count": 13,
   "metadata": {},
   "outputs": [
    {
     "output_type": "execute_result",
     "data": {
      "text/plain": [
       "{'_sa_instance_state': <sqlalchemy.orm.state.InstanceState at 0x26b16a0ad00>,\n",
       " 'id': 1,\n",
       " 'elevation': 3.0,\n",
       " 'station': 'USC00519397',\n",
       " 'name': 'WAIKIKI 717.2, HI US',\n",
       " 'longitude': -157.8168,\n",
       " 'latitude': 21.2716}"
      ]
     },
     "metadata": {},
     "execution_count": 13
    }
   ],
   "source": [
    "first_row = session.query(Station).first()\n",
    "first_row.__dict__"
   ]
  },
  {
   "cell_type": "code",
   "execution_count": 14,
   "metadata": {},
   "outputs": [
    {
     "output_type": "stream",
     "name": "stdout",
     "text": [
      "(1, 'USC00519397', 'WAIKIKI 717.2, HI US', 21.2716, -157.8168, 3.0)\n(2, 'USC00513117', 'KANEOHE 838.1, HI US', 21.4234, -157.8015, 14.6)\n(3, 'USC00514830', 'KUALOA RANCH HEADQUARTERS 886.9, HI US', 21.5213, -157.8374, 7.0)\n(4, 'USC00517948', 'PEARL CITY, HI US', 21.3934, -157.9751, 11.9)\n(5, 'USC00518838', 'UPPER WAHIAWA 874.3, HI US', 21.4992, -158.0111, 306.6)\n(6, 'USC00519523', 'WAIMANALO EXPERIMENTAL FARM, HI US', 21.33556, -157.71139, 19.5)\n(7, 'USC00519281', 'WAIHEE 837.5, HI US', 21.45167, -157.84888999999998, 32.9)\n(8, 'USC00511918', 'HONOLULU OBSERVATORY 702.2, HI US', 21.3152, -157.9992, 0.9)\n(9, 'USC00516128', 'MANOA LYON ARBO 785.2, HI US', 21.3331, -157.8025, 152.4)\n"
     ]
    }
   ],
   "source": [
    "for row in session.query(Station.id, Station.station, Station.name, Station.latitude, Station.longitude, Station.elevation).limit(15).all():\n",
    "    print(row)"
   ]
  },
  {
   "cell_type": "markdown",
   "metadata": {},
   "source": [
    "# Exploratory Climate Analysis"
   ]
  },
  {
   "cell_type": "code",
   "execution_count": 15,
   "metadata": {},
   "outputs": [],
   "source": [
    "# Design a query to retrieve the last 12 months of precipitation data and plot the results"
   ]
  },
  {
   "cell_type": "code",
   "execution_count": 16,
   "metadata": {},
   "outputs": [
    {
     "output_type": "stream",
     "name": "stdout",
     "text": [
      "(2724, 'USC00519397', '2017-08-23', 0.0, 81.0)\n(7635, 'USC00514830', '2017-08-23', 0.0, 82.0)\n(12187, 'USC00519523', '2017-08-23', 0.08, 82.0)\n(19550, 'USC00516128', '2017-08-23', 0.45, 76.0)\n(2723, 'USC00519397', '2017-08-22', 0.0, 82.0)\n(12186, 'USC00519523', '2017-08-22', 0.0, 82.0)\n(19549, 'USC00516128', '2017-08-22', 0.5, 76.0)\n(2722, 'USC00519397', '2017-08-21', 0.0, 81.0)\n(7634, 'USC00514830', '2017-08-21', 0.02, 79.0)\n(12185, 'USC00519523', '2017-08-21', None, 82.0)\n(19548, 'USC00516128', '2017-08-21', 0.56, 76.0)\n(2721, 'USC00519397', '2017-08-20', 0.0, 81.0)\n(7633, 'USC00514830', '2017-08-20', 0.01, 80.0)\n(19547, 'USC00516128', '2017-08-20', None, 78.0)\n(2720, 'USC00519397', '2017-08-19', 0.0, 79.0)\n"
     ]
    }
   ],
   "source": [
    "for row in session.query(Measurement.id, Measurement.station, Measurement.date, Measurement.prcp, Measurement.tobs).order_by(Measurement.date.desc()).limit(15).all():\n",
    "    print(row)"
   ]
  },
  {
   "cell_type": "code",
   "execution_count": 17,
   "metadata": {},
   "outputs": [
    {
     "output_type": "stream",
     "name": "stdout",
     "text": [
      "Last 12 Months:  2016-08-23 00:00:00\n"
     ]
    }
   ],
   "source": [
    "# Calculate the date 1 year ago from the last data point in the database\n",
    "last_date = dt.datetime(2017, 8, 23)\n",
    "one_year_date = last_date - dt.timedelta(days=365)\n",
    "print(\"Last 12 Months: \", one_year_date)"
   ]
  },
  {
   "cell_type": "code",
   "execution_count": 18,
   "metadata": {
    "tags": [
     "outputPrepend"
    ]
   },
   "outputs": [
    {
     "output_type": "stream",
     "name": "stdout",
     "text": [
      "ecipitation: 1.32\n",
      "Date: 2017-02-08, Precipitation: 0.0\n",
      "Date: 2017-02-09, Precipitation: 0.0\n",
      "Date: 2017-02-10, Precipitation: 0.0\n",
      "Date: 2017-02-11, Precipitation: 1.73\n",
      "Date: 2017-02-12, Precipitation: 2.98\n",
      "Date: 2017-02-13, Precipitation: 0.01\n",
      "Date: 2017-02-14, Precipitation: 0.0\n",
      "Date: 2017-02-15, Precipitation: 0.01\n",
      "Date: 2017-02-16, Precipitation: 0.73\n",
      "Date: 2017-02-17, Precipitation: 0.13\n",
      "Date: 2017-02-18, Precipitation: 0.0\n",
      "Date: 2017-02-19, Precipitation: 0.09\n",
      "Date: 2017-02-20, Precipitation: 0.0\n",
      "Date: 2017-02-21, Precipitation: 0.0\n",
      "Date: 2017-02-22, Precipitation: 0.06\n",
      "Date: 2017-02-23, Precipitation: 0.0\n",
      "Date: 2017-02-24, Precipitation: 0.0\n",
      "Date: 2017-02-25, Precipitation: 0.0\n",
      "Date: 2017-02-26, Precipitation: 0.0\n",
      "Date: 2017-02-27, Precipitation: 0.0\n",
      "Date: 2017-02-28, Precipitation: 0.04\n",
      "Date: 2017-03-01, Precipitation: 2.12\n",
      "Date: 2017-03-02, Precipitation: 1.88\n",
      "Date: 2017-03-03, Precipitation: 0.27\n",
      "Date: 2017-03-04, Precipitation: 0.0\n",
      "Date: 2017-03-05, Precipitation: 0.41\n",
      "Date: 2017-03-06, Precipitation: 0.03\n",
      "Date: 2017-03-07, Precipitation: 0.0\n",
      "Date: 2017-03-08, Precipitation: 0.0\n",
      "Date: 2017-03-09, Precipitation: 0.65\n",
      "Date: 2017-03-10, Precipitation: 0.03\n",
      "Date: 2017-03-11, Precipitation: 0.01\n",
      "Date: 2017-03-12, Precipitation: 0.0\n",
      "Date: 2017-03-13, Precipitation: 0.0\n",
      "Date: 2017-03-14, Precipitation: 0.0\n",
      "Date: 2017-03-15, Precipitation: 0.06\n",
      "Date: 2017-03-16, Precipitation: 0.0\n",
      "Date: 2017-03-17, Precipitation: 0.12\n",
      "Date: 2017-03-18, Precipitation: 0.0\n",
      "Date: 2017-03-19, Precipitation: 0.0\n",
      "Date: 2017-03-20, Precipitation: 0.02\n",
      "Date: 2017-03-21, Precipitation: 0.09\n",
      "Date: 2017-03-22, Precipitation: 0.0\n",
      "Date: 2017-03-23, Precipitation: 0.0\n",
      "Date: 2017-03-24, Precipitation: 0.12\n",
      "Date: 2017-03-25, Precipitation: 0.93\n",
      "Date: 2017-03-26, Precipitation: 0.0\n",
      "Date: 2017-03-27, Precipitation: 0.01\n",
      "Date: 2017-03-28, Precipitation: 0.0\n",
      "Date: 2017-03-29, Precipitation: 0.01\n",
      "Date: 2017-03-30, Precipitation: 0.04\n",
      "Date: 2017-03-31, Precipitation: 0.01\n",
      "Date: 2017-04-01, Precipitation: 0.21\n",
      "Date: 2017-04-02, Precipitation: 0.0\n",
      "Date: 2017-04-03, Precipitation: 0.26\n",
      "Date: 2017-04-04, Precipitation: 0.09\n",
      "Date: 2017-04-05, Precipitation: 0.1\n",
      "Date: 2017-04-06, Precipitation: 0.06\n",
      "Date: 2017-04-07, Precipitation: 0.0\n",
      "Date: 2017-04-08, Precipitation: 0.0\n",
      "Date: 2017-04-09, Precipitation: 0.0\n",
      "Date: 2017-04-10, Precipitation: 0.01\n",
      "Date: 2017-04-11, Precipitation: 0.03\n",
      "Date: 2017-04-12, Precipitation: 0.11\n",
      "Date: 2017-04-13, Precipitation: 0.59\n",
      "Date: 2017-04-14, Precipitation: 2.3\n",
      "Date: 2017-04-15, Precipitation: 0.38\n",
      "Date: 2017-04-16, Precipitation: 0.47\n",
      "Date: 2017-04-17, Precipitation: 1.04\n",
      "Date: 2017-04-18, Precipitation: 2.03\n",
      "Date: 2017-04-19, Precipitation: 0.02\n",
      "Date: 2017-04-20, Precipitation: 0.05\n",
      "Date: 2017-04-21, Precipitation: 1.74\n",
      "Date: 2017-04-22, Precipitation: 1.58\n",
      "Date: 2017-04-23, Precipitation: 0.06\n",
      "Date: 2017-04-24, Precipitation: 0.01\n",
      "Date: 2017-04-25, Precipitation: 0.0\n",
      "Date: 2017-04-26, Precipitation: 0.02\n",
      "Date: 2017-04-27, Precipitation: 0.19\n",
      "Date: 2017-04-28, Precipitation: 0.76\n",
      "Date: 2017-04-29, Precipitation: 0.37\n",
      "Date: 2017-04-30, Precipitation: 1.04\n",
      "Date: 2017-05-01, Precipitation: 0.13\n",
      "Date: 2017-05-02, Precipitation: 0.01\n",
      "Date: 2017-05-03, Precipitation: 0.01\n",
      "Date: 2017-05-04, Precipitation: 0.0\n",
      "Date: 2017-05-05, Precipitation: 0.0\n",
      "Date: 2017-05-06, Precipitation: 0.0\n",
      "Date: 2017-05-07, Precipitation: 0.02\n",
      "Date: 2017-05-08, Precipitation: 0.73\n",
      "Date: 2017-05-09, Precipitation: 1.58\n",
      "Date: 2017-05-10, Precipitation: 0.2\n",
      "Date: 2017-05-11, Precipitation: 0.12\n",
      "Date: 2017-05-12, Precipitation: 0.02\n",
      "Date: 2017-05-13, Precipitation: 0.12\n",
      "Date: 2017-05-14, Precipitation: 0.17\n",
      "Date: 2017-05-15, Precipitation: 0.09\n",
      "Date: 2017-05-16, Precipitation: 0.03\n",
      "Date: 2017-05-17, Precipitation: 0.07\n",
      "Date: 2017-05-18, Precipitation: 0.13\n",
      "Date: 2017-05-19, Precipitation: 0.01\n",
      "Date: 2017-05-20, Precipitation: 0.02\n",
      "Date: 2017-05-21, Precipitation: 0.01\n",
      "Date: 2017-05-22, Precipitation: 0.06\n",
      "Date: 2017-05-23, Precipitation: 0.06\n",
      "Date: 2017-05-24, Precipitation: 0.3\n",
      "Date: 2017-05-25, Precipitation: 0.2\n",
      "Date: 2017-05-26, Precipitation: 0.0\n",
      "Date: 2017-05-27, Precipitation: 0.0\n",
      "Date: 2017-05-28, Precipitation: 0.08\n",
      "Date: 2017-05-29, Precipitation: 0.4\n",
      "Date: 2017-05-30, Precipitation: 1.12\n",
      "Date: 2017-05-31, Precipitation: 0.25\n",
      "Date: 2017-06-01, Precipitation: 0.0\n",
      "Date: 2017-06-02, Precipitation: 0.09\n",
      "Date: 2017-06-03, Precipitation: 0.08\n",
      "Date: 2017-06-04, Precipitation: 0.13\n",
      "Date: 2017-06-05, Precipitation: 0.05\n",
      "Date: 2017-06-06, Precipitation: 0.0\n",
      "Date: 2017-06-07, Precipitation: 0.0\n",
      "Date: 2017-06-08, Precipitation: 0.0\n",
      "Date: 2017-06-09, Precipitation: 0.02\n",
      "Date: 2017-06-10, Precipitation: 0.62\n",
      "Date: 2017-06-11, Precipitation: 0.74\n",
      "Date: 2017-06-12, Precipitation: 0.24\n",
      "Date: 2017-06-13, Precipitation: 0.24\n",
      "Date: 2017-06-14, Precipitation: 0.22\n",
      "Date: 2017-06-15, Precipitation: 0.55\n",
      "Date: 2017-06-16, Precipitation: 0.06\n",
      "Date: 2017-06-17, Precipitation: 0.07\n",
      "Date: 2017-06-18, Precipitation: 0.24\n",
      "Date: 2017-06-19, Precipitation: 0.08\n",
      "Date: 2017-06-20, Precipitation: 0.0\n",
      "Date: 2017-06-21, Precipitation: 0.19\n",
      "Date: 2017-06-22, Precipitation: 0.06\n",
      "Date: 2017-06-23, Precipitation: 0.12\n",
      "Date: 2017-06-24, Precipitation: 0.36\n",
      "Date: 2017-06-25, Precipitation: 0.02\n",
      "Date: 2017-06-26, Precipitation: 0.06\n",
      "Date: 2017-06-27, Precipitation: 0.01\n",
      "Date: 2017-06-28, Precipitation: 0.0\n",
      "Date: 2017-06-29, Precipitation: 0.0\n",
      "Date: 2017-06-30, Precipitation: 0.01\n",
      "Date: 2017-07-01, Precipitation: 0.08\n",
      "Date: 2017-07-02, Precipitation: 0.15\n",
      "Date: 2017-07-03, Precipitation: 0.15\n",
      "Date: 2017-07-04, Precipitation: 0.08\n",
      "Date: 2017-07-05, Precipitation: 0.0\n",
      "Date: 2017-07-06, Precipitation: 0.0\n",
      "Date: 2017-07-07, Precipitation: 0.18\n",
      "Date: 2017-07-08, Precipitation: 0.0\n",
      "Date: 2017-07-09, Precipitation: 0.11\n",
      "Date: 2017-07-10, Precipitation: 0.02\n",
      "Date: 2017-07-11, Precipitation: 0.02\n",
      "Date: 2017-07-12, Precipitation: 0.28\n",
      "Date: 2017-07-13, Precipitation: 0.32\n",
      "Date: 2017-07-14, Precipitation: 0.2\n",
      "Date: 2017-07-15, Precipitation: 0.05\n",
      "Date: 2017-07-16, Precipitation: 0.1\n",
      "Date: 2017-07-17, Precipitation: 0.21\n",
      "Date: 2017-07-18, Precipitation: 0.05\n",
      "Date: 2017-07-19, Precipitation: 0.05\n",
      "Date: 2017-07-20, Precipitation: 0.06\n",
      "Date: 2017-07-21, Precipitation: 0.03\n",
      "Date: 2017-07-22, Precipitation: 0.2\n",
      "Date: 2017-07-23, Precipitation: 0.2\n",
      "Date: 2017-07-24, Precipitation: 0.61\n",
      "Date: 2017-07-25, Precipitation: 0.11\n",
      "Date: 2017-07-26, Precipitation: 0.12\n",
      "Date: 2017-07-27, Precipitation: 0.01\n",
      "Date: 2017-07-28, Precipitation: 0.09\n",
      "Date: 2017-07-29, Precipitation: 0.23\n",
      "Date: 2017-07-30, Precipitation: 0.0\n",
      "Date: 2017-07-31, Precipitation: 0.0\n",
      "Date: 2017-08-04, Precipitation: 0.0\n",
      "Date: 2017-08-05, Precipitation: 0.06\n",
      "Date: 2017-08-06, Precipitation: 0.0\n",
      "Date: 2017-08-13, Precipitation: 0.0\n",
      "Date: 2017-08-14, Precipitation: 0.0\n",
      "Date: 2017-08-15, Precipitation: 0.32\n",
      "Date: 2017-08-16, Precipitation: 0.12\n",
      "Date: 2017-08-17, Precipitation: 0.01\n",
      "Date: 2017-08-18, Precipitation: 0.06\n",
      "Date: 2016-08-24, Precipitation: 1.45\n",
      "Date: 2016-08-25, Precipitation: 0.11\n",
      "Date: 2016-08-27, Precipitation: None\n",
      "Date: 2016-08-28, Precipitation: 2.07\n",
      "Date: 2016-08-29, Precipitation: 0.9\n",
      "Date: 2016-08-30, Precipitation: 0.05\n",
      "Date: 2016-08-31, Precipitation: 2.46\n",
      "Date: 2016-09-01, Precipitation: 0.01\n",
      "Date: 2016-09-02, Precipitation: 0.03\n",
      "Date: 2016-09-03, Precipitation: 1.0\n",
      "Date: 2016-09-04, Precipitation: 0.44\n",
      "Date: 2016-09-05, Precipitation: 0.18\n",
      "Date: 2016-09-06, Precipitation: 1.0\n",
      "Date: 2016-09-07, Precipitation: 1.35\n",
      "Date: 2016-09-08, Precipitation: 0.15\n",
      "Date: 2016-09-09, Precipitation: 0.35\n",
      "Date: 2016-09-10, Precipitation: 1.16\n",
      "Date: 2016-09-11, Precipitation: 0.6\n",
      "Date: 2016-09-12, Precipitation: 1.04\n",
      "Date: 2016-09-13, Precipitation: 1.2\n",
      "Date: 2016-09-14, Precipitation: 6.7\n",
      "Date: 2016-09-15, Precipitation: 3.35\n",
      "Date: 2016-09-16, Precipitation: 0.61\n",
      "Date: 2016-09-17, Precipitation: 0.23\n",
      "Date: 2016-09-18, Precipitation: 0.42\n",
      "Date: 2016-09-19, Precipitation: 0.25\n",
      "Date: 2016-09-20, Precipitation: 0.43\n",
      "Date: 2016-09-21, Precipitation: 1.02\n",
      "Date: 2016-09-22, Precipitation: 0.75\n",
      "Date: 2016-09-23, Precipitation: 0.33\n",
      "Date: 2016-09-24, Precipitation: 0.27\n",
      "Date: 2016-09-25, Precipitation: 0.04\n",
      "Date: 2016-09-26, Precipitation: 1.02\n",
      "Date: 2016-09-27, Precipitation: 1.0\n",
      "Date: 2016-09-28, Precipitation: 0.05\n",
      "Date: 2016-09-29, Precipitation: 1.49\n",
      "Date: 2016-09-30, Precipitation: 0.38\n",
      "Date: 2016-10-01, Precipitation: 1.02\n",
      "Date: 2016-10-02, Precipitation: 0.61\n",
      "Date: 2016-10-03, Precipitation: 0.46\n",
      "Date: 2016-10-04, Precipitation: 3.46\n",
      "Date: 2016-10-05, Precipitation: 0.81\n",
      "Date: 2016-10-06, Precipitation: 0.04\n",
      "Date: 2016-10-07, Precipitation: 0.01\n",
      "Date: 2016-10-08, Precipitation: 0.04\n",
      "Date: 2016-10-09, Precipitation: 0.0\n",
      "Date: 2016-10-10, Precipitation: 0.0\n",
      "Date: 2016-10-11, Precipitation: 0.35\n",
      "Date: 2016-10-12, Precipitation: 0.02\n",
      "Date: 2016-10-13, Precipitation: 0.06\n",
      "Date: 2016-10-14, Precipitation: 0.0\n",
      "Date: 2016-10-15, Precipitation: 0.33\n",
      "Date: 2016-10-16, Precipitation: 0.0\n",
      "Date: 2016-10-17, Precipitation: 0.38\n",
      "Date: 2016-10-18, Precipitation: 0.48\n",
      "Date: 2016-10-19, Precipitation: 0.0\n",
      "Date: 2016-10-20, Precipitation: 1.0\n",
      "Date: 2016-10-21, Precipitation: 0.09\n",
      "Date: 2016-10-22, Precipitation: 1.37\n",
      "Date: 2016-10-23, Precipitation: 0.24\n",
      "Date: 2016-10-24, Precipitation: 0.7\n",
      "Date: 2016-10-25, Precipitation: 0.4\n",
      "Date: 2016-10-26, Precipitation: 0.0\n",
      "Date: 2016-10-27, Precipitation: 1.25\n",
      "Date: 2016-10-28, Precipitation: 0.37\n",
      "Date: 2016-10-29, Precipitation: 0.25\n",
      "Date: 2016-10-30, Precipitation: 0.95\n",
      "Date: 2016-10-31, Precipitation: 1.35\n",
      "Date: 2016-11-01, Precipitation: 0.09\n",
      "Date: 2016-11-02, Precipitation: 0.04\n",
      "Date: 2016-11-03, Precipitation: 0.02\n",
      "Date: 2016-11-04, Precipitation: 0.06\n",
      "Date: 2016-11-05, Precipitation: 0.38\n",
      "Date: 2016-11-06, Precipitation: 0.05\n",
      "Date: 2016-11-07, Precipitation: 0.05\n",
      "Date: 2016-11-08, Precipitation: 0.53\n",
      "Date: 2016-11-09, Precipitation: 0.04\n",
      "Date: 2016-11-10, Precipitation: 0.01\n",
      "Date: 2016-11-11, Precipitation: 0.0\n",
      "Date: 2016-11-12, Precipitation: 0.0\n",
      "Date: 2016-11-13, Precipitation: 0.0\n",
      "Date: 2016-11-14, Precipitation: 0.02\n",
      "Date: 2016-11-15, Precipitation: 0.05\n",
      "Date: 2016-11-16, Precipitation: 0.91\n",
      "Date: 2016-11-17, Precipitation: 0.02\n",
      "Date: 2016-11-20, Precipitation: None\n",
      "Date: 2016-11-21, Precipitation: 2.87\n",
      "Date: 2016-11-22, Precipitation: 2.11\n",
      "Date: 2016-11-23, Precipitation: 0.22\n",
      "Date: 2016-11-24, Precipitation: 0.72\n",
      "Date: 2016-11-25, Precipitation: 1.03\n",
      "Date: 2016-11-26, Precipitation: 0.3\n",
      "Date: 2016-11-27, Precipitation: 0.29\n",
      "Date: 2016-11-28, Precipitation: 0.69\n",
      "Date: 2016-11-29, Precipitation: 0.2\n",
      "Date: 2016-11-30, Precipitation: 0.79\n",
      "Date: 2016-12-01, Precipitation: 0.72\n",
      "Date: 2016-12-02, Precipitation: 1.27\n",
      "Date: 2016-12-03, Precipitation: 1.62\n",
      "Date: 2016-12-04, Precipitation: 0.31\n",
      "Date: 2016-12-05, Precipitation: 1.6\n",
      "Date: 2016-12-06, Precipitation: 0.0\n",
      "Date: 2016-12-07, Precipitation: 0.02\n",
      "Date: 2016-12-08, Precipitation: 0.03\n",
      "Date: 2016-12-09, Precipitation: 0.42\n",
      "Date: 2016-12-10, Precipitation: 0.04\n",
      "Date: 2016-12-11, Precipitation: 0.13\n",
      "Date: 2016-12-12, Precipitation: 0.01\n",
      "Date: 2016-12-13, Precipitation: 0.09\n",
      "Date: 2016-12-14, Precipitation: 0.33\n",
      "Date: 2016-12-15, Precipitation: 0.03\n",
      "Date: 2016-12-16, Precipitation: 0.0\n",
      "Date: 2016-12-18, Precipitation: None\n",
      "Date: 2016-12-19, Precipitation: 0.15\n",
      "Date: 2016-12-20, Precipitation: 0.0\n",
      "Date: 2016-12-21, Precipitation: 0.55\n",
      "Date: 2016-12-22, Precipitation: 1.24\n",
      "Date: 2016-12-23, Precipitation: 0.83\n",
      "Date: 2016-12-24, Precipitation: 1.08\n",
      "Date: 2016-12-25, Precipitation: 0.38\n",
      "Date: 2016-12-26, Precipitation: 1.48\n",
      "Date: 2016-12-27, Precipitation: 0.14\n",
      "Date: 2016-12-28, Precipitation: 0.14\n",
      "Date: 2016-12-29, Precipitation: 1.03\n",
      "Date: 2016-12-30, Precipitation: 2.37\n",
      "Date: 2016-12-31, Precipitation: 0.9\n",
      "Date: 2017-01-01, Precipitation: 0.03\n",
      "Date: 2017-01-02, Precipitation: 0.0\n",
      "Date: 2017-01-03, Precipitation: 0.0\n",
      "Date: 2017-01-04, Precipitation: 0.0\n",
      "Date: 2017-01-05, Precipitation: 0.47\n",
      "Date: 2017-01-06, Precipitation: 0.1\n",
      "Date: 2017-01-07, Precipitation: 0.0\n",
      "Date: 2017-01-08, Precipitation: 0.03\n",
      "Date: 2017-01-09, Precipitation: 0.0\n",
      "Date: 2017-01-10, Precipitation: 0.0\n",
      "Date: 2017-01-11, Precipitation: 0.0\n",
      "Date: 2017-01-12, Precipitation: 0.0\n",
      "Date: 2017-01-13, Precipitation: 0.0\n",
      "Date: 2017-01-14, Precipitation: 0.0\n",
      "Date: 2017-01-15, Precipitation: 0.01\n",
      "Date: 2017-01-16, Precipitation: 0.0\n",
      "Date: 2017-01-17, Precipitation: 0.0\n",
      "Date: 2017-01-18, Precipitation: 0.07\n",
      "Date: 2017-01-19, Precipitation: 0.0\n",
      "Date: 2017-01-20, Precipitation: 0.0\n",
      "Date: 2017-01-21, Precipitation: 0.08\n",
      "Date: 2017-01-22, Precipitation: 0.72\n",
      "Date: 2017-01-23, Precipitation: 0.85\n",
      "Date: 2017-01-24, Precipitation: 1.85\n",
      "Date: 2017-01-25, Precipitation: 2.64\n",
      "Date: 2017-01-26, Precipitation: 0.1\n",
      "Date: 2017-01-27, Precipitation: 0.03\n",
      "Date: 2017-01-28, Precipitation: 0.0\n",
      "Date: 2017-01-29, Precipitation: 0.55\n",
      "Date: 2017-01-30, Precipitation: 0.0\n",
      "Date: 2017-01-31, Precipitation: 0.0\n",
      "Date: 2017-02-01, Precipitation: 0.0\n",
      "Date: 2017-02-02, Precipitation: 0.0\n",
      "Date: 2017-02-04, Precipitation: None\n",
      "Date: 2017-02-05, Precipitation: 0.0\n",
      "Date: 2017-02-06, Precipitation: 0.0\n",
      "Date: 2017-02-07, Precipitation: 1.79\n",
      "Date: 2017-02-08, Precipitation: 0.0\n",
      "Date: 2017-02-09, Precipitation: 0.0\n",
      "Date: 2017-02-10, Precipitation: 0.0\n",
      "Date: 2017-02-11, Precipitation: 0.73\n",
      "Date: 2017-02-12, Precipitation: 1.83\n",
      "Date: 2017-02-13, Precipitation: 0.0\n",
      "Date: 2017-02-14, Precipitation: 0.01\n",
      "Date: 2017-02-15, Precipitation: 0.07\n",
      "Date: 2017-02-16, Precipitation: 0.13\n",
      "Date: 2017-02-18, Precipitation: None\n",
      "Date: 2017-02-19, Precipitation: 0.1\n",
      "Date: 2017-02-20, Precipitation: 0.0\n",
      "Date: 2017-02-21, Precipitation: 0.07\n",
      "Date: 2017-02-22, Precipitation: 0.32\n",
      "Date: 2017-02-23, Precipitation: 0.0\n",
      "Date: 2017-02-24, Precipitation: 0.0\n",
      "Date: 2017-02-25, Precipitation: 0.12\n",
      "Date: 2017-02-26, Precipitation: 0.0\n",
      "Date: 2017-02-27, Precipitation: 0.0\n",
      "Date: 2017-02-28, Precipitation: 0.58\n",
      "Date: 2017-03-01, Precipitation: 2.0\n",
      "Date: 2017-03-02, Precipitation: 0.58\n",
      "Date: 2017-03-03, Precipitation: 0.56\n",
      "Date: 2017-03-04, Precipitation: 0.0\n",
      "Date: 2017-03-05, Precipitation: 0.35\n",
      "Date: 2017-03-06, Precipitation: 0.0\n",
      "Date: 2017-03-07, Precipitation: 0.0\n",
      "Date: 2017-03-08, Precipitation: 0.0\n",
      "Date: 2017-03-09, Precipitation: 0.01\n",
      "Date: 2017-03-10, Precipitation: 0.0\n",
      "Date: 2017-03-11, Precipitation: 0.0\n",
      "Date: 2017-03-13, Precipitation: None\n",
      "Date: 2017-03-14, Precipitation: 0.0\n",
      "Date: 2017-03-15, Precipitation: 0.0\n",
      "Date: 2017-03-16, Precipitation: 0.0\n",
      "Date: 2017-03-18, Precipitation: None\n",
      "Date: 2017-03-19, Precipitation: 0.0\n",
      "Date: 2017-03-20, Precipitation: 0.0\n",
      "Date: 2017-03-21, Precipitation: 0.0\n",
      "Date: 2017-03-22, Precipitation: 0.0\n",
      "Date: 2017-03-23, Precipitation: 0.03\n",
      "Date: 2017-03-24, Precipitation: 0.17\n",
      "Date: 2017-03-25, Precipitation: 0.48\n",
      "Date: 2017-03-26, Precipitation: 0.0\n",
      "Date: 2017-03-27, Precipitation: 0.0\n",
      "Date: 2017-03-28, Precipitation: 0.68\n",
      "Date: 2017-03-29, Precipitation: 0.07\n",
      "Date: 2017-03-31, Precipitation: None\n",
      "Date: 2017-04-01, Precipitation: 0.2\n",
      "Date: 2017-04-02, Precipitation: 0.0\n",
      "Date: 2017-04-03, Precipitation: 0.23\n",
      "Date: 2017-04-04, Precipitation: 0.02\n",
      "Date: 2017-04-05, Precipitation: 0.45\n",
      "Date: 2017-04-06, Precipitation: 0.0\n",
      "Date: 2017-04-08, Precipitation: None\n",
      "Date: 2017-04-09, Precipitation: 0.0\n",
      "Date: 2017-04-10, Precipitation: 0.0\n",
      "Date: 2017-04-11, Precipitation: 0.25\n",
      "Date: 2017-04-12, Precipitation: 0.65\n",
      "Date: 2017-04-13, Precipitation: 0.23\n",
      "Date: 2017-04-14, Precipitation: 2.82\n",
      "Date: 2017-04-15, Precipitation: 0.9\n",
      "Date: 2017-04-16, Precipitation: 0.11\n",
      "Date: 2017-04-17, Precipitation: 1.3\n",
      "Date: 2017-04-18, Precipitation: 0.98\n",
      "Date: 2017-04-19, Precipitation: 0.14\n",
      "Date: 2017-04-20, Precipitation: 0.0\n",
      "Date: 2017-04-21, Precipitation: 1.84\n",
      "Date: 2017-04-22, Precipitation: 1.35\n",
      "Date: 2017-04-23, Precipitation: 0.35\n",
      "Date: 2017-04-24, Precipitation: 0.05\n",
      "Date: 2017-04-25, Precipitation: 0.0\n",
      "Date: 2017-04-26, Precipitation: 0.22\n",
      "Date: 2017-04-27, Precipitation: 0.11\n",
      "Date: 2017-04-28, Precipitation: 0.79\n",
      "Date: 2017-04-29, Precipitation: 0.0\n",
      "Date: 2017-04-30, Precipitation: 0.8\n",
      "Date: 2017-05-01, Precipitation: 0.25\n",
      "Date: 2017-05-02, Precipitation: 0.0\n",
      "Date: 2017-05-04, Precipitation: None\n",
      "Date: 2017-05-05, Precipitation: 0.1\n",
      "Date: 2017-05-06, Precipitation: 0.0\n",
      "Date: 2017-05-07, Precipitation: 0.03\n",
      "Date: 2017-05-08, Precipitation: 1.11\n",
      "Date: 2017-05-09, Precipitation: 0.23\n",
      "Date: 2017-05-10, Precipitation: 0.55\n",
      "Date: 2017-05-11, Precipitation: 0.44\n",
      "Date: 2017-05-12, Precipitation: 0.1\n",
      "Date: 2017-05-13, Precipitation: 0.1\n",
      "Date: 2017-05-14, Precipitation: 1.0\n",
      "Date: 2017-05-15, Precipitation: 0.6\n",
      "Date: 2017-05-16, Precipitation: 0.3\n",
      "Date: 2017-05-17, Precipitation: 0.06\n",
      "Date: 2017-05-18, Precipitation: 0.0\n",
      "Date: 2017-05-20, Precipitation: None\n",
      "Date: 2017-05-21, Precipitation: 0.0\n",
      "Date: 2017-05-22, Precipitation: 0.3\n",
      "Date: 2017-05-23, Precipitation: 0.44\n",
      "Date: 2017-05-24, Precipitation: 2.17\n",
      "Date: 2017-05-25, Precipitation: 0.88\n",
      "Date: 2017-05-26, Precipitation: 0.0\n",
      "Date: 2017-05-27, Precipitation: 0.5\n",
      "Date: 2017-05-28, Precipitation: 0.0\n",
      "Date: 2017-05-30, Precipitation: None\n",
      "Date: 2017-06-01, Precipitation: 0.01\n",
      "Date: 2017-06-03, Precipitation: None\n",
      "Date: 2017-06-04, Precipitation: 0.82\n",
      "Date: 2017-06-05, Precipitation: 0.01\n",
      "Date: 2017-06-06, Precipitation: 0.0\n",
      "Date: 2017-06-07, Precipitation: 0.01\n",
      "Date: 2017-06-08, Precipitation: 0.0\n",
      "Date: 2017-06-10, Precipitation: None\n",
      "Date: 2017-06-11, Precipitation: 0.7\n",
      "Date: 2017-06-12, Precipitation: 0.81\n",
      "Date: 2017-06-13, Precipitation: 0.65\n",
      "Date: 2017-06-14, Precipitation: 0.81\n",
      "Date: 2017-06-15, Precipitation: 1.69\n",
      "Date: 2017-06-16, Precipitation: 0.1\n",
      "Date: 2017-06-17, Precipitation: 0.1\n",
      "Date: 2017-06-18, Precipitation: 0.7\n",
      "Date: 2017-06-19, Precipitation: 0.4\n",
      "Date: 2017-06-20, Precipitation: 0.31\n",
      "Date: 2017-06-21, Precipitation: 0.3\n",
      "Date: 2017-06-22, Precipitation: 0.28\n",
      "Date: 2017-06-23, Precipitation: 0.5\n",
      "Date: 2017-06-24, Precipitation: 0.22\n",
      "Date: 2017-06-25, Precipitation: 0.5\n",
      "Date: 2017-06-26, Precipitation: 0.02\n",
      "Date: 2017-06-27, Precipitation: 0.1\n",
      "Date: 2017-06-28, Precipitation: 0.02\n",
      "Date: 2017-06-29, Precipitation: 0.04\n",
      "Date: 2017-06-30, Precipitation: 0.2\n",
      "Date: 2017-07-01, Precipitation: 0.1\n",
      "Date: 2017-07-02, Precipitation: 0.5\n",
      "Date: 2017-07-03, Precipitation: 0.4\n",
      "Date: 2017-07-04, Precipitation: 0.0\n",
      "Date: 2017-07-05, Precipitation: 0.0\n",
      "Date: 2017-07-06, Precipitation: 0.02\n",
      "Date: 2017-07-07, Precipitation: 0.3\n",
      "Date: 2017-07-08, Precipitation: 0.02\n",
      "Date: 2017-07-09, Precipitation: 0.0\n",
      "Date: 2017-07-10, Precipitation: 0.02\n",
      "Date: 2017-07-11, Precipitation: 0.0\n",
      "Date: 2017-07-12, Precipitation: 0.05\n",
      "Date: 2017-07-13, Precipitation: 0.68\n",
      "Date: 2017-07-14, Precipitation: 0.68\n",
      "Date: 2017-07-15, Precipitation: 0.1\n",
      "Date: 2017-07-16, Precipitation: 0.5\n",
      "Date: 2017-07-17, Precipitation: 0.39\n",
      "Date: 2017-07-18, Precipitation: 2.4\n",
      "Date: 2017-07-19, Precipitation: 0.27\n",
      "Date: 2017-07-20, Precipitation: 0.7\n",
      "Date: 2017-07-21, Precipitation: 0.1\n",
      "Date: 2017-07-22, Precipitation: 4.0\n",
      "Date: 2017-07-23, Precipitation: 0.8\n",
      "Date: 2017-07-24, Precipitation: 0.84\n",
      "Date: 2017-07-25, Precipitation: 0.3\n",
      "Date: 2017-07-26, Precipitation: 0.3\n",
      "Date: 2017-07-27, Precipitation: 0.0\n",
      "Date: 2017-07-28, Precipitation: 0.4\n",
      "Date: 2017-07-29, Precipitation: 0.3\n",
      "Date: 2017-07-30, Precipitation: 0.3\n",
      "Date: 2017-07-31, Precipitation: 0.0\n",
      "Date: 2017-08-01, Precipitation: None\n",
      "Date: 2017-08-02, Precipitation: 0.25\n",
      "Date: 2017-08-03, Precipitation: 0.06\n",
      "Date: 2017-08-05, Precipitation: None\n",
      "Date: 2017-08-06, Precipitation: None\n",
      "Date: 2017-08-07, Precipitation: 0.05\n",
      "Date: 2017-08-08, Precipitation: 0.34\n",
      "Date: 2017-08-09, Precipitation: 0.15\n",
      "Date: 2017-08-10, Precipitation: 0.07\n",
      "Date: 2017-08-11, Precipitation: None\n",
      "Date: 2017-08-12, Precipitation: 0.14\n",
      "Date: 2017-08-13, Precipitation: None\n",
      "Date: 2017-08-14, Precipitation: 0.22\n",
      "Date: 2017-08-15, Precipitation: 0.42\n",
      "Date: 2017-08-16, Precipitation: 0.42\n",
      "Date: 2017-08-17, Precipitation: 0.13\n",
      "Date: 2017-08-18, Precipitation: None\n",
      "Date: 2017-08-19, Precipitation: 0.09\n",
      "Date: 2017-08-20, Precipitation: None\n",
      "Date: 2017-08-21, Precipitation: 0.56\n",
      "Date: 2017-08-22, Precipitation: 0.5\n",
      "Date: 2017-08-23, Precipitation: 0.45\n"
     ]
    }
   ],
   "source": [
    "# Perform a query to retrieve the data and precipitation scores\n",
    "results = session.query(Measurement.date, Measurement.prcp).filter(Measurement.date >= one_year_date).all()\n",
    "for result in results:\n",
    "    print(f\"Date: {result.date}, Precipitation: {result.prcp}\")"
   ]
  },
  {
   "cell_type": "code",
   "execution_count": 19,
   "metadata": {},
   "outputs": [
    {
     "output_type": "execute_result",
     "data": {
      "text/plain": [
       "            precipitation\n",
       "date                     \n",
       "2016-08-24           0.08\n",
       "2016-08-24            NaN\n",
       "2016-08-24           2.15\n",
       "2016-08-24           2.28\n",
       "2016-08-24           2.15\n",
       "...                   ...\n",
       "2017-08-22           0.00\n",
       "2017-08-23           0.08\n",
       "2017-08-23           0.00\n",
       "2017-08-23           0.00\n",
       "2017-08-23           0.45\n",
       "\n",
       "[2223 rows x 1 columns]"
      ],
      "text/html": "<div>\n<style scoped>\n    .dataframe tbody tr th:only-of-type {\n        vertical-align: middle;\n    }\n\n    .dataframe tbody tr th {\n        vertical-align: top;\n    }\n\n    .dataframe thead th {\n        text-align: right;\n    }\n</style>\n<table border=\"1\" class=\"dataframe\">\n  <thead>\n    <tr style=\"text-align: right;\">\n      <th></th>\n      <th>precipitation</th>\n    </tr>\n    <tr>\n      <th>date</th>\n      <th></th>\n    </tr>\n  </thead>\n  <tbody>\n    <tr>\n      <th>2016-08-24</th>\n      <td>0.08</td>\n    </tr>\n    <tr>\n      <th>2016-08-24</th>\n      <td>NaN</td>\n    </tr>\n    <tr>\n      <th>2016-08-24</th>\n      <td>2.15</td>\n    </tr>\n    <tr>\n      <th>2016-08-24</th>\n      <td>2.28</td>\n    </tr>\n    <tr>\n      <th>2016-08-24</th>\n      <td>2.15</td>\n    </tr>\n    <tr>\n      <th>...</th>\n      <td>...</td>\n    </tr>\n    <tr>\n      <th>2017-08-22</th>\n      <td>0.00</td>\n    </tr>\n    <tr>\n      <th>2017-08-23</th>\n      <td>0.08</td>\n    </tr>\n    <tr>\n      <th>2017-08-23</th>\n      <td>0.00</td>\n    </tr>\n    <tr>\n      <th>2017-08-23</th>\n      <td>0.00</td>\n    </tr>\n    <tr>\n      <th>2017-08-23</th>\n      <td>0.45</td>\n    </tr>\n  </tbody>\n</table>\n<p>2223 rows × 1 columns</p>\n</div>"
     },
     "metadata": {},
     "execution_count": 19
    }
   ],
   "source": [
    "# Save the query results as a Pandas DataFrame and set the index to the date column\n",
    "df = pd.DataFrame(results, columns=['date', 'precipitation'])\n",
    "df.set_index('date', inplace=True, )\n",
    "# Sort the dataframe by date\n",
    "df=df.sort_index()\n",
    "df"
   ]
  },
  {
   "cell_type": "code",
   "execution_count": 20,
   "metadata": {},
   "outputs": [
    {
     "output_type": "display_data",
     "data": {
      "text/plain": "<Figure size 432x288 with 1 Axes>",
      "image/svg+xml": "<?xml version=\"1.0\" encoding=\"utf-8\" standalone=\"no\"?>\r\n<!DOCTYPE svg PUBLIC \"-//W3C//DTD SVG 1.1//EN\"\r\n  \"http://www.w3.org/Graphics/SVG/1.1/DTD/svg11.dtd\">\r\n<!-- Created with matplotlib (https://matplotlib.org/) -->\r\n<svg height=\"374.119575pt\" version=\"1.1\" viewBox=\"0 0 436.263625 374.119575\" width=\"436.263625pt\" xmlns=\"http://www.w3.org/2000/svg\" xmlns:xlink=\"http://www.w3.org/1999/xlink\">\r\n <defs>\r\n  <style type=\"text/css\">\r\n*{stroke-linecap:butt;stroke-linejoin:round;}\r\n  </style>\r\n </defs>\r\n <g id=\"figure_1\">\r\n  <g id=\"patch_1\">\r\n   <path d=\"M 0 374.119575 \r\nL 436.263625 374.119575 \r\nL 436.263625 0 \r\nL 0 0 \r\nz\r\n\" style=\"fill:#f0f0f0;\"/>\r\n  </g>\r\n  <g id=\"axes_1\">\r\n   <g id=\"patch_2\">\r\n    <path d=\"M 53.223625 261.79845 \r\nL 429.063625 261.79845 \r\nL 429.063625 28.51845 \r\nL 53.223625 28.51845 \r\nz\r\n\" style=\"fill:#f0f0f0;\"/>\r\n   </g>\r\n   <g id=\"matplotlib.axis_1\">\r\n    <g id=\"xtick_1\">\r\n     <g id=\"line2d_1\">\r\n      <path clip-path=\"url(#p3feb0aa6e8)\" d=\"M 70.307261 261.79845 \r\nL 70.307261 28.51845 \r\n\" style=\"fill:none;stroke:#cbcbcb;\"/>\r\n     </g>\r\n     <g id=\"line2d_2\"/>\r\n     <g id=\"text_1\">\r\n      <!-- 2016-08-24 -->\r\n      <defs>\r\n       <path d=\"M 19.1875 8.296875 \r\nL 53.609375 8.296875 \r\nL 53.609375 0 \r\nL 7.328125 0 \r\nL 7.328125 8.296875 \r\nQ 12.9375 14.109375 22.625 23.890625 \r\nQ 32.328125 33.6875 34.8125 36.53125 \r\nQ 39.546875 41.84375 41.421875 45.53125 \r\nQ 43.3125 49.21875 43.3125 52.78125 \r\nQ 43.3125 58.59375 39.234375 62.25 \r\nQ 35.15625 65.921875 28.609375 65.921875 \r\nQ 23.96875 65.921875 18.8125 64.3125 \r\nQ 13.671875 62.703125 7.8125 59.421875 \r\nL 7.8125 69.390625 \r\nQ 13.765625 71.78125 18.9375 73 \r\nQ 24.125 74.21875 28.421875 74.21875 \r\nQ 39.75 74.21875 46.484375 68.546875 \r\nQ 53.21875 62.890625 53.21875 53.421875 \r\nQ 53.21875 48.921875 51.53125 44.890625 \r\nQ 49.859375 40.875 45.40625 35.40625 \r\nQ 44.1875 33.984375 37.640625 27.21875 \r\nQ 31.109375 20.453125 19.1875 8.296875 \r\nz\r\n\" id=\"DejaVuSans-50\"/>\r\n       <path d=\"M 31.78125 66.40625 \r\nQ 24.171875 66.40625 20.328125 58.90625 \r\nQ 16.5 51.421875 16.5 36.375 \r\nQ 16.5 21.390625 20.328125 13.890625 \r\nQ 24.171875 6.390625 31.78125 6.390625 \r\nQ 39.453125 6.390625 43.28125 13.890625 \r\nQ 47.125 21.390625 47.125 36.375 \r\nQ 47.125 51.421875 43.28125 58.90625 \r\nQ 39.453125 66.40625 31.78125 66.40625 \r\nz\r\nM 31.78125 74.21875 \r\nQ 44.046875 74.21875 50.515625 64.515625 \r\nQ 56.984375 54.828125 56.984375 36.375 \r\nQ 56.984375 17.96875 50.515625 8.265625 \r\nQ 44.046875 -1.421875 31.78125 -1.421875 \r\nQ 19.53125 -1.421875 13.0625 8.265625 \r\nQ 6.59375 17.96875 6.59375 36.375 \r\nQ 6.59375 54.828125 13.0625 64.515625 \r\nQ 19.53125 74.21875 31.78125 74.21875 \r\nz\r\n\" id=\"DejaVuSans-48\"/>\r\n       <path d=\"M 12.40625 8.296875 \r\nL 28.515625 8.296875 \r\nL 28.515625 63.921875 \r\nL 10.984375 60.40625 \r\nL 10.984375 69.390625 \r\nL 28.421875 72.90625 \r\nL 38.28125 72.90625 \r\nL 38.28125 8.296875 \r\nL 54.390625 8.296875 \r\nL 54.390625 0 \r\nL 12.40625 0 \r\nz\r\n\" id=\"DejaVuSans-49\"/>\r\n       <path d=\"M 33.015625 40.375 \r\nQ 26.375 40.375 22.484375 35.828125 \r\nQ 18.609375 31.296875 18.609375 23.390625 \r\nQ 18.609375 15.53125 22.484375 10.953125 \r\nQ 26.375 6.390625 33.015625 6.390625 \r\nQ 39.65625 6.390625 43.53125 10.953125 \r\nQ 47.40625 15.53125 47.40625 23.390625 \r\nQ 47.40625 31.296875 43.53125 35.828125 \r\nQ 39.65625 40.375 33.015625 40.375 \r\nz\r\nM 52.59375 71.296875 \r\nL 52.59375 62.3125 \r\nQ 48.875 64.0625 45.09375 64.984375 \r\nQ 41.3125 65.921875 37.59375 65.921875 \r\nQ 27.828125 65.921875 22.671875 59.328125 \r\nQ 17.53125 52.734375 16.796875 39.40625 \r\nQ 19.671875 43.65625 24.015625 45.921875 \r\nQ 28.375 48.1875 33.59375 48.1875 \r\nQ 44.578125 48.1875 50.953125 41.515625 \r\nQ 57.328125 34.859375 57.328125 23.390625 \r\nQ 57.328125 12.15625 50.6875 5.359375 \r\nQ 44.046875 -1.421875 33.015625 -1.421875 \r\nQ 20.359375 -1.421875 13.671875 8.265625 \r\nQ 6.984375 17.96875 6.984375 36.375 \r\nQ 6.984375 53.65625 15.1875 63.9375 \r\nQ 23.390625 74.21875 37.203125 74.21875 \r\nQ 40.921875 74.21875 44.703125 73.484375 \r\nQ 48.484375 72.75 52.59375 71.296875 \r\nz\r\n\" id=\"DejaVuSans-54\"/>\r\n       <path d=\"M 4.890625 31.390625 \r\nL 31.203125 31.390625 \r\nL 31.203125 23.390625 \r\nL 4.890625 23.390625 \r\nz\r\n\" id=\"DejaVuSans-45\"/>\r\n       <path d=\"M 31.78125 34.625 \r\nQ 24.75 34.625 20.71875 30.859375 \r\nQ 16.703125 27.09375 16.703125 20.515625 \r\nQ 16.703125 13.921875 20.71875 10.15625 \r\nQ 24.75 6.390625 31.78125 6.390625 \r\nQ 38.8125 6.390625 42.859375 10.171875 \r\nQ 46.921875 13.96875 46.921875 20.515625 \r\nQ 46.921875 27.09375 42.890625 30.859375 \r\nQ 38.875 34.625 31.78125 34.625 \r\nz\r\nM 21.921875 38.8125 \r\nQ 15.578125 40.375 12.03125 44.71875 \r\nQ 8.5 49.078125 8.5 55.328125 \r\nQ 8.5 64.0625 14.71875 69.140625 \r\nQ 20.953125 74.21875 31.78125 74.21875 \r\nQ 42.671875 74.21875 48.875 69.140625 \r\nQ 55.078125 64.0625 55.078125 55.328125 \r\nQ 55.078125 49.078125 51.53125 44.71875 \r\nQ 48 40.375 41.703125 38.8125 \r\nQ 48.828125 37.15625 52.796875 32.3125 \r\nQ 56.78125 27.484375 56.78125 20.515625 \r\nQ 56.78125 9.90625 50.3125 4.234375 \r\nQ 43.84375 -1.421875 31.78125 -1.421875 \r\nQ 19.734375 -1.421875 13.25 4.234375 \r\nQ 6.78125 9.90625 6.78125 20.515625 \r\nQ 6.78125 27.484375 10.78125 32.3125 \r\nQ 14.796875 37.15625 21.921875 38.8125 \r\nz\r\nM 18.3125 54.390625 \r\nQ 18.3125 48.734375 21.84375 45.5625 \r\nQ 25.390625 42.390625 31.78125 42.390625 \r\nQ 38.140625 42.390625 41.71875 45.5625 \r\nQ 45.3125 48.734375 45.3125 54.390625 \r\nQ 45.3125 60.0625 41.71875 63.234375 \r\nQ 38.140625 66.40625 31.78125 66.40625 \r\nQ 25.390625 66.40625 21.84375 63.234375 \r\nQ 18.3125 60.0625 18.3125 54.390625 \r\nz\r\n\" id=\"DejaVuSans-56\"/>\r\n       <path d=\"M 37.796875 64.3125 \r\nL 12.890625 25.390625 \r\nL 37.796875 25.390625 \r\nz\r\nM 35.203125 72.90625 \r\nL 47.609375 72.90625 \r\nL 47.609375 25.390625 \r\nL 58.015625 25.390625 \r\nL 58.015625 17.1875 \r\nL 47.609375 17.1875 \r\nL 47.609375 0 \r\nL 37.796875 0 \r\nL 37.796875 17.1875 \r\nL 4.890625 17.1875 \r\nL 4.890625 26.703125 \r\nz\r\n\" id=\"DejaVuSans-52\"/>\r\n      </defs>\r\n      <g transform=\"translate(74.170386 346.660325)rotate(-90)scale(0.14 -0.14)\">\r\n       <use xlink:href=\"#DejaVuSans-50\"/>\r\n       <use x=\"63.623047\" xlink:href=\"#DejaVuSans-48\"/>\r\n       <use x=\"127.246094\" xlink:href=\"#DejaVuSans-49\"/>\r\n       <use x=\"190.869141\" xlink:href=\"#DejaVuSans-54\"/>\r\n       <use x=\"254.492188\" xlink:href=\"#DejaVuSans-45\"/>\r\n       <use x=\"290.576172\" xlink:href=\"#DejaVuSans-48\"/>\r\n       <use x=\"354.199219\" xlink:href=\"#DejaVuSans-56\"/>\r\n       <use x=\"417.822266\" xlink:href=\"#DejaVuSans-45\"/>\r\n       <use x=\"453.90625\" xlink:href=\"#DejaVuSans-50\"/>\r\n       <use x=\"517.529297\" xlink:href=\"#DejaVuSans-52\"/>\r\n      </g>\r\n     </g>\r\n    </g>\r\n    <g id=\"xtick_2\">\r\n     <g id=\"line2d_3\">\r\n      <path clip-path=\"url(#p3feb0aa6e8)\" d=\"M 147.191313 261.79845 \r\nL 147.191313 28.51845 \r\n\" style=\"fill:none;stroke:#cbcbcb;\"/>\r\n     </g>\r\n     <g id=\"line2d_4\"/>\r\n     <g id=\"text_2\">\r\n      <!-- 2016-11-10 -->\r\n      <g transform=\"translate(151.054438 346.660325)rotate(-90)scale(0.14 -0.14)\">\r\n       <use xlink:href=\"#DejaVuSans-50\"/>\r\n       <use x=\"63.623047\" xlink:href=\"#DejaVuSans-48\"/>\r\n       <use x=\"127.246094\" xlink:href=\"#DejaVuSans-49\"/>\r\n       <use x=\"190.869141\" xlink:href=\"#DejaVuSans-54\"/>\r\n       <use x=\"254.492188\" xlink:href=\"#DejaVuSans-45\"/>\r\n       <use x=\"290.576172\" xlink:href=\"#DejaVuSans-49\"/>\r\n       <use x=\"354.199219\" xlink:href=\"#DejaVuSans-49\"/>\r\n       <use x=\"417.822266\" xlink:href=\"#DejaVuSans-45\"/>\r\n       <use x=\"453.90625\" xlink:href=\"#DejaVuSans-49\"/>\r\n       <use x=\"517.529297\" xlink:href=\"#DejaVuSans-48\"/>\r\n      </g>\r\n     </g>\r\n    </g>\r\n    <g id=\"xtick_3\">\r\n     <g id=\"line2d_5\">\r\n      <path clip-path=\"url(#p3feb0aa6e8)\" d=\"M 224.075365 261.79845 \r\nL 224.075365 28.51845 \r\n\" style=\"fill:none;stroke:#cbcbcb;\"/>\r\n     </g>\r\n     <g id=\"line2d_6\"/>\r\n     <g id=\"text_3\">\r\n      <!-- 2017-01-29 -->\r\n      <defs>\r\n       <path d=\"M 8.203125 72.90625 \r\nL 55.078125 72.90625 \r\nL 55.078125 68.703125 \r\nL 28.609375 0 \r\nL 18.3125 0 \r\nL 43.21875 64.59375 \r\nL 8.203125 64.59375 \r\nz\r\n\" id=\"DejaVuSans-55\"/>\r\n       <path d=\"M 10.984375 1.515625 \r\nL 10.984375 10.5 \r\nQ 14.703125 8.734375 18.5 7.8125 \r\nQ 22.3125 6.890625 25.984375 6.890625 \r\nQ 35.75 6.890625 40.890625 13.453125 \r\nQ 46.046875 20.015625 46.78125 33.40625 \r\nQ 43.953125 29.203125 39.59375 26.953125 \r\nQ 35.25 24.703125 29.984375 24.703125 \r\nQ 19.046875 24.703125 12.671875 31.3125 \r\nQ 6.296875 37.9375 6.296875 49.421875 \r\nQ 6.296875 60.640625 12.9375 67.421875 \r\nQ 19.578125 74.21875 30.609375 74.21875 \r\nQ 43.265625 74.21875 49.921875 64.515625 \r\nQ 56.59375 54.828125 56.59375 36.375 \r\nQ 56.59375 19.140625 48.40625 8.859375 \r\nQ 40.234375 -1.421875 26.421875 -1.421875 \r\nQ 22.703125 -1.421875 18.890625 -0.6875 \r\nQ 15.09375 0.046875 10.984375 1.515625 \r\nz\r\nM 30.609375 32.421875 \r\nQ 37.25 32.421875 41.125 36.953125 \r\nQ 45.015625 41.5 45.015625 49.421875 \r\nQ 45.015625 57.28125 41.125 61.84375 \r\nQ 37.25 66.40625 30.609375 66.40625 \r\nQ 23.96875 66.40625 20.09375 61.84375 \r\nQ 16.21875 57.28125 16.21875 49.421875 \r\nQ 16.21875 41.5 20.09375 36.953125 \r\nQ 23.96875 32.421875 30.609375 32.421875 \r\nz\r\n\" id=\"DejaVuSans-57\"/>\r\n      </defs>\r\n      <g transform=\"translate(227.93849 346.660325)rotate(-90)scale(0.14 -0.14)\">\r\n       <use xlink:href=\"#DejaVuSans-50\"/>\r\n       <use x=\"63.623047\" xlink:href=\"#DejaVuSans-48\"/>\r\n       <use x=\"127.246094\" xlink:href=\"#DejaVuSans-49\"/>\r\n       <use x=\"190.869141\" xlink:href=\"#DejaVuSans-55\"/>\r\n       <use x=\"254.492188\" xlink:href=\"#DejaVuSans-45\"/>\r\n       <use x=\"290.576172\" xlink:href=\"#DejaVuSans-48\"/>\r\n       <use x=\"354.199219\" xlink:href=\"#DejaVuSans-49\"/>\r\n       <use x=\"417.822266\" xlink:href=\"#DejaVuSans-45\"/>\r\n       <use x=\"453.90625\" xlink:href=\"#DejaVuSans-50\"/>\r\n       <use x=\"517.529297\" xlink:href=\"#DejaVuSans-57\"/>\r\n      </g>\r\n     </g>\r\n    </g>\r\n    <g id=\"xtick_4\">\r\n     <g id=\"line2d_7\">\r\n      <path clip-path=\"url(#p3feb0aa6e8)\" d=\"M 300.959417 261.79845 \r\nL 300.959417 28.51845 \r\n\" style=\"fill:none;stroke:#cbcbcb;\"/>\r\n     </g>\r\n     <g id=\"line2d_8\"/>\r\n     <g id=\"text_4\">\r\n      <!-- 2017-04-19 -->\r\n      <g transform=\"translate(304.822542 346.660325)rotate(-90)scale(0.14 -0.14)\">\r\n       <use xlink:href=\"#DejaVuSans-50\"/>\r\n       <use x=\"63.623047\" xlink:href=\"#DejaVuSans-48\"/>\r\n       <use x=\"127.246094\" xlink:href=\"#DejaVuSans-49\"/>\r\n       <use x=\"190.869141\" xlink:href=\"#DejaVuSans-55\"/>\r\n       <use x=\"254.492188\" xlink:href=\"#DejaVuSans-45\"/>\r\n       <use x=\"290.576172\" xlink:href=\"#DejaVuSans-48\"/>\r\n       <use x=\"354.199219\" xlink:href=\"#DejaVuSans-52\"/>\r\n       <use x=\"417.822266\" xlink:href=\"#DejaVuSans-45\"/>\r\n       <use x=\"453.90625\" xlink:href=\"#DejaVuSans-49\"/>\r\n       <use x=\"517.529297\" xlink:href=\"#DejaVuSans-57\"/>\r\n      </g>\r\n     </g>\r\n    </g>\r\n    <g id=\"xtick_5\">\r\n     <g id=\"line2d_9\">\r\n      <path clip-path=\"url(#p3feb0aa6e8)\" d=\"M 377.84347 261.79845 \r\nL 377.84347 28.51845 \r\n\" style=\"fill:none;stroke:#cbcbcb;\"/>\r\n     </g>\r\n     <g id=\"line2d_10\"/>\r\n     <g id=\"text_5\">\r\n      <!-- 2017-07-11 -->\r\n      <g transform=\"translate(381.706595 346.660325)rotate(-90)scale(0.14 -0.14)\">\r\n       <use xlink:href=\"#DejaVuSans-50\"/>\r\n       <use x=\"63.623047\" xlink:href=\"#DejaVuSans-48\"/>\r\n       <use x=\"127.246094\" xlink:href=\"#DejaVuSans-49\"/>\r\n       <use x=\"190.869141\" xlink:href=\"#DejaVuSans-55\"/>\r\n       <use x=\"254.492188\" xlink:href=\"#DejaVuSans-45\"/>\r\n       <use x=\"290.576172\" xlink:href=\"#DejaVuSans-48\"/>\r\n       <use x=\"354.199219\" xlink:href=\"#DejaVuSans-55\"/>\r\n       <use x=\"417.822266\" xlink:href=\"#DejaVuSans-45\"/>\r\n       <use x=\"453.90625\" xlink:href=\"#DejaVuSans-49\"/>\r\n       <use x=\"517.529297\" xlink:href=\"#DejaVuSans-49\"/>\r\n      </g>\r\n     </g>\r\n    </g>\r\n    <g id=\"text_6\">\r\n     <!-- Date -->\r\n     <defs>\r\n      <path d=\"M 19.671875 64.796875 \r\nL 19.671875 8.109375 \r\nL 31.59375 8.109375 \r\nQ 46.6875 8.109375 53.6875 14.9375 \r\nQ 60.6875 21.78125 60.6875 36.53125 \r\nQ 60.6875 51.171875 53.6875 57.984375 \r\nQ 46.6875 64.796875 31.59375 64.796875 \r\nz\r\nM 9.8125 72.90625 \r\nL 30.078125 72.90625 \r\nQ 51.265625 72.90625 61.171875 64.09375 \r\nQ 71.09375 55.28125 71.09375 36.53125 \r\nQ 71.09375 17.671875 61.125 8.828125 \r\nQ 51.171875 0 30.078125 0 \r\nL 9.8125 0 \r\nz\r\n\" id=\"DejaVuSans-68\"/>\r\n      <path d=\"M 34.28125 27.484375 \r\nQ 23.390625 27.484375 19.1875 25 \r\nQ 14.984375 22.515625 14.984375 16.5 \r\nQ 14.984375 11.71875 18.140625 8.90625 \r\nQ 21.296875 6.109375 26.703125 6.109375 \r\nQ 34.1875 6.109375 38.703125 11.40625 \r\nQ 43.21875 16.703125 43.21875 25.484375 \r\nL 43.21875 27.484375 \r\nz\r\nM 52.203125 31.203125 \r\nL 52.203125 0 \r\nL 43.21875 0 \r\nL 43.21875 8.296875 \r\nQ 40.140625 3.328125 35.546875 0.953125 \r\nQ 30.953125 -1.421875 24.3125 -1.421875 \r\nQ 15.921875 -1.421875 10.953125 3.296875 \r\nQ 6 8.015625 6 15.921875 \r\nQ 6 25.140625 12.171875 29.828125 \r\nQ 18.359375 34.515625 30.609375 34.515625 \r\nL 43.21875 34.515625 \r\nL 43.21875 35.40625 \r\nQ 43.21875 41.609375 39.140625 45 \r\nQ 35.0625 48.390625 27.6875 48.390625 \r\nQ 23 48.390625 18.546875 47.265625 \r\nQ 14.109375 46.140625 10.015625 43.890625 \r\nL 10.015625 52.203125 \r\nQ 14.9375 54.109375 19.578125 55.046875 \r\nQ 24.21875 56 28.609375 56 \r\nQ 40.484375 56 46.34375 49.84375 \r\nQ 52.203125 43.703125 52.203125 31.203125 \r\nz\r\n\" id=\"DejaVuSans-97\"/>\r\n      <path d=\"M 18.3125 70.21875 \r\nL 18.3125 54.6875 \r\nL 36.8125 54.6875 \r\nL 36.8125 47.703125 \r\nL 18.3125 47.703125 \r\nL 18.3125 18.015625 \r\nQ 18.3125 11.328125 20.140625 9.421875 \r\nQ 21.96875 7.515625 27.59375 7.515625 \r\nL 36.8125 7.515625 \r\nL 36.8125 0 \r\nL 27.59375 0 \r\nQ 17.1875 0 13.234375 3.875 \r\nQ 9.28125 7.765625 9.28125 18.015625 \r\nL 9.28125 47.703125 \r\nL 2.6875 47.703125 \r\nL 2.6875 54.6875 \r\nL 9.28125 54.6875 \r\nL 9.28125 70.21875 \r\nz\r\n\" id=\"DejaVuSans-116\"/>\r\n      <path d=\"M 56.203125 29.59375 \r\nL 56.203125 25.203125 \r\nL 14.890625 25.203125 \r\nQ 15.484375 15.921875 20.484375 11.0625 \r\nQ 25.484375 6.203125 34.421875 6.203125 \r\nQ 39.59375 6.203125 44.453125 7.46875 \r\nQ 49.3125 8.734375 54.109375 11.28125 \r\nL 54.109375 2.78125 \r\nQ 49.265625 0.734375 44.1875 -0.34375 \r\nQ 39.109375 -1.421875 33.890625 -1.421875 \r\nQ 20.796875 -1.421875 13.15625 6.1875 \r\nQ 5.515625 13.8125 5.515625 26.8125 \r\nQ 5.515625 40.234375 12.765625 48.109375 \r\nQ 20.015625 56 32.328125 56 \r\nQ 43.359375 56 49.78125 48.890625 \r\nQ 56.203125 41.796875 56.203125 29.59375 \r\nz\r\nM 47.21875 32.234375 \r\nQ 47.125 39.59375 43.09375 43.984375 \r\nQ 39.0625 48.390625 32.421875 48.390625 \r\nQ 24.90625 48.390625 20.390625 44.140625 \r\nQ 15.875 39.890625 15.1875 32.171875 \r\nz\r\n\" id=\"DejaVuSans-101\"/>\r\n     </defs>\r\n     <g transform=\"translate(221.066313 363.4257)scale(0.168 -0.168)\">\r\n      <use xlink:href=\"#DejaVuSans-68\"/>\r\n      <use x=\"77.001953\" xlink:href=\"#DejaVuSans-97\"/>\r\n      <use x=\"138.28125\" xlink:href=\"#DejaVuSans-116\"/>\r\n      <use x=\"177.490234\" xlink:href=\"#DejaVuSans-101\"/>\r\n     </g>\r\n    </g>\r\n   </g>\r\n   <g id=\"matplotlib.axis_2\">\r\n    <g id=\"ytick_1\">\r\n     <g id=\"line2d_11\">\r\n      <path clip-path=\"url(#p3feb0aa6e8)\" d=\"M 53.223625 251.194814 \r\nL 429.063625 251.194814 \r\n\" style=\"fill:none;stroke:#cbcbcb;\"/>\r\n     </g>\r\n     <g id=\"line2d_12\"/>\r\n     <g id=\"text_7\">\r\n      <!-- 0.0 -->\r\n      <defs>\r\n       <path d=\"M 10.6875 12.40625 \r\nL 21 12.40625 \r\nL 21 0 \r\nL 10.6875 0 \r\nz\r\n\" id=\"DejaVuSans-46\"/>\r\n      </defs>\r\n      <g transform=\"translate(27.45925 256.51372)scale(0.14 -0.14)\">\r\n       <use xlink:href=\"#DejaVuSans-48\"/>\r\n       <use x=\"63.623047\" xlink:href=\"#DejaVuSans-46\"/>\r\n       <use x=\"95.410156\" xlink:href=\"#DejaVuSans-48\"/>\r\n      </g>\r\n     </g>\r\n    </g>\r\n    <g id=\"ytick_2\">\r\n     <g id=\"line2d_13\">\r\n      <path clip-path=\"url(#p3feb0aa6e8)\" d=\"M 53.223625 235.368491 \r\nL 429.063625 235.368491 \r\n\" style=\"fill:none;stroke:#cbcbcb;\"/>\r\n     </g>\r\n     <g id=\"line2d_14\"/>\r\n     <g id=\"text_8\">\r\n      <!-- 0.5 -->\r\n      <defs>\r\n       <path d=\"M 10.796875 72.90625 \r\nL 49.515625 72.90625 \r\nL 49.515625 64.59375 \r\nL 19.828125 64.59375 \r\nL 19.828125 46.734375 \r\nQ 21.96875 47.46875 24.109375 47.828125 \r\nQ 26.265625 48.1875 28.421875 48.1875 \r\nQ 40.625 48.1875 47.75 41.5 \r\nQ 54.890625 34.8125 54.890625 23.390625 \r\nQ 54.890625 11.625 47.5625 5.09375 \r\nQ 40.234375 -1.421875 26.90625 -1.421875 \r\nQ 22.3125 -1.421875 17.546875 -0.640625 \r\nQ 12.796875 0.140625 7.71875 1.703125 \r\nL 7.71875 11.625 \r\nQ 12.109375 9.234375 16.796875 8.0625 \r\nQ 21.484375 6.890625 26.703125 6.890625 \r\nQ 35.15625 6.890625 40.078125 11.328125 \r\nQ 45.015625 15.765625 45.015625 23.390625 \r\nQ 45.015625 31 40.078125 35.4375 \r\nQ 35.15625 39.890625 26.703125 39.890625 \r\nQ 22.75 39.890625 18.8125 39.015625 \r\nQ 14.890625 38.140625 10.796875 36.28125 \r\nz\r\n\" id=\"DejaVuSans-53\"/>\r\n      </defs>\r\n      <g transform=\"translate(27.45925 240.687397)scale(0.14 -0.14)\">\r\n       <use xlink:href=\"#DejaVuSans-48\"/>\r\n       <use x=\"63.623047\" xlink:href=\"#DejaVuSans-46\"/>\r\n       <use x=\"95.410156\" xlink:href=\"#DejaVuSans-53\"/>\r\n      </g>\r\n     </g>\r\n    </g>\r\n    <g id=\"ytick_3\">\r\n     <g id=\"line2d_15\">\r\n      <path clip-path=\"url(#p3feb0aa6e8)\" d=\"M 53.223625 219.542168 \r\nL 429.063625 219.542168 \r\n\" style=\"fill:none;stroke:#cbcbcb;\"/>\r\n     </g>\r\n     <g id=\"line2d_16\"/>\r\n     <g id=\"text_9\">\r\n      <!-- 1.0 -->\r\n      <g transform=\"translate(27.45925 224.861074)scale(0.14 -0.14)\">\r\n       <use xlink:href=\"#DejaVuSans-49\"/>\r\n       <use x=\"63.623047\" xlink:href=\"#DejaVuSans-46\"/>\r\n       <use x=\"95.410156\" xlink:href=\"#DejaVuSans-48\"/>\r\n      </g>\r\n     </g>\r\n    </g>\r\n    <g id=\"ytick_4\">\r\n     <g id=\"line2d_17\">\r\n      <path clip-path=\"url(#p3feb0aa6e8)\" d=\"M 53.223625 203.715845 \r\nL 429.063625 203.715845 \r\n\" style=\"fill:none;stroke:#cbcbcb;\"/>\r\n     </g>\r\n     <g id=\"line2d_18\"/>\r\n     <g id=\"text_10\">\r\n      <!-- 1.5 -->\r\n      <g transform=\"translate(27.45925 209.034751)scale(0.14 -0.14)\">\r\n       <use xlink:href=\"#DejaVuSans-49\"/>\r\n       <use x=\"63.623047\" xlink:href=\"#DejaVuSans-46\"/>\r\n       <use x=\"95.410156\" xlink:href=\"#DejaVuSans-53\"/>\r\n      </g>\r\n     </g>\r\n    </g>\r\n    <g id=\"ytick_5\">\r\n     <g id=\"line2d_19\">\r\n      <path clip-path=\"url(#p3feb0aa6e8)\" d=\"M 53.223625 187.889522 \r\nL 429.063625 187.889522 \r\n\" style=\"fill:none;stroke:#cbcbcb;\"/>\r\n     </g>\r\n     <g id=\"line2d_20\"/>\r\n     <g id=\"text_11\">\r\n      <!-- 2.0 -->\r\n      <g transform=\"translate(27.45925 193.208428)scale(0.14 -0.14)\">\r\n       <use xlink:href=\"#DejaVuSans-50\"/>\r\n       <use x=\"63.623047\" xlink:href=\"#DejaVuSans-46\"/>\r\n       <use x=\"95.410156\" xlink:href=\"#DejaVuSans-48\"/>\r\n      </g>\r\n     </g>\r\n    </g>\r\n    <g id=\"ytick_6\">\r\n     <g id=\"line2d_21\">\r\n      <path clip-path=\"url(#p3feb0aa6e8)\" d=\"M 53.223625 172.063199 \r\nL 429.063625 172.063199 \r\n\" style=\"fill:none;stroke:#cbcbcb;\"/>\r\n     </g>\r\n     <g id=\"line2d_22\"/>\r\n     <g id=\"text_12\">\r\n      <!-- 2.5 -->\r\n      <g transform=\"translate(27.45925 177.382105)scale(0.14 -0.14)\">\r\n       <use xlink:href=\"#DejaVuSans-50\"/>\r\n       <use x=\"63.623047\" xlink:href=\"#DejaVuSans-46\"/>\r\n       <use x=\"95.410156\" xlink:href=\"#DejaVuSans-53\"/>\r\n      </g>\r\n     </g>\r\n    </g>\r\n    <g id=\"ytick_7\">\r\n     <g id=\"line2d_23\">\r\n      <path clip-path=\"url(#p3feb0aa6e8)\" d=\"M 53.223625 156.236876 \r\nL 429.063625 156.236876 \r\n\" style=\"fill:none;stroke:#cbcbcb;\"/>\r\n     </g>\r\n     <g id=\"line2d_24\"/>\r\n     <g id=\"text_13\">\r\n      <!-- 3.0 -->\r\n      <defs>\r\n       <path d=\"M 40.578125 39.3125 \r\nQ 47.65625 37.796875 51.625 33 \r\nQ 55.609375 28.21875 55.609375 21.1875 \r\nQ 55.609375 10.40625 48.1875 4.484375 \r\nQ 40.765625 -1.421875 27.09375 -1.421875 \r\nQ 22.515625 -1.421875 17.65625 -0.515625 \r\nQ 12.796875 0.390625 7.625 2.203125 \r\nL 7.625 11.71875 \r\nQ 11.71875 9.328125 16.59375 8.109375 \r\nQ 21.484375 6.890625 26.8125 6.890625 \r\nQ 36.078125 6.890625 40.9375 10.546875 \r\nQ 45.796875 14.203125 45.796875 21.1875 \r\nQ 45.796875 27.640625 41.28125 31.265625 \r\nQ 36.765625 34.90625 28.71875 34.90625 \r\nL 20.21875 34.90625 \r\nL 20.21875 43.015625 \r\nL 29.109375 43.015625 \r\nQ 36.375 43.015625 40.234375 45.921875 \r\nQ 44.09375 48.828125 44.09375 54.296875 \r\nQ 44.09375 59.90625 40.109375 62.90625 \r\nQ 36.140625 65.921875 28.71875 65.921875 \r\nQ 24.65625 65.921875 20.015625 65.03125 \r\nQ 15.375 64.15625 9.8125 62.3125 \r\nL 9.8125 71.09375 \r\nQ 15.4375 72.65625 20.34375 73.4375 \r\nQ 25.25 74.21875 29.59375 74.21875 \r\nQ 40.828125 74.21875 47.359375 69.109375 \r\nQ 53.90625 64.015625 53.90625 55.328125 \r\nQ 53.90625 49.265625 50.4375 45.09375 \r\nQ 46.96875 40.921875 40.578125 39.3125 \r\nz\r\n\" id=\"DejaVuSans-51\"/>\r\n      </defs>\r\n      <g transform=\"translate(27.45925 161.555782)scale(0.14 -0.14)\">\r\n       <use xlink:href=\"#DejaVuSans-51\"/>\r\n       <use x=\"63.623047\" xlink:href=\"#DejaVuSans-46\"/>\r\n       <use x=\"95.410156\" xlink:href=\"#DejaVuSans-48\"/>\r\n      </g>\r\n     </g>\r\n    </g>\r\n    <g id=\"ytick_8\">\r\n     <g id=\"line2d_25\">\r\n      <path clip-path=\"url(#p3feb0aa6e8)\" d=\"M 53.223625 140.410553 \r\nL 429.063625 140.410553 \r\n\" style=\"fill:none;stroke:#cbcbcb;\"/>\r\n     </g>\r\n     <g id=\"line2d_26\"/>\r\n     <g id=\"text_14\">\r\n      <!-- 3.5 -->\r\n      <g transform=\"translate(27.45925 145.729459)scale(0.14 -0.14)\">\r\n       <use xlink:href=\"#DejaVuSans-51\"/>\r\n       <use x=\"63.623047\" xlink:href=\"#DejaVuSans-46\"/>\r\n       <use x=\"95.410156\" xlink:href=\"#DejaVuSans-53\"/>\r\n      </g>\r\n     </g>\r\n    </g>\r\n    <g id=\"ytick_9\">\r\n     <g id=\"line2d_27\">\r\n      <path clip-path=\"url(#p3feb0aa6e8)\" d=\"M 53.223625 124.58423 \r\nL 429.063625 124.58423 \r\n\" style=\"fill:none;stroke:#cbcbcb;\"/>\r\n     </g>\r\n     <g id=\"line2d_28\"/>\r\n     <g id=\"text_15\">\r\n      <!-- 4.0 -->\r\n      <g transform=\"translate(27.45925 129.903136)scale(0.14 -0.14)\">\r\n       <use xlink:href=\"#DejaVuSans-52\"/>\r\n       <use x=\"63.623047\" xlink:href=\"#DejaVuSans-46\"/>\r\n       <use x=\"95.410156\" xlink:href=\"#DejaVuSans-48\"/>\r\n      </g>\r\n     </g>\r\n    </g>\r\n    <g id=\"ytick_10\">\r\n     <g id=\"line2d_29\">\r\n      <path clip-path=\"url(#p3feb0aa6e8)\" d=\"M 53.223625 108.757907 \r\nL 429.063625 108.757907 \r\n\" style=\"fill:none;stroke:#cbcbcb;\"/>\r\n     </g>\r\n     <g id=\"line2d_30\"/>\r\n     <g id=\"text_16\">\r\n      <!-- 4.5 -->\r\n      <g transform=\"translate(27.45925 114.076814)scale(0.14 -0.14)\">\r\n       <use xlink:href=\"#DejaVuSans-52\"/>\r\n       <use x=\"63.623047\" xlink:href=\"#DejaVuSans-46\"/>\r\n       <use x=\"95.410156\" xlink:href=\"#DejaVuSans-53\"/>\r\n      </g>\r\n     </g>\r\n    </g>\r\n    <g id=\"ytick_11\">\r\n     <g id=\"line2d_31\">\r\n      <path clip-path=\"url(#p3feb0aa6e8)\" d=\"M 53.223625 92.931584 \r\nL 429.063625 92.931584 \r\n\" style=\"fill:none;stroke:#cbcbcb;\"/>\r\n     </g>\r\n     <g id=\"line2d_32\"/>\r\n     <g id=\"text_17\">\r\n      <!-- 5.0 -->\r\n      <g transform=\"translate(27.45925 98.250491)scale(0.14 -0.14)\">\r\n       <use xlink:href=\"#DejaVuSans-53\"/>\r\n       <use x=\"63.623047\" xlink:href=\"#DejaVuSans-46\"/>\r\n       <use x=\"95.410156\" xlink:href=\"#DejaVuSans-48\"/>\r\n      </g>\r\n     </g>\r\n    </g>\r\n    <g id=\"ytick_12\">\r\n     <g id=\"line2d_33\">\r\n      <path clip-path=\"url(#p3feb0aa6e8)\" d=\"M 53.223625 77.105261 \r\nL 429.063625 77.105261 \r\n\" style=\"fill:none;stroke:#cbcbcb;\"/>\r\n     </g>\r\n     <g id=\"line2d_34\"/>\r\n     <g id=\"text_18\">\r\n      <!-- 5.5 -->\r\n      <g transform=\"translate(27.45925 82.424168)scale(0.14 -0.14)\">\r\n       <use xlink:href=\"#DejaVuSans-53\"/>\r\n       <use x=\"63.623047\" xlink:href=\"#DejaVuSans-46\"/>\r\n       <use x=\"95.410156\" xlink:href=\"#DejaVuSans-53\"/>\r\n      </g>\r\n     </g>\r\n    </g>\r\n    <g id=\"ytick_13\">\r\n     <g id=\"line2d_35\">\r\n      <path clip-path=\"url(#p3feb0aa6e8)\" d=\"M 53.223625 61.278938 \r\nL 429.063625 61.278938 \r\n\" style=\"fill:none;stroke:#cbcbcb;\"/>\r\n     </g>\r\n     <g id=\"line2d_36\"/>\r\n     <g id=\"text_19\">\r\n      <!-- 6.0 -->\r\n      <g transform=\"translate(27.45925 66.597845)scale(0.14 -0.14)\">\r\n       <use xlink:href=\"#DejaVuSans-54\"/>\r\n       <use x=\"63.623047\" xlink:href=\"#DejaVuSans-46\"/>\r\n       <use x=\"95.410156\" xlink:href=\"#DejaVuSans-48\"/>\r\n      </g>\r\n     </g>\r\n    </g>\r\n    <g id=\"ytick_14\">\r\n     <g id=\"line2d_37\">\r\n      <path clip-path=\"url(#p3feb0aa6e8)\" d=\"M 53.223625 45.452616 \r\nL 429.063625 45.452616 \r\n\" style=\"fill:none;stroke:#cbcbcb;\"/>\r\n     </g>\r\n     <g id=\"line2d_38\"/>\r\n     <g id=\"text_20\">\r\n      <!-- 6.5 -->\r\n      <g transform=\"translate(27.45925 50.771522)scale(0.14 -0.14)\">\r\n       <use xlink:href=\"#DejaVuSans-54\"/>\r\n       <use x=\"63.623047\" xlink:href=\"#DejaVuSans-46\"/>\r\n       <use x=\"95.410156\" xlink:href=\"#DejaVuSans-53\"/>\r\n      </g>\r\n     </g>\r\n    </g>\r\n    <g id=\"text_21\">\r\n     <!-- Inches -->\r\n     <defs>\r\n      <path d=\"M 9.8125 72.90625 \r\nL 19.671875 72.90625 \r\nL 19.671875 0 \r\nL 9.8125 0 \r\nz\r\n\" id=\"DejaVuSans-73\"/>\r\n      <path d=\"M 54.890625 33.015625 \r\nL 54.890625 0 \r\nL 45.90625 0 \r\nL 45.90625 32.71875 \r\nQ 45.90625 40.484375 42.875 44.328125 \r\nQ 39.84375 48.1875 33.796875 48.1875 \r\nQ 26.515625 48.1875 22.3125 43.546875 \r\nQ 18.109375 38.921875 18.109375 30.90625 \r\nL 18.109375 0 \r\nL 9.078125 0 \r\nL 9.078125 54.6875 \r\nL 18.109375 54.6875 \r\nL 18.109375 46.1875 \r\nQ 21.34375 51.125 25.703125 53.5625 \r\nQ 30.078125 56 35.796875 56 \r\nQ 45.21875 56 50.046875 50.171875 \r\nQ 54.890625 44.34375 54.890625 33.015625 \r\nz\r\n\" id=\"DejaVuSans-110\"/>\r\n      <path d=\"M 48.78125 52.59375 \r\nL 48.78125 44.1875 \r\nQ 44.96875 46.296875 41.140625 47.34375 \r\nQ 37.3125 48.390625 33.40625 48.390625 \r\nQ 24.65625 48.390625 19.8125 42.84375 \r\nQ 14.984375 37.3125 14.984375 27.296875 \r\nQ 14.984375 17.28125 19.8125 11.734375 \r\nQ 24.65625 6.203125 33.40625 6.203125 \r\nQ 37.3125 6.203125 41.140625 7.25 \r\nQ 44.96875 8.296875 48.78125 10.40625 \r\nL 48.78125 2.09375 \r\nQ 45.015625 0.34375 40.984375 -0.53125 \r\nQ 36.96875 -1.421875 32.421875 -1.421875 \r\nQ 20.0625 -1.421875 12.78125 6.34375 \r\nQ 5.515625 14.109375 5.515625 27.296875 \r\nQ 5.515625 40.671875 12.859375 48.328125 \r\nQ 20.21875 56 33.015625 56 \r\nQ 37.15625 56 41.109375 55.140625 \r\nQ 45.0625 54.296875 48.78125 52.59375 \r\nz\r\n\" id=\"DejaVuSans-99\"/>\r\n      <path d=\"M 54.890625 33.015625 \r\nL 54.890625 0 \r\nL 45.90625 0 \r\nL 45.90625 32.71875 \r\nQ 45.90625 40.484375 42.875 44.328125 \r\nQ 39.84375 48.1875 33.796875 48.1875 \r\nQ 26.515625 48.1875 22.3125 43.546875 \r\nQ 18.109375 38.921875 18.109375 30.90625 \r\nL 18.109375 0 \r\nL 9.078125 0 \r\nL 9.078125 75.984375 \r\nL 18.109375 75.984375 \r\nL 18.109375 46.1875 \r\nQ 21.34375 51.125 25.703125 53.5625 \r\nQ 30.078125 56 35.796875 56 \r\nQ 45.21875 56 50.046875 50.171875 \r\nQ 54.890625 44.34375 54.890625 33.015625 \r\nz\r\n\" id=\"DejaVuSans-104\"/>\r\n      <path d=\"M 44.28125 53.078125 \r\nL 44.28125 44.578125 \r\nQ 40.484375 46.53125 36.375 47.5 \r\nQ 32.28125 48.484375 27.875 48.484375 \r\nQ 21.1875 48.484375 17.84375 46.4375 \r\nQ 14.5 44.390625 14.5 40.28125 \r\nQ 14.5 37.15625 16.890625 35.375 \r\nQ 19.28125 33.59375 26.515625 31.984375 \r\nL 29.59375 31.296875 \r\nQ 39.15625 29.25 43.1875 25.515625 \r\nQ 47.21875 21.78125 47.21875 15.09375 \r\nQ 47.21875 7.46875 41.1875 3.015625 \r\nQ 35.15625 -1.421875 24.609375 -1.421875 \r\nQ 20.21875 -1.421875 15.453125 -0.5625 \r\nQ 10.6875 0.296875 5.421875 2 \r\nL 5.421875 11.28125 \r\nQ 10.40625 8.6875 15.234375 7.390625 \r\nQ 20.0625 6.109375 24.8125 6.109375 \r\nQ 31.15625 6.109375 34.5625 8.28125 \r\nQ 37.984375 10.453125 37.984375 14.40625 \r\nQ 37.984375 18.0625 35.515625 20.015625 \r\nQ 33.0625 21.96875 24.703125 23.78125 \r\nL 21.578125 24.515625 \r\nQ 13.234375 26.265625 9.515625 29.90625 \r\nQ 5.8125 33.546875 5.8125 39.890625 \r\nQ 5.8125 47.609375 11.28125 51.796875 \r\nQ 16.75 56 26.8125 56 \r\nQ 31.78125 56 36.171875 55.265625 \r\nQ 40.578125 54.546875 44.28125 53.078125 \r\nz\r\n\" id=\"DejaVuSans-115\"/>\r\n     </defs>\r\n     <g transform=\"translate(19.965375 172.446638)rotate(-90)scale(0.168 -0.168)\">\r\n      <use xlink:href=\"#DejaVuSans-73\"/>\r\n      <use x=\"29.492188\" xlink:href=\"#DejaVuSans-110\"/>\r\n      <use x=\"92.871094\" xlink:href=\"#DejaVuSans-99\"/>\r\n      <use x=\"147.851562\" xlink:href=\"#DejaVuSans-104\"/>\r\n      <use x=\"211.230469\" xlink:href=\"#DejaVuSans-101\"/>\r\n      <use x=\"272.753906\" xlink:href=\"#DejaVuSans-115\"/>\r\n     </g>\r\n    </g>\r\n   </g>\r\n   <g id=\"line2d_39\">\r\n    <path clip-path=\"url(#p3feb0aa6e8)\" d=\"M 70.614798 183.141625 \r\nL 70.768566 179.026781 \r\nL 70.922334 183.141625 \r\nL 71.383638 248.662602 \r\nL 71.537406 251.194814 \r\nL 71.691174 249.295655 \r\nL 71.844942 251.194814 \r\nL 71.998711 244.547758 \r\nL 72.306247 248.662602 \r\nL 72.460015 250.561761 \r\nL 72.613783 250.245234 \r\nL 72.921319 251.194814 \r\nL 73.075087 249.928708 \r\nL 73.228855 251.194814 \r\nL 73.382623 247.396496 \r\nL 73.536392 251.194814 \r\nL 73.69016 245.497337 \r\nM 73.997696 251.194814 \r\nL 74.151464 250.561761 \r\nL 74.305232 246.763443 \r\nL 74.459 232.203226 \r\nL 74.612768 246.763443 \r\nL 74.766536 246.763443 \r\nL 74.920304 250.878287 \r\nL 75.074073 185.673837 \r\nL 75.227841 249.928708 \r\nL 75.381609 251.194814 \r\nM 75.689145 245.813864 \r\nL 75.842913 240.116388 \r\nL 75.996681 251.194814 \r\nL 76.150449 222.707432 \r\nL 76.304217 251.194814 \r\nL 76.611754 251.194814 \r\nL 76.765522 249.612181 \r\nL 76.91929 251.194814 \r\nL 77.073058 250.561761 \r\nL 77.380594 243.598179 \r\nL 77.534362 248.029549 \r\nL 77.68813 173.329305 \r\nM 78.149435 243.281652 \r\nL 78.303203 251.194814 \r\nL 78.456971 250.561761 \r\nL 78.610739 251.194814 \r\nM 78.918275 250.878287 \r\nL 79.072043 251.194814 \r\nL 79.225811 250.561761 \r\nL 79.37958 250.878287 \r\nL 79.533348 250.245234 \r\nM 80.14842 245.180811 \r\nL 80.302188 251.194814 \r\nL 80.455956 219.542168 \r\nL 80.609724 248.662602 \r\nL 80.763492 248.979128 \r\nL 80.917261 247.396496 \r\nL 81.071029 250.245234 \r\nL 81.224797 246.763443 \r\nL 81.378565 227.771856 \r\nL 81.839869 250.561761 \r\nM 82.147405 245.497337 \r\nL 82.301173 250.245234 \r\nL 82.454942 247.713023 \r\nM 82.762478 249.612181 \r\nL 82.916246 249.928708 \r\nM 83.223782 219.542168 \r\nL 83.37755 247.713023 \r\nL 83.531318 250.245234 \r\nL 83.685086 246.13039 \r\nL 83.838855 247.713023 \r\nL 83.992623 248.029549 \r\nL 84.146391 208.463742 \r\nL 84.300159 243.914705 \r\nL 84.453927 249.612181 \r\nL 84.607695 244.231232 \r\nM 84.915231 248.979128 \r\nL 85.068999 250.878287 \r\nL 85.222767 251.194814 \r\nL 85.376536 246.446917 \r\nL 85.530304 250.878287 \r\nL 85.684072 250.245234 \r\nL 85.83784 240.116388 \r\nM 86.145376 250.878287 \r\nL 86.452912 242.015546 \r\nL 87.067985 250.878287 \r\nL 87.221753 214.477744 \r\nL 87.375521 251.194814 \r\nL 87.529289 245.497337 \r\nL 87.683057 232.203226 \r\nL 87.990593 247.396496 \r\nL 88.144361 249.612181 \r\nL 88.29813 218.276062 \r\nM 88.605666 241.382493 \r\nL 88.759434 251.194814 \r\nL 88.913202 246.446917 \r\nM 89.220738 249.928708 \r\nL 89.374506 236.634597 \r\nL 89.528274 241.065967 \r\nM 89.835811 213.211639 \r\nL 90.143347 250.561761 \r\nL 90.297115 240.432914 \r\nL 90.450883 39.122086 \r\nL 90.604651 222.707432 \r\nL 90.912187 177.444149 \r\nL 91.065955 213.528165 \r\nL 91.219724 209.413321 \r\nM 91.52726 247.396496 \r\nL 91.681028 245.813864 \r\nL 91.834796 248.979128 \r\nL 91.988564 145.15845 \r\nM 92.2961 224.923118 \r\nL 92.603636 250.878287 \r\nL 92.757405 231.8867 \r\nL 92.911173 251.194814 \r\nL 93.064941 248.979128 \r\nL 93.218709 249.295655 \r\nL 93.372477 249.295655 \r\nL 93.526245 250.878287 \r\nL 93.680013 249.612181 \r\nL 93.833781 251.194814 \r\nL 93.987549 239.799861 \r\nL 94.141317 249.928708 \r\nL 94.295086 243.914705 \r\nL 94.602622 251.194814 \r\nL 94.75639 251.194814 \r\nL 94.910158 249.928708 \r\nL 95.063926 237.900702 \r\nL 95.217694 249.612181 \r\nL 95.371462 250.878287 \r\nL 95.52523 250.878287 \r\nL 95.678999 251.194814 \r\nM 96.140303 243.281652 \r\nL 96.294071 243.281652 \r\nL 96.447839 248.346076 \r\nL 96.601607 237.584176 \r\nL 96.755375 251.194814 \r\nL 96.909143 249.928708 \r\nL 97.062911 251.194814 \r\nL 97.21668 244.231232 \r\nL 97.524216 251.194814 \r\nL 97.677984 250.561761 \r\nL 97.831752 218.909115 \r\nL 97.98552 251.194814 \r\nL 98.293056 248.346076 \r\nL 98.446824 250.561761 \r\nL 98.754361 227.455329 \r\nL 98.908129 245.813864 \r\nL 99.215665 250.878287 \r\nL 99.369433 221.441327 \r\nL 99.523201 246.446917 \r\nL 99.676969 240.749441 \r\nL 99.830737 251.194814 \r\nL 100.138274 251.194814 \r\nL 100.292042 246.446917 \r\nL 100.44581 251.194814 \r\nL 100.599578 251.194814 \r\nL 100.753346 250.878287 \r\nL 100.907114 251.194814 \r\nL 101.060882 242.648599 \r\nL 101.21465 251.194814 \r\nL 101.522186 249.928708 \r\nL 101.829723 251.194814 \r\nL 102.137259 251.194814 \r\nM 102.444795 218.909115 \r\nL 102.752331 250.561761 \r\nL 102.906099 249.295655 \r\nL 103.059868 245.813864 \r\nL 103.213636 249.295655 \r\nL 103.367404 219.542168 \r\nL 103.521172 245.813864 \r\nL 103.67494 251.194814 \r\nL 103.982476 247.396496 \r\nL 104.136244 250.561761 \r\nL 104.290012 251.194814 \r\nL 104.597549 251.194814 \r\nL 104.751317 249.612181 \r\nL 104.905085 251.194814 \r\nL 105.058853 251.194814 \r\nL 105.366389 245.497337 \r\nL 105.520157 232.519753 \r\nL 105.673925 244.864284 \r\nL 105.827693 235.685017 \r\nL 105.981462 204.032371 \r\nL 106.13523 251.194814 \r\nL 106.442766 249.295655 \r\nL 106.596534 239.166808 \r\nL 106.750302 251.194814 \r\nL 106.90407 243.281652 \r\nL 107.057838 246.446917 \r\nL 107.211606 241.382493 \r\nM 107.519143 248.662602 \r\nL 107.672911 246.763443 \r\nL 107.826679 218.909115 \r\nL 107.980447 246.763443 \r\nL 108.134215 251.194814 \r\nL 108.287983 248.979128 \r\nL 108.441751 251.194814 \r\nL 108.595519 249.295655 \r\nL 108.903055 251.194814 \r\nL 109.056824 231.8867 \r\nL 109.210592 250.245234 \r\nM 109.518128 236.634597 \r\nL 109.825664 249.928708 \r\nL 109.979432 251.194814 \r\nL 110.1332 250.245234 \r\nL 110.286968 251.194814 \r\nL 110.440737 251.194814 \r\nL 110.594505 141.676659 \r\nM 110.902041 251.194814 \r\nL 111.055809 250.245234 \r\nL 111.209577 251.194814 \r\nL 111.363345 251.194814 \r\nL 111.517113 225.55617 \r\nL 111.670881 251.194814 \r\nL 111.824649 250.878287 \r\nM 112.132186 251.194814 \r\nL 112.59349 251.194814 \r\nL 112.747258 249.928708 \r\nL 112.901026 249.612181 \r\nL 113.054794 251.194814 \r\nL 113.208562 248.979128 \r\nL 113.362331 251.194814 \r\nL 113.977403 251.194814 \r\nM 114.284939 251.194814 \r\nL 114.438707 251.194814 \r\nL 114.592475 250.878287 \r\nL 114.746243 251.194814 \r\nL 115.05378 251.194814 \r\nL 115.207548 249.928708 \r\nL 115.361316 251.194814 \r\nL 116.745229 251.194814 \r\nM 117.052765 251.194814 \r\nL 117.206533 251.194814 \r\nL 117.360301 242.332073 \r\nL 117.514069 251.194814 \r\nL 117.667837 250.561761 \r\nL 117.821606 240.116388 \r\nM 118.129142 249.928708 \r\nL 118.28291 250.245234 \r\nL 118.436678 251.194814 \r\nL 118.744214 251.194814 \r\nL 118.897982 250.245234 \r\nL 119.05175 250.561761 \r\nL 119.205518 249.295655 \r\nL 119.359287 251.194814 \r\nL 119.513055 251.194814 \r\nL 119.666823 250.561761 \r\nL 119.820591 251.194814 \r\nL 119.974359 251.194814 \r\nM 120.281895 251.194814 \r\nL 121.51204 251.194814 \r\nL 121.665808 240.749441 \r\nL 121.819576 249.928708 \r\nL 122.127112 251.194814 \r\nL 122.742185 251.194814 \r\nL 122.895953 250.878287 \r\nM 123.511025 247.396496 \r\nL 123.664793 239.166808 \r\nL 123.818562 250.245234 \r\nL 123.97233 250.561761 \r\nL 124.126098 251.194814 \r\nL 124.279866 250.245234 \r\nL 124.433634 250.561761 \r\nL 124.587402 236.001544 \r\nL 124.74117 249.612181 \r\nM 125.048706 251.194814 \r\nL 125.202475 247.713023 \r\nL 125.356243 249.295655 \r\nM 125.663779 251.194814 \r\nL 126.125083 251.194814 \r\nL 126.278851 219.542168 \r\nL 126.432619 251.194814 \r\nL 126.586387 251.194814 \r\nL 126.740156 250.878287 \r\nM 127.20146 251.194814 \r\nL 127.355228 249.612181 \r\nL 127.508996 246.446917 \r\nL 127.816532 250.245234 \r\nM 128.124068 248.029549 \r\nL 128.277837 246.446917 \r\nL 128.431605 246.446917 \r\nL 128.585373 207.830689 \r\nL 128.739141 251.194814 \r\nL 129.046677 250.561761 \r\nL 129.200445 243.598179 \r\nM 129.507981 251.194814 \r\nL 129.66175 250.878287 \r\nM 129.969286 229.037962 \r\nL 130.123054 251.194814 \r\nL 130.276822 251.194814 \r\nL 130.43059 248.662602 \r\nL 130.584358 250.878287 \r\nL 130.738126 251.194814 \r\nL 130.891894 238.533755 \r\nL 131.045662 238.533755 \r\nL 131.199431 251.194814 \r\nL 131.353199 249.928708 \r\nL 131.506967 247.396496 \r\nL 131.660735 247.713023 \r\nL 131.814503 250.245234 \r\nL 131.968271 249.295655 \r\nL 132.275807 251.194814 \r\nL 132.429575 250.878287 \r\nL 132.583344 251.194814 \r\nL 132.737112 244.864284 \r\nL 132.89088 247.713023 \r\nL 133.044648 211.629006 \r\nL 133.198416 248.662602 \r\nL 133.352184 244.864284 \r\nL 133.505952 251.194814 \r\nL 133.65972 244.231232 \r\nM 133.967256 251.194814 \r\nL 134.121025 249.295655 \r\nM 134.428561 250.561761 \r\nL 134.736097 248.979128 \r\nL 134.889865 239.483335 \r\nL 135.043633 251.194814 \r\nL 135.197401 250.878287 \r\nL 135.351169 248.029549 \r\nL 135.504937 250.561761 \r\nL 135.658706 243.281652 \r\nL 135.812474 242.965126 \r\nL 135.966242 243.598179 \r\nL 136.12001 248.029549 \r\nL 136.273778 246.13039 \r\nL 136.427546 251.194814 \r\nL 136.581314 246.763443 \r\nL 136.735082 221.1248 \r\nL 136.88885 250.245234 \r\nL 137.042619 248.979128 \r\nL 137.350155 251.194814 \r\nM 137.657691 247.07997 \r\nL 137.811459 208.463742 \r\nL 137.965227 248.029549 \r\nL 138.118995 248.346076 \r\nL 138.272763 251.194814 \r\nL 138.426531 251.194814 \r\nL 138.5803 250.878287 \r\nL 138.734068 250.878287 \r\nL 138.887836 251.194814 \r\nL 139.34914 251.194814 \r\nL 139.502908 249.928708 \r\nL 139.656676 251.194814 \r\nL 139.810444 251.194814 \r\nL 139.964213 250.561761 \r\nL 140.117981 251.194814 \r\nL 140.579285 251.194814 \r\nM 140.886821 251.194814 \r\nL 141.501894 251.194814 \r\nL 141.655662 249.295655 \r\nL 141.80943 250.561761 \r\nL 141.963198 250.561761 \r\nL 142.116966 251.194814 \r\nL 142.270734 239.166808 \r\nL 142.424502 250.245234 \r\nL 142.57827 251.194814 \r\nL 142.885806 251.194814 \r\nL 143.039575 249.612181 \r\nL 143.193343 251.194814 \r\nL 143.347111 250.561761 \r\nL 143.654647 251.194814 \r\nM 143.962183 251.194814 \r\nL 144.115951 249.612181 \r\nL 144.269719 251.194814 \r\nL 144.423488 251.194814 \r\nL 144.577256 247.07997 \r\nL 144.731024 248.979128 \r\nL 144.884792 246.763443 \r\nL 145.03856 234.418911 \r\nL 145.346096 250.561761 \r\nL 145.499864 244.547758 \r\nL 145.653632 249.928708 \r\nL 145.8074 251.194814 \r\nL 146.114937 251.194814 \r\nL 146.422473 245.813864 \r\nL 146.883777 251.194814 \r\nL 150.266675 251.194814 \r\nL 150.420444 250.561761 \r\nL 150.574212 249.295655 \r\nL 150.881748 251.194814 \r\nL 151.189284 251.194814 \r\nL 151.343052 249.612181 \r\nL 151.49682 251.194814 \r\nL 151.650588 251.194814 \r\nM 151.958125 249.612181 \r\nL 152.111893 251.194814 \r\nL 152.419429 251.194814 \r\nL 152.573197 246.763443 \r\nL 152.726965 248.979128 \r\nL 152.880733 245.497337 \r\nL 153.034501 222.390906 \r\nL 153.188269 251.194814 \r\nM 153.803342 251.194814 \r\nL 153.95711 250.245234 \r\nL 154.418414 251.194814 \r\nL 154.725951 251.194814 \r\nL 154.879719 250.878287 \r\nM 155.187255 250.561761 \r\nL 155.341023 251.194814 \r\nL 155.494791 247.713023 \r\nL 155.648559 250.245234 \r\nL 155.802327 247.07997 \r\nL 155.956095 247.713023 \r\nL 156.109863 238.850282 \r\nM 156.4174 247.713023 \r\nL 156.571168 249.612181 \r\nL 156.724936 238.533755 \r\nL 156.878704 250.878287 \r\nL 157.032472 160.35172 \r\nM 157.340008 248.979128 \r\nL 157.493776 250.561761 \r\nL 157.647544 247.713023 \r\nL 157.801313 186.30689 \r\nM 158.262617 241.382493 \r\nL 158.416385 247.07997 \r\nL 158.570153 184.407731 \r\nL 158.723921 238.217229 \r\nL 159.031457 250.245234 \r\nL 159.185226 250.245234 \r\nL 159.338994 246.763443 \r\nM 159.64653 243.281652 \r\nL 159.800298 228.404909 \r\nL 159.954066 249.612181 \r\nL 160.107834 241.69902 \r\nL 160.261602 244.864284 \r\nL 160.41537 244.547758 \r\nL 160.569138 249.612181 \r\nL 160.722907 249.612181 \r\nL 160.876675 248.662602 \r\nL 161.030443 218.592588 \r\nM 161.337979 247.713023 \r\nL 161.491747 241.69902 \r\nL 161.645515 249.612181 \r\nL 161.799283 250.245234 \r\nL 161.953051 249.295655 \r\nL 162.10682 250.561761 \r\nL 162.260588 249.612181 \r\nL 162.414356 251.194814 \r\nL 162.568124 249.295655 \r\nL 162.721892 245.813864 \r\nL 162.87566 251.194814 \r\nL 163.029428 242.015546 \r\nL 163.183196 250.245234 \r\nL 163.336964 251.194814 \r\nL 163.490732 251.194814 \r\nL 163.798269 250.561761 \r\nM 164.105805 229.354488 \r\nL 164.259573 251.194814 \r\nL 164.567109 249.295655 \r\nL 164.720877 249.928708 \r\nM 165.028413 244.864284 \r\nL 165.33595 251.194814 \r\nL 165.489718 251.194814 \r\nL 165.797254 249.612181 \r\nL 165.951022 249.612181 \r\nM 166.258558 246.763443 \r\nL 166.412326 226.189223 \r\nL 166.566095 247.396496 \r\nL 166.719863 228.404909 \r\nL 167.027399 248.979128 \r\nM 167.334935 239.483335 \r\nL 167.642471 250.878287 \r\nL 167.796239 250.245234 \r\nL 167.950007 241.69902 \r\nM 168.257544 210.995953 \r\nL 168.411312 238.533755 \r\nL 168.56508 240.116388 \r\nL 168.718848 250.561761 \r\nL 168.872616 242.965126 \r\nL 169.026384 199.917527 \r\nL 169.33392 251.194814 \r\nL 169.487688 249.928708 \r\nL 169.641457 249.928708 \r\nL 169.795225 241.382493 \r\nL 169.948993 251.194814 \r\nL 170.102761 250.245234 \r\nL 170.256529 241.065967 \r\nL 170.410297 248.029549 \r\nL 170.564065 244.231232 \r\nL 170.717833 244.864284 \r\nM 171.02537 237.584176 \r\nL 171.179138 200.55058 \r\nL 171.332906 236.951123 \r\nL 171.486674 240.432914 \r\nL 171.640442 250.561761 \r\nL 171.79421 251.194814 \r\nL 171.947978 251.194814 \r\nM 172.255514 251.194814 \r\nL 172.409282 250.561761 \r\nL 172.563051 245.813864 \r\nM 173.178123 247.396496 \r\nL 173.485659 251.194814 \r\nL 173.639427 242.648599 \r\nL 173.793195 250.245234 \r\nL 173.946964 248.979128 \r\nL 174.100732 250.878287 \r\nL 174.2545 250.245234 \r\nL 174.408268 250.245234 \r\nL 174.562036 250.561761 \r\nL 174.715804 237.900702 \r\nL 174.869572 240.432914 \r\nL 175.02334 234.735438 \r\nM 175.330876 242.965126 \r\nL 175.484645 241.382493 \r\nL 175.638413 249.928708 \r\nL 175.792181 250.561761 \r\nL 175.945949 250.561761 \r\nM 176.253485 251.194814 \r\nL 176.407253 249.612181 \r\nL 176.561021 249.295655 \r\nL 176.714789 251.194814 \r\nL 176.868557 249.928708 \r\nL 177.022326 247.07997 \r\nL 177.176094 250.561761 \r\nL 177.329862 251.194814 \r\nM 177.637398 250.878287 \r\nL 177.791166 250.878287 \r\nL 177.944934 250.561761 \r\nL 178.25247 251.194814 \r\nL 178.406239 248.029549 \r\nM 178.713775 249.612181 \r\nL 178.867543 249.928708 \r\nL 179.021311 246.446917 \r\nL 179.175079 248.346076 \r\nL 179.328847 240.432914 \r\nL 179.482615 247.396496 \r\nL 179.636383 240.749441 \r\nL 179.790151 222.074379 \r\nL 179.94392 249.612181 \r\nM 180.251456 250.245234 \r\nL 180.405224 249.612181 \r\nM 180.71276 246.763443 \r\nL 180.866528 251.194814 \r\nL 181.020296 248.979128 \r\nL 181.327833 251.194814 \r\nL 181.481601 250.561761 \r\nL 181.789137 251.194814 \r\nM 182.096673 250.245234 \r\nL 182.250441 251.194814 \r\nL 182.557977 251.194814 \r\nL 182.711745 250.878287 \r\nL 182.865514 247.713023 \r\nL 183.019282 248.979128 \r\nL 183.17305 251.194814 \r\nL 183.326818 246.13039 \r\nL 183.480586 249.928708 \r\nL 183.94189 242.015546 \r\nM 184.249426 242.648599 \r\nL 184.403195 251.194814 \r\nL 184.556963 250.245234 \r\nL 184.710731 250.561761 \r\nM 185.018267 244.547758 \r\nL 185.172035 246.446917 \r\nL 185.325803 250.878287 \r\nL 185.479571 251.194814 \r\nL 185.787108 251.194814 \r\nM 186.094644 251.194814 \r\nL 186.248412 250.561761 \r\nL 186.40218 250.878287 \r\nL 186.709716 248.346076 \r\nL 186.863484 250.245234 \r\nL 187.017252 233.785858 \r\nL 187.17102 251.194814 \r\nL 187.478557 247.713023 \r\nL 187.632325 249.612181 \r\nM 187.939861 245.813864 \r\nL 188.093629 211.945533 \r\nL 188.247397 246.763443 \r\nL 188.401165 223.973538 \r\nL 188.554933 250.878287 \r\nL 188.86247 243.598179 \r\nL 189.016238 224.923118 \r\nM 189.323774 250.561761 \r\nL 189.477542 250.878287 \r\nL 189.63131 250.245234 \r\nL 189.785078 247.07997 \r\nL 189.938846 246.763443 \r\nL 190.246383 250.878287 \r\nL 190.400151 217.009956 \r\nL 190.553919 244.864284 \r\nL 190.707687 251.194814 \r\nL 190.861455 251.194814 \r\nL 191.015223 250.245234 \r\nL 191.168991 239.166808 \r\nL 191.322759 250.561761 \r\nL 191.476527 250.561761 \r\nL 191.630295 249.295655 \r\nL 191.784064 244.231232 \r\nM 192.0916 204.348898 \r\nL 192.245368 242.965126 \r\nL 192.399136 249.612181 \r\nL 192.552904 251.194814 \r\nL 192.706672 246.763443 \r\nL 192.86044 250.561761 \r\nL 193.014208 251.194814 \r\nL 193.167977 250.245234 \r\nL 193.321745 248.346076 \r\nL 193.475513 250.561761 \r\nL 193.629281 250.878287 \r\nL 193.783049 248.346076 \r\nL 193.936817 249.295655 \r\nL 194.090585 246.763443 \r\nM 194.398121 245.497337 \r\nL 194.551889 249.612181 \r\nL 194.705658 233.469332 \r\nL 194.859426 234.735438 \r\nL 195.013194 218.592588 \r\nL 195.166962 249.928708 \r\nM 195.474498 176.178043 \r\nL 195.628266 247.396496 \r\nL 195.782034 242.015546 \r\nM 196.089571 248.979128 \r\nL 196.243339 242.015546 \r\nL 196.397107 244.547758 \r\nL 196.550875 231.570173 \r\nL 196.858411 243.281652 \r\nL 197.012179 222.707432 \r\nL 197.165947 250.878287 \r\nL 197.319715 242.015546 \r\nL 197.473483 251.194814 \r\nL 197.627252 250.245234 \r\nM 197.934788 250.245234 \r\nL 198.088556 251.194814 \r\nL 198.242324 250.878287 \r\nL 198.396092 251.194814 \r\nL 198.54986 250.878287 \r\nL 198.703628 251.194814 \r\nL 199.472469 251.194814 \r\nM 199.780005 251.194814 \r\nL 200.395077 251.194814 \r\nL 200.548846 245.497337 \r\nL 200.702614 251.194814 \r\nL 200.856382 236.31807 \r\nL 201.01015 237.900702 \r\nL 201.163918 251.194814 \r\nL 201.317686 249.295655 \r\nL 201.471454 251.194814 \r\nL 201.625222 251.194814 \r\nL 201.77899 248.029549 \r\nL 201.932758 232.519753 \r\nL 202.086527 251.194814 \r\nL 202.240295 250.878287 \r\nL 202.394063 251.194814 \r\nL 202.547831 248.029549 \r\nL 202.701599 251.194814 \r\nL 202.855367 251.194814 \r\nL 203.009135 249.295655 \r\nL 203.162903 251.194814 \r\nL 203.624208 251.194814 \r\nL 203.777976 250.245234 \r\nL 203.931744 251.194814 \r\nL 204.23928 251.194814 \r\nL 204.393048 250.245234 \r\nL 204.546816 251.194814 \r\nL 205.008121 251.194814 \r\nM 205.315657 251.194814 \r\nL 205.469425 251.194814 \r\nM 205.776961 251.194814 \r\nL 206.853338 251.194814 \r\nM 207.160874 251.194814 \r\nL 207.775946 251.194814 \r\nM 208.083483 251.194814 \r\nL 208.237251 251.194814 \r\nM 208.852323 251.194814 \r\nL 209.159859 251.194814 \r\nM 209.467396 250.878287 \r\nL 209.621164 251.194814 \r\nL 210.390004 251.194814 \r\nM 210.69754 251.194814 \r\nL 210.851308 250.878287 \r\nL 211.005077 251.194814 \r\nM 211.312613 251.194814 \r\nL 212.696526 251.194814 \r\nM 213.004062 251.194814 \r\nL 213.465366 251.194814 \r\nL 213.619134 248.979128 \r\nL 213.772902 251.194814 \r\nL 214.080439 251.194814 \r\nM 214.387975 251.194814 \r\nL 214.541743 251.194814 \r\nL 214.695511 250.561761 \r\nL 214.849279 251.194814 \r\nL 215.156815 251.194814 \r\nM 215.464352 251.194814 \r\nL 216.079424 251.194814 \r\nL 216.38696 247.713023 \r\nL 216.540728 249.928708 \r\nL 216.848265 250.561761 \r\nL 217.002033 246.13039 \r\nL 217.155801 228.404909 \r\nL 217.309569 248.346076 \r\nL 217.463337 250.878287 \r\nL 217.617105 249.928708 \r\nM 217.924641 251.194814 \r\nL 218.078409 250.878287 \r\nM 218.385946 224.290065 \r\nL 218.539714 248.662602 \r\nL 218.693482 251.194814 \r\nL 218.84725 247.07997 \r\nM 219.154786 248.662602 \r\nL 219.308554 249.928708 \r\nL 219.462322 192.637419 \r\nL 219.61609 246.446917 \r\nM 219.923627 251.194814 \r\nL 220.077395 247.396496 \r\nL 220.231163 167.631829 \r\nM 220.538699 250.245234 \r\nL 220.692467 226.189223 \r\nL 220.846235 251.194814 \r\nL 221.000003 251.194814 \r\nL 221.153771 250.878287 \r\nL 221.30754 251.194814 \r\nL 221.615076 251.194814 \r\nL 221.768844 248.029549 \r\nL 221.922612 250.245234 \r\nL 222.07638 250.245234 \r\nL 222.230148 251.194814 \r\nL 223.460293 251.194814 \r\nL 223.614061 246.763443 \r\nM 223.921597 242.965126 \r\nL 224.075365 245.497337 \r\nL 224.229134 251.194814 \r\nL 224.382902 233.785858 \r\nL 224.53667 249.612181 \r\nL 224.690438 251.194814 \r\nM 224.997974 251.194814 \r\nL 230.072322 251.194814 \r\nM 230.379858 251.194814 \r\nL 230.841162 251.194814 \r\nM 231.148698 251.194814 \r\nL 231.302466 251.194814 \r\nL 231.456234 245.497337 \r\nL 231.610003 246.13039 \r\nL 231.917539 251.194814 \r\nM 232.225075 251.194814 \r\nL 232.378843 251.194814 \r\nL 232.532611 222.707432 \r\nL 232.686379 235.051964 \r\nL 232.993915 194.536578 \r\nL 233.147684 251.194814 \r\nL 233.45522 194.220051 \r\nL 233.608988 251.194814 \r\nL 233.762756 251.194814 \r\nL 233.916524 217.009956 \r\nL 234.070292 251.194814 \r\nL 235.454205 251.194814 \r\nL 235.607973 250.561761 \r\nL 235.761741 251.194814 \r\nL 236.68435 251.194814 \r\nL 236.838118 219.542168 \r\nL 236.991886 241.382493 \r\nL 237.145654 196.435736 \r\nL 237.299422 228.088382 \r\nL 237.606959 91.665478 \r\nL 237.760727 193.270472 \r\nL 237.914495 217.326483 \r\nL 238.068263 168.264881 \r\nL 238.222031 190.73826 \r\nL 238.375799 248.979128 \r\nL 238.529567 156.869929 \r\nL 238.683335 250.878287 \r\nL 238.837103 159.402141 \r\nL 238.990872 250.878287 \r\nL 239.14464 251.194814 \r\nL 239.298408 251.194814 \r\nM 239.605944 251.194814 \r\nL 239.759712 251.194814 \r\nL 239.91348 250.878287 \r\nL 240.067248 251.194814 \r\nL 240.528553 251.194814 \r\nL 240.682321 248.979128 \r\nL 240.836089 250.878287 \r\nL 240.989857 251.194814 \r\nM 241.297393 251.194814 \r\nL 241.451161 251.194814 \r\nM 241.758697 231.570173 \r\nL 241.912466 248.979128 \r\nL 242.066234 229.987541 \r\nL 242.220002 251.194814 \r\nM 242.527538 228.088382 \r\nL 242.681306 247.07997 \r\nL 242.835074 249.295655 \r\nL 242.988842 249.295655 \r\nL 243.14261 225.872697 \r\nL 243.296378 251.194814 \r\nL 243.450147 251.194814 \r\nL 243.603915 247.07997 \r\nL 243.757683 250.878287 \r\nL 243.911451 251.194814 \r\nL 244.218987 251.194814 \r\nM 244.526523 248.029549 \r\nL 244.680291 251.194814 \r\nL 244.834059 251.194814 \r\nL 244.987828 248.346076 \r\nL 245.141596 251.194814 \r\nL 245.449132 251.194814 \r\nM 245.910436 251.194814 \r\nL 246.064204 251.194814 \r\nM 246.371741 248.979128 \r\nL 246.525509 249.295655 \r\nL 246.679277 251.194814 \r\nL 246.833045 251.194814 \r\nL 247.140581 247.07997 \r\nL 247.294349 241.065967 \r\nL 247.601885 249.295655 \r\nL 247.755653 249.295655 \r\nL 247.909422 247.713023 \r\nL 248.06319 251.194814 \r\nL 248.524494 251.194814 \r\nL 248.678262 250.878287 \r\nL 248.83203 251.194814 \r\nL 250.062175 251.194814 \r\nL 250.215943 250.245234 \r\nL 250.369711 251.194814 \r\nL 250.523479 251.194814 \r\nL 250.677247 247.396496 \r\nL 250.831016 251.194814 \r\nL 250.984784 251.194814 \r\nM 251.29232 251.194814 \r\nL 251.446088 251.194814 \r\nM 251.753624 251.194814 \r\nL 252.522465 251.194814 \r\nM 252.983769 251.194814 \r\nL 253.137537 232.836279 \r\nL 253.291305 249.928708 \r\nL 253.445073 251.194814 \r\nL 253.598841 249.928708 \r\nL 253.75261 246.13039 \r\nL 253.906378 184.091204 \r\nL 254.060146 175.228464 \r\nL 254.213914 215.74385 \r\nL 254.367682 181.558993 \r\nL 254.52145 232.519753 \r\nL 254.828986 187.889522 \r\nL 254.982754 228.088382 \r\nL 255.136522 232.836279 \r\nL 255.290291 204.348898 \r\nL 255.444059 237.267649 \r\nL 255.751595 191.687839 \r\nL 255.905363 233.469332 \r\nL 256.059131 243.281652 \r\nM 256.366667 234.102385 \r\nL 256.520435 236.31807 \r\nL 256.98174 251.194814 \r\nL 257.596812 251.194814 \r\nL 257.75058 240.116388 \r\nL 257.904348 238.217229 \r\nL 258.058116 240.116388 \r\nL 258.211885 248.029549 \r\nM 258.519421 250.245234 \r\nL 258.673189 251.194814 \r\nL 258.826957 235.051964 \r\nL 258.980725 251.194814 \r\nM 259.442029 251.194814 \r\nL 259.749566 251.194814 \r\nM 260.057102 251.194814 \r\nL 260.672174 251.194814 \r\nM 260.97971 251.194814 \r\nL 261.133479 251.194814 \r\nL 261.287247 250.878287 \r\nL 261.441015 230.620594 \r\nL 261.594783 251.194814 \r\nL 261.748551 235.368491 \r\nL 261.902319 251.194814 \r\nL 262.056087 225.872697 \r\nM 262.363623 251.194814 \r\nL 262.517391 247.07997 \r\nL 262.67116 251.194814 \r\nL 262.824928 250.245234 \r\nL 262.978696 251.194814 \r\nL 263.132464 247.07997 \r\nL 263.286232 251.194814 \r\nL 263.593768 251.194814 \r\nL 263.747536 250.245234 \r\nL 264.055073 251.194814 \r\nL 264.208841 251.194814 \r\nM 264.516377 251.194814 \r\nL 265.285217 251.194814 \r\nM 265.90029 251.194814 \r\nL 266.361594 251.194814 \r\nL 266.515362 249.295655 \r\nL 266.66913 251.194814 \r\nL 267.130435 251.194814 \r\nL 267.284203 249.295655 \r\nL 267.437971 251.194814 \r\nL 268.206811 251.194814 \r\nM 268.514348 251.194814 \r\nL 268.668116 251.194814 \r\nM 268.975652 251.194814 \r\nL 269.12942 247.396496 \r\nM 269.436956 251.194814 \r\nL 269.590724 240.116388 \r\nL 269.744492 249.295655 \r\nL 269.89826 245.180811 \r\nL 270.052029 251.194814 \r\nM 270.359565 251.194814 \r\nL 271.897246 251.194814 \r\nL 272.051014 250.561761 \r\nL 272.204782 251.194814 \r\nL 272.35855 251.194814 \r\nM 272.666086 251.194814 \r\nL 272.973623 251.194814 \r\nL 273.127391 248.346076 \r\nL 273.281159 251.194814 \r\nL 274.357535 251.194814 \r\nL 274.665072 250.245234 \r\nL 274.81884 251.194814 \r\nL 275.280144 251.194814 \r\nL 275.433912 232.203226 \r\nL 275.58768 246.446917 \r\nL 275.741448 245.813864 \r\nL 276.048985 250.561761 \r\nL 276.202753 247.396496 \r\nL 276.510289 221.757853 \r\nL 276.664057 247.07997 \r\nL 276.817825 251.194814 \r\nL 276.971593 237.584176 \r\nL 277.125361 251.194814 \r\nL 277.894202 251.194814 \r\nL 278.04797 250.878287 \r\nL 278.201738 251.194814 \r\nL 278.355506 251.194814 \r\nM 278.663042 251.194814 \r\nL 278.816811 251.194814 \r\nL 278.970579 250.245234 \r\nL 279.124347 251.194814 \r\nM 279.431883 251.194814 \r\nL 279.585651 229.671014 \r\nL 279.739419 251.194814 \r\nL 279.893187 250.245234 \r\nL 280.046955 251.194814 \r\nL 280.200723 248.662602 \r\nL 280.354492 251.194814 \r\nL 280.50826 248.979128 \r\nL 280.662028 250.878287 \r\nM 280.969564 249.928708 \r\nL 281.123332 248.662602 \r\nL 281.2771 251.194814 \r\nM 281.584636 251.194814 \r\nL 281.738404 250.245234 \r\nL 282.045941 251.194814 \r\nL 282.199709 251.194814 \r\nM 282.507245 251.194814 \r\nL 282.968549 251.194814 \r\nL 283.122317 244.864284 \r\nL 283.276086 251.194814 \r\nL 283.429854 244.547758 \r\nL 283.583622 251.194814 \r\nL 284.659998 251.194814 \r\nL 284.813767 248.662602 \r\nL 284.967535 251.194814 \r\nL 285.121303 251.194814 \r\nL 285.275071 243.914705 \r\nL 285.428839 248.346076 \r\nL 285.582607 242.965126 \r\nM 285.890143 249.928708 \r\nL 286.043911 251.194814 \r\nL 286.197679 248.346076 \r\nL 286.351448 251.194814 \r\nL 286.505216 250.561761 \r\nL 286.658984 251.194814 \r\nL 286.96652 251.194814 \r\nL 287.120288 248.029549 \r\nL 287.274056 251.194814 \r\nL 287.427824 236.951123 \r\nL 287.581592 249.928708 \r\nL 287.735361 248.979128 \r\nL 287.889129 251.194814 \r\nL 288.811737 251.194814 \r\nL 288.965505 249.295655 \r\nL 289.119273 251.194814 \r\nL 290.349418 251.194814 \r\nM 291.118259 251.194814 \r\nL 291.425795 251.194814 \r\nM 291.733331 250.878287 \r\nL 291.887099 251.194814 \r\nL 292.348404 251.194814 \r\nL 292.502172 250.878287 \r\nL 292.65594 243.281652 \r\nL 292.809708 251.194814 \r\nL 292.963476 250.245234 \r\nL 293.117244 251.194814 \r\nL 293.271012 246.13039 \r\nM 293.578548 250.245234 \r\nL 293.732317 247.713023 \r\nL 294.039853 251.194814 \r\nM 294.347389 251.194814 \r\nL 294.501157 230.620594 \r\nL 294.808693 251.194814 \r\nL 294.962461 242.648599 \r\nL 295.11623 251.194814 \r\nM 295.423766 243.914705 \r\nL 295.577534 232.519753 \r\nL 295.731302 251.194814 \r\nL 296.038838 229.354488 \r\nL 296.192606 239.799861 \r\nL 296.346374 178.393728 \r\nL 296.500142 161.934352 \r\nL 296.653911 242.015546 \r\nL 296.807679 250.878287 \r\nL 297.115215 222.707432 \r\nL 297.268983 251.194814 \r\nL 297.422751 236.951123 \r\nL 297.576519 236.31807 \r\nL 297.730287 251.194814 \r\nL 297.884055 251.194814 \r\nL 298.037824 235.685017 \r\nL 298.191592 247.713023 \r\nM 298.499128 250.561761 \r\nL 298.652896 238.217229 \r\nL 298.806664 210.046374 \r\nM 299.1142 241.69902 \r\nL 299.267968 218.276062 \r\nL 299.421736 248.662602 \r\nL 299.575505 247.396496 \r\nL 299.729273 251.194814 \r\nL 299.883041 251.194814 \r\nL 300.036809 246.446917 \r\nL 300.344345 186.939943 \r\nL 300.498113 250.561761 \r\nM 300.805649 251.194814 \r\nL 300.959417 250.561761 \r\nL 301.113186 250.561761 \r\nL 301.266954 246.763443 \r\nL 301.420722 251.194814 \r\nM 301.728258 251.194814 \r\nL 301.882026 240.749441 \r\nL 302.035794 240.116388 \r\nL 302.189562 251.194814 \r\nL 302.34333 249.612181 \r\nL 302.497099 249.612181 \r\nL 302.650867 243.914705 \r\nL 302.804635 176.494569 \r\nL 303.112171 214.477744 \r\nL 303.265939 196.11921 \r\nM 303.573475 217.959535 \r\nL 303.727243 241.065967 \r\nL 304.03478 201.183633 \r\nL 304.188548 208.463742 \r\nL 304.496084 250.245234 \r\nL 304.649852 240.116388 \r\nL 304.80362 249.295655 \r\nL 305.111156 251.194814 \r\nM 305.572461 249.612181 \r\nL 305.726229 250.878287 \r\nM 306.033765 251.194814 \r\nL 306.341301 251.194814 \r\nM 306.648837 251.194814 \r\nL 307.110142 251.194814 \r\nL 307.26391 246.763443 \r\nL 307.417678 251.194814 \r\nL 307.571446 251.194814 \r\nL 307.725214 250.561761 \r\nL 307.878982 250.878287 \r\nL 308.03275 244.231232 \r\nL 308.186518 251.194814 \r\nL 308.340286 245.180811 \r\nM 308.647823 250.561761 \r\nL 308.801591 251.194814 \r\nL 308.955359 247.713023 \r\nL 309.109127 248.029549 \r\nL 309.262895 251.194814 \r\nL 309.416663 251.194814 \r\nL 309.570431 226.189223 \r\nL 309.724199 227.138803 \r\nL 309.877968 248.346076 \r\nM 310.185504 168.897934 \r\nL 310.49304 239.483335 \r\nL 310.646808 53.365777 \r\nL 310.800576 240.116388 \r\nL 311.108112 251.194814 \r\nL 311.26188 209.729848 \r\nL 311.415649 225.872697 \r\nL 311.723185 218.276062 \r\nL 312.030721 212.895112 \r\nL 312.184489 242.965126 \r\nL 312.338257 248.979128 \r\nL 312.492025 243.281652 \r\nL 312.645793 248.979128 \r\nL 312.799562 247.07997 \r\nL 312.95333 250.245234 \r\nL 313.107098 250.245234 \r\nL 313.260866 250.878287 \r\nL 313.414634 250.878287 \r\nL 313.568402 251.194814 \r\nL 313.875938 251.194814 \r\nL 314.029706 250.878287 \r\nL 314.337243 250.878287 \r\nL 314.491011 251.194814 \r\nL 314.798547 251.194814 \r\nM 315.106083 251.194814 \r\nL 315.413619 251.194814 \r\nL 315.567387 248.662602 \r\nL 315.721155 251.194814 \r\nL 316.028692 251.194814 \r\nL 316.18246 248.029549 \r\nL 316.336228 242.332073 \r\nL 316.489996 251.194814 \r\nL 316.643764 249.295655 \r\nL 316.797532 251.194814 \r\nL 317.412605 251.194814 \r\nL 317.720141 248.979128 \r\nL 318.027677 251.194814 \r\nL 318.335213 251.194814 \r\nL 318.488981 244.231232 \r\nL 318.642749 221.1248 \r\nL 318.796518 251.194814 \r\nL 318.950286 216.060377 \r\nL 319.104054 228.088382 \r\nL 319.257822 199.917527 \r\nL 319.41159 243.914705 \r\nL 319.565358 201.183633 \r\nL 319.719126 229.671014 \r\nL 319.872894 234.735438 \r\nL 320.026662 233.785858 \r\nL 320.18043 249.295655 \r\nL 320.334199 251.194814 \r\nL 320.487967 249.612181 \r\nL 320.641735 251.194814 \r\nL 320.795503 244.864284 \r\nL 320.949271 251.194814 \r\nL 321.103039 247.396496 \r\nL 321.256807 237.267649 \r\nL 321.410575 250.878287 \r\nL 321.564343 250.245234 \r\nL 321.718112 251.194814 \r\nM 322.025648 248.029549 \r\nL 322.179416 250.561761 \r\nL 322.333184 251.194814 \r\nL 322.64072 248.029549 \r\nL 322.794488 251.194814 \r\nL 322.948256 247.396496 \r\nL 323.102024 250.561761 \r\nL 323.255793 251.194814 \r\nL 323.563329 251.194814 \r\nL 323.717097 249.612181 \r\nL 323.870865 245.813864 \r\nL 324.024633 219.542168 \r\nM 324.332169 248.346076 \r\nL 324.485937 249.612181 \r\nL 324.639706 232.203226 \r\nL 324.793474 248.662602 \r\nL 325.10101 250.245234 \r\nL 325.254778 249.612181 \r\nL 325.408546 241.69902 \r\nL 325.562314 250.878287 \r\nL 325.716082 250.245234 \r\nL 325.86985 251.194814 \r\nL 326.023618 250.561761 \r\nL 326.177387 249.295655 \r\nL 326.331155 251.194814 \r\nL 326.638691 251.194814 \r\nL 326.946227 247.07997 \r\nL 327.099995 251.194814 \r\nL 327.253763 236.634597 \r\nL 327.561299 250.878287 \r\nL 327.715068 248.346076 \r\nL 328.022604 251.194814 \r\nL 328.176372 250.878287 \r\nL 328.33014 250.878287 \r\nL 328.483908 251.194814 \r\nM 328.791444 250.561761 \r\nL 328.945212 250.878287 \r\nM 329.252749 251.194814 \r\nL 329.406517 251.194814 \r\nL 329.560285 250.878287 \r\nL 329.714053 251.194814 \r\nL 330.021589 251.194814 \r\nL 330.175357 241.69902 \r\nM 330.482893 249.295655 \r\nL 330.636662 251.194814 \r\nL 331.097966 251.194814 \r\nL 331.251734 247.713023 \r\nL 331.405502 237.267649 \r\nL 331.55927 250.561761 \r\nL 331.866806 248.662602 \r\nL 332.020575 241.69902 \r\nL 332.174343 248.029549 \r\nL 332.328111 231.8867 \r\nL 332.481879 182.508572 \r\nL 332.635647 247.07997 \r\nL 332.789415 232.836279 \r\nL 332.943183 233.785858 \r\nL 333.096951 223.340485 \r\nL 333.404487 246.446917 \r\nL 333.558256 248.979128 \r\nL 333.712024 244.864284 \r\nL 333.865792 250.561761 \r\nL 334.01956 251.194814 \r\nL 335.095937 251.194814 \r\nL 335.249705 250.878287 \r\nL 335.403473 235.368491 \r\nL 335.557241 250.561761 \r\nL 335.711009 250.561761 \r\nL 335.864777 248.662602 \r\nL 336.018545 242.015546 \r\nL 336.172313 251.194814 \r\nL 336.633618 251.194814 \r\nL 336.787386 238.533755 \r\nL 336.941154 250.561761 \r\nL 337.094922 251.194814 \r\nL 337.24869 247.713023 \r\nM 337.556226 215.74385 \r\nL 337.709994 244.864284 \r\nL 337.863762 242.965126 \r\nL 338.017531 249.928708 \r\nL 338.325067 251.194814 \r\nL 338.632603 243.281652 \r\nL 338.786371 251.194814 \r\nL 338.940139 251.194814 \r\nL 339.093907 250.245234 \r\nL 339.247675 251.194814 \r\nL 339.401444 250.878287 \r\nL 339.555212 251.194814 \r\nL 339.70898 251.194814 \r\nL 339.862748 248.346076 \r\nM 340.170284 248.029549 \r\nL 340.324052 246.446917 \r\nL 340.47782 251.194814 \r\nL 340.631588 251.194814 \r\nL 340.785356 246.13039 \r\nL 340.939125 250.561761 \r\nL 341.092893 248.662602 \r\nL 341.246661 244.864284 \r\nM 341.554197 246.446917 \r\nL 341.707965 249.612181 \r\nL 341.861733 246.446917 \r\nL 342.015501 225.239644 \r\nL 342.169269 247.07997 \r\nL 342.323037 251.194814 \r\nL 342.476806 251.194814 \r\nL 342.630574 249.612181 \r\nM 342.93811 251.194814 \r\nL 343.245646 250.561761 \r\nL 343.399414 251.194814 \r\nL 344.014487 251.194814 \r\nM 344.322023 251.194814 \r\nL 345.244631 251.194814 \r\nM 345.552168 251.194814 \r\nL 345.705936 250.878287 \r\nL 345.859704 250.878287 \r\nL 346.013472 251.194814 \r\nL 346.16724 251.194814 \r\nM 346.474776 251.194814 \r\nL 346.628544 250.561761 \r\nL 346.782313 251.194814 \r\nL 346.936081 251.194814 \r\nL 347.089849 250.561761 \r\nL 347.243617 250.561761 \r\nL 347.397385 251.194814 \r\nM 348.012457 244.547758 \r\nL 348.166225 247.07997 \r\nL 348.319994 234.418911 \r\nL 348.473762 231.570173 \r\nL 348.62753 249.928708 \r\nL 348.781298 248.662602 \r\nL 348.935066 227.771856 \r\nL 349.088834 229.037962 \r\nL 349.242602 243.281652 \r\nL 349.39637 246.763443 \r\nL 349.550138 243.598179 \r\nL 349.857675 250.561761 \r\nL 350.011443 245.180811 \r\nL 350.165211 225.55617 \r\nL 350.318979 240.116388 \r\nL 350.472747 243.598179 \r\nL 350.626515 250.245234 \r\nL 350.780283 251.194814 \r\nL 350.934051 239.799861 \r\nL 351.087819 248.029549 \r\nL 351.241588 243.598179 \r\nL 351.395356 230.620594 \r\nM 351.85666 244.547758 \r\nL 352.010428 242.648599 \r\nL 352.317964 251.194814 \r\nL 352.471732 225.55617 \r\nL 352.6255 244.231232 \r\nM 352.933037 245.813864 \r\nL 353.086805 251.194814 \r\nL 353.240573 197.701842 \r\nL 353.394341 251.194814 \r\nL 353.701877 233.785858 \r\nM 354.009413 251.194814 \r\nL 354.163182 250.561761 \r\nL 354.31695 250.561761 \r\nL 354.624486 248.029549 \r\nL 354.778254 251.194814 \r\nL 354.932022 251.194814 \r\nL 355.08579 240.116388 \r\nL 355.239558 248.029549 \r\nL 355.700863 251.194814 \r\nL 356.008399 243.598179 \r\nL 356.162167 249.612181 \r\nL 356.315935 229.037962 \r\nL 356.623471 251.194814 \r\nL 356.777239 238.533755 \r\nL 356.931007 248.662602 \r\nL 357.084775 251.194814 \r\nL 357.238544 245.180811 \r\nM 357.54608 249.612181 \r\nL 357.699848 250.878287 \r\nM 358.007384 241.382493 \r\nL 358.31492 249.612181 \r\nL 358.468688 251.194814 \r\nL 358.622457 250.561761 \r\nL 358.776225 241.69902 \r\nL 358.929993 245.180811 \r\nL 359.083761 251.194814 \r\nM 359.698833 251.194814 \r\nL 359.852601 248.029549 \r\nL 360.006369 249.295655 \r\nL 360.160138 242.332073 \r\nL 360.313906 251.194814 \r\nL 360.467674 251.194814 \r\nL 360.621442 247.396496 \r\nL 360.928978 251.194814 \r\nL 361.082746 235.368491 \r\nM 361.390282 251.194814 \r\nL 361.697819 251.194814 \r\nL 361.851587 249.295655 \r\nL 362.159123 239.799861 \r\nL 362.312891 251.194814 \r\nL 362.466659 235.368491 \r\nL 362.620427 251.194814 \r\nL 362.774195 251.194814 \r\nL 362.927963 248.662602 \r\nL 363.081732 250.561761 \r\nM 363.389268 251.194814 \r\nL 363.543036 251.194814 \r\nL 363.696804 250.561761 \r\nL 363.850572 250.561761 \r\nL 364.00434 249.295655 \r\nM 364.311876 251.194814 \r\nL 364.773181 251.194814 \r\nL 364.926949 250.878287 \r\nL 365.080717 248.029549 \r\nL 365.234485 251.194814 \r\nL 365.695789 251.194814 \r\nL 365.849557 250.561761 \r\nL 366.157094 251.194814 \r\nL 366.46463 251.194814 \r\nL 366.618398 250.245234 \r\nM 366.925934 251.194814 \r\nL 367.387238 247.396496 \r\nL 367.541007 250.878287 \r\nL 367.694775 251.194814 \r\nL 367.848543 244.864284 \r\nL 368.156079 249.928708 \r\nL 368.309847 248.029549 \r\nL 368.463615 250.561761 \r\nL 368.617383 248.662602 \r\nL 368.771151 249.295655 \r\nL 368.924919 235.368491 \r\nL 369.078688 250.561761 \r\nL 369.232456 246.446917 \r\nL 369.386224 249.612181 \r\nM 369.847528 238.533755 \r\nL 370.155064 249.928708 \r\nM 370.462601 250.561761 \r\nL 370.616369 247.07997 \r\nL 370.770137 249.928708 \r\nL 370.923905 248.662602 \r\nL 371.231441 251.194814 \r\nL 371.538977 251.194814 \r\nM 372.000282 251.194814 \r\nL 372.15405 251.194814 \r\nM 372.461586 251.194814 \r\nL 372.615354 251.194814 \r\nM 372.92289 251.194814 \r\nL 373.076658 251.194814 \r\nL 373.230426 250.561761 \r\nM 373.537963 245.497337 \r\nL 373.691731 251.194814 \r\nL 373.845499 250.561761 \r\nL 373.999267 251.194814 \r\nL 374.153035 241.69902 \r\nM 374.460571 251.194814 \r\nL 374.614339 250.561761 \r\nL 374.768107 251.194814 \r\nL 374.921876 250.561761 \r\nL 375.075644 251.194814 \r\nL 375.229412 249.295655 \r\nL 375.38318 251.194814 \r\nL 375.536948 251.194814 \r\nL 375.690716 247.713023 \r\nL 375.844484 251.194814 \r\nL 375.998252 248.346076 \r\nL 376.15202 251.194814 \r\nL 376.767093 251.194814 \r\nM 377.074629 250.561761 \r\nL 377.228397 250.561761 \r\nL 377.382165 251.194814 \r\nM 377.689701 251.194814 \r\nL 377.84347 250.878287 \r\nL 377.997238 251.194814 \r\nL 378.151006 251.194814 \r\nL 378.304774 250.561761 \r\nL 378.458542 242.332073 \r\nL 378.61231 250.878287 \r\nL 378.766078 250.561761 \r\nL 378.919846 251.194814 \r\nL 379.073614 249.612181 \r\nL 379.227382 251.194814 \r\nM 379.534919 241.065967 \r\nL 379.688687 248.979128 \r\nL 379.842455 247.713023 \r\nL 379.996223 229.671014 \r\nM 380.303759 241.69902 \r\nL 380.457527 240.749441 \r\nL 380.611295 250.561761 \r\nL 380.765064 251.194814 \r\nL 380.918832 244.864284 \r\nL 381.0726 251.194814 \r\nL 381.226368 229.671014 \r\nL 381.380136 249.612181 \r\nL 381.533904 249.612181 \r\nL 381.687672 248.029549 \r\nL 381.84144 250.878287 \r\nL 381.995208 250.245234 \r\nL 382.148976 251.194814 \r\nL 382.302745 251.194814 \r\nL 382.456513 248.029549 \r\nL 382.610281 250.561761 \r\nL 382.917817 247.396496 \r\nL 383.071585 235.368491 \r\nL 383.225353 251.194814 \r\nL 383.379121 238.850282 \r\nL 383.532889 250.245234 \r\nL 383.840426 246.13039 \r\nL 383.994194 244.547758 \r\nL 384.147962 251.194814 \r\nL 384.30173 249.612181 \r\nL 384.455498 251.194814 \r\nL 384.609266 175.228464 \r\nL 384.763034 251.194814 \r\nL 384.916802 249.612181 \r\nL 385.378107 251.194814 \r\nL 385.531875 242.648599 \r\nL 385.685643 248.346076 \r\nL 385.993179 251.194814 \r\nL 386.146947 251.194814 \r\nL 386.300715 229.037962 \r\nL 386.454483 249.295655 \r\nL 386.608251 250.245234 \r\nL 386.76202 247.396496 \r\nL 386.915788 251.194814 \r\nL 387.069556 240.749441 \r\nL 387.223324 251.194814 \r\nL 387.684628 251.194814 \r\nL 387.838396 248.029549 \r\nL 387.992164 251.194814 \r\nL 388.145933 250.245234 \r\nL 388.299701 251.194814 \r\nL 388.453469 124.58423 \r\nL 388.607237 244.864284 \r\nL 388.761005 251.194814 \r\nL 388.914773 250.245234 \r\nL 389.068541 247.396496 \r\nL 389.376077 251.194814 \r\nL 389.529845 244.864284 \r\nL 389.683614 225.872697 \r\nL 389.837382 248.979128 \r\nL 389.99115 249.295655 \r\nL 390.298686 213.528165 \r\nM 390.606222 232.836279 \r\nL 390.75999 249.612181 \r\nL 390.913758 231.8867 \r\nL 391.067526 249.612181 \r\nL 391.221295 251.194814 \r\nL 391.375063 250.245234 \r\nL 391.528831 247.713023 \r\nL 391.682599 247.396496 \r\nL 391.836367 251.194814 \r\nL 391.990135 241.69902 \r\nL 392.143903 241.69902 \r\nL 392.297671 250.561761 \r\nL 392.451439 247.396496 \r\nM 392.758976 251.194814 \r\nL 392.912744 251.194814 \r\nL 393.066512 249.295655 \r\nL 393.22028 250.878287 \r\nL 393.374048 251.194814 \r\nL 393.527816 251.194814 \r\nM 393.835352 251.194814 \r\nL 394.142889 251.194814 \r\nL 394.296657 238.533755 \r\nL 394.450425 251.194814 \r\nL 394.757961 247.07997 \r\nL 394.911729 250.878287 \r\nL 395.065497 251.194814 \r\nL 395.219265 246.763443 \r\nL 395.373033 251.194814 \r\nL 395.526801 249.295655 \r\nL 395.68057 241.69902 \r\nL 395.834338 251.194814 \r\nL 395.988106 250.561761 \r\nL 396.141874 243.914705 \r\nL 396.295642 251.194814 \r\nL 396.756946 251.194814 \r\nL 396.910714 241.69902 \r\nL 397.064483 251.194814 \r\nL 397.525787 251.194814 \r\nM 398.294627 247.396496 \r\nL 398.448395 250.561761 \r\nL 398.602164 251.194814 \r\nL 398.755932 249.612181 \r\nL 398.9097 251.194814 \r\nL 399.063468 251.194814 \r\nL 399.217236 243.281652 \r\nL 399.371004 251.194814 \r\nL 399.524772 251.194814 \r\nL 399.67854 249.295655 \r\nL 399.832308 250.878287 \r\nL 399.986077 249.928708 \r\nL 400.293613 251.194814 \r\nL 400.601149 251.194814 \r\nM 400.908685 249.295655 \r\nL 401.062453 251.194814 \r\nL 401.523758 251.194814 \r\nM 401.831294 251.194814 \r\nL 401.985062 251.194814 \r\nL 402.13883 249.612181 \r\nL 402.292598 251.194814 \r\nL 402.600134 251.194814 \r\nL 402.753902 248.029549 \r\nL 402.90767 240.432914 \r\nL 403.061439 251.194814 \r\nL 403.215207 251.194814 \r\nL 403.368975 246.446917 \r\nL 403.522743 251.194814 \r\nL 403.676511 248.979128 \r\nL 403.830279 251.194814 \r\nL 404.137815 251.194814 \r\nM 404.445352 251.194814 \r\nL 404.59912 251.194814 \r\nL 404.752888 246.763443 \r\nL 404.906656 251.194814 \r\nL 405.36796 251.194814 \r\nM 405.983033 248.662602 \r\nL 406.136801 251.194814 \r\nL 406.290569 251.194814 \r\nL 406.444337 250.878287 \r\nL 406.751873 237.900702 \r\nL 406.905641 250.561761 \r\nL 407.059409 241.065967 \r\nL 407.213177 249.295655 \r\nL 407.366946 251.194814 \r\nL 407.520714 237.900702 \r\nL 407.674482 251.194814 \r\nL 407.982018 247.396496 \r\nL 408.135786 247.07997 \r\nL 408.289554 251.194814 \r\nL 408.443322 249.612181 \r\nL 408.59709 250.878287 \r\nL 408.750858 251.194814 \r\nM 409.058395 249.295655 \r\nL 409.212163 251.194814 \r\nL 409.365931 248.346076 \r\nM 409.673467 251.194814 \r\nL 409.827235 251.194814 \r\nM 410.134771 251.194814 \r\nL 410.288539 250.878287 \r\nL 410.442308 233.469332 \r\nL 410.596076 250.561761 \r\nL 410.749844 251.194814 \r\nM 411.05738 235.368491 \r\nL 411.211148 251.194814 \r\nL 411.364916 251.194814 \r\nL 411.518684 248.662602 \r\nL 411.672452 251.194814 \r\nL 411.826221 251.194814 \r\nL 411.979989 236.951123 \r\nL 411.979989 236.951123 \r\n\" style=\"fill:none;stroke:#008fd5;stroke-width:4;\"/>\r\n   </g>\r\n   <g id=\"patch_3\">\r\n    <path d=\"M 53.223625 261.79845 \r\nL 53.223625 28.51845 \r\n\" style=\"fill:none;stroke:#f0f0f0;stroke-linecap:square;stroke-linejoin:miter;stroke-width:3;\"/>\r\n   </g>\r\n   <g id=\"patch_4\">\r\n    <path d=\"M 429.063625 261.79845 \r\nL 429.063625 28.51845 \r\n\" style=\"fill:none;stroke:#f0f0f0;stroke-linecap:square;stroke-linejoin:miter;stroke-width:3;\"/>\r\n   </g>\r\n   <g id=\"patch_5\">\r\n    <path d=\"M 53.223625 261.79845 \r\nL 429.063625 261.79845 \r\n\" style=\"fill:none;stroke:#f0f0f0;stroke-linecap:square;stroke-linejoin:miter;stroke-width:3;\"/>\r\n   </g>\r\n   <g id=\"patch_6\">\r\n    <path d=\"M 53.223625 28.51845 \r\nL 429.063625 28.51845 \r\n\" style=\"fill:none;stroke:#f0f0f0;stroke-linecap:square;stroke-linejoin:miter;stroke-width:3;\"/>\r\n   </g>\r\n   <g id=\"text_22\">\r\n    <!-- Precipitation -->\r\n    <defs>\r\n     <path d=\"M 19.671875 64.796875 \r\nL 19.671875 37.40625 \r\nL 32.078125 37.40625 \r\nQ 38.96875 37.40625 42.71875 40.96875 \r\nQ 46.484375 44.53125 46.484375 51.125 \r\nQ 46.484375 57.671875 42.71875 61.234375 \r\nQ 38.96875 64.796875 32.078125 64.796875 \r\nz\r\nM 9.8125 72.90625 \r\nL 32.078125 72.90625 \r\nQ 44.34375 72.90625 50.609375 67.359375 \r\nQ 56.890625 61.8125 56.890625 51.125 \r\nQ 56.890625 40.328125 50.609375 34.8125 \r\nQ 44.34375 29.296875 32.078125 29.296875 \r\nL 19.671875 29.296875 \r\nL 19.671875 0 \r\nL 9.8125 0 \r\nz\r\n\" id=\"DejaVuSans-80\"/>\r\n     <path d=\"M 41.109375 46.296875 \r\nQ 39.59375 47.171875 37.8125 47.578125 \r\nQ 36.03125 48 33.890625 48 \r\nQ 26.265625 48 22.1875 43.046875 \r\nQ 18.109375 38.09375 18.109375 28.8125 \r\nL 18.109375 0 \r\nL 9.078125 0 \r\nL 9.078125 54.6875 \r\nL 18.109375 54.6875 \r\nL 18.109375 46.1875 \r\nQ 20.953125 51.171875 25.484375 53.578125 \r\nQ 30.03125 56 36.53125 56 \r\nQ 37.453125 56 38.578125 55.875 \r\nQ 39.703125 55.765625 41.0625 55.515625 \r\nz\r\n\" id=\"DejaVuSans-114\"/>\r\n     <path d=\"M 9.421875 54.6875 \r\nL 18.40625 54.6875 \r\nL 18.40625 0 \r\nL 9.421875 0 \r\nz\r\nM 9.421875 75.984375 \r\nL 18.40625 75.984375 \r\nL 18.40625 64.59375 \r\nL 9.421875 64.59375 \r\nz\r\n\" id=\"DejaVuSans-105\"/>\r\n     <path d=\"M 18.109375 8.203125 \r\nL 18.109375 -20.796875 \r\nL 9.078125 -20.796875 \r\nL 9.078125 54.6875 \r\nL 18.109375 54.6875 \r\nL 18.109375 46.390625 \r\nQ 20.953125 51.265625 25.265625 53.625 \r\nQ 29.59375 56 35.59375 56 \r\nQ 45.5625 56 51.78125 48.09375 \r\nQ 58.015625 40.1875 58.015625 27.296875 \r\nQ 58.015625 14.40625 51.78125 6.484375 \r\nQ 45.5625 -1.421875 35.59375 -1.421875 \r\nQ 29.59375 -1.421875 25.265625 0.953125 \r\nQ 20.953125 3.328125 18.109375 8.203125 \r\nz\r\nM 48.6875 27.296875 \r\nQ 48.6875 37.203125 44.609375 42.84375 \r\nQ 40.53125 48.484375 33.40625 48.484375 \r\nQ 26.265625 48.484375 22.1875 42.84375 \r\nQ 18.109375 37.203125 18.109375 27.296875 \r\nQ 18.109375 17.390625 22.1875 11.75 \r\nQ 26.265625 6.109375 33.40625 6.109375 \r\nQ 40.53125 6.109375 44.609375 11.75 \r\nQ 48.6875 17.390625 48.6875 27.296875 \r\nz\r\n\" id=\"DejaVuSans-112\"/>\r\n     <path d=\"M 30.609375 48.390625 \r\nQ 23.390625 48.390625 19.1875 42.75 \r\nQ 14.984375 37.109375 14.984375 27.296875 \r\nQ 14.984375 17.484375 19.15625 11.84375 \r\nQ 23.34375 6.203125 30.609375 6.203125 \r\nQ 37.796875 6.203125 41.984375 11.859375 \r\nQ 46.1875 17.53125 46.1875 27.296875 \r\nQ 46.1875 37.015625 41.984375 42.703125 \r\nQ 37.796875 48.390625 30.609375 48.390625 \r\nz\r\nM 30.609375 56 \r\nQ 42.328125 56 49.015625 48.375 \r\nQ 55.71875 40.765625 55.71875 27.296875 \r\nQ 55.71875 13.875 49.015625 6.21875 \r\nQ 42.328125 -1.421875 30.609375 -1.421875 \r\nQ 18.84375 -1.421875 12.171875 6.21875 \r\nQ 5.515625 13.875 5.515625 27.296875 \r\nQ 5.515625 40.765625 12.171875 48.375 \r\nQ 18.84375 56 30.609375 56 \r\nz\r\n\" id=\"DejaVuSans-111\"/>\r\n    </defs>\r\n    <g transform=\"translate(178.143625 22.51845)scale(0.2016 -0.2016)\">\r\n     <use xlink:href=\"#DejaVuSans-80\"/>\r\n     <use x=\"58.552734\" xlink:href=\"#DejaVuSans-114\"/>\r\n     <use x=\"97.416016\" xlink:href=\"#DejaVuSans-101\"/>\r\n     <use x=\"158.939453\" xlink:href=\"#DejaVuSans-99\"/>\r\n     <use x=\"213.919922\" xlink:href=\"#DejaVuSans-105\"/>\r\n     <use x=\"241.703125\" xlink:href=\"#DejaVuSans-112\"/>\r\n     <use x=\"305.179688\" xlink:href=\"#DejaVuSans-105\"/>\r\n     <use x=\"332.962891\" xlink:href=\"#DejaVuSans-116\"/>\r\n     <use x=\"372.171875\" xlink:href=\"#DejaVuSans-97\"/>\r\n     <use x=\"433.451172\" xlink:href=\"#DejaVuSans-116\"/>\r\n     <use x=\"472.660156\" xlink:href=\"#DejaVuSans-105\"/>\r\n     <use x=\"500.443359\" xlink:href=\"#DejaVuSans-111\"/>\r\n     <use x=\"561.625\" xlink:href=\"#DejaVuSans-110\"/>\r\n    </g>\r\n   </g>\r\n  </g>\r\n </g>\r\n <defs>\r\n  <clipPath id=\"p3feb0aa6e8\">\r\n   <rect height=\"233.28\" width=\"375.84\" x=\"53.223625\" y=\"28.51845\"/>\r\n  </clipPath>\r\n </defs>\r\n</svg>\r\n",
      "image/png": "[encoded data removed]"
     },
     "metadata": {}
    },
    {
     "output_type": "display_data",
     "data": {
      "text/plain": "<Figure size 432x432 with 0 Axes>"
     },
     "metadata": {}
    }
   ],
   "source": [
    "# Use Pandas Plotting with Matplotlib to plot the data\n",
    "df.plot(rot=90, legend=False)\n",
    "plt.yticks(np.arange(0, 7, step=0.5))\n",
    "plt.title('Precipitation')\n",
    "plt.ylabel('Inches')\n",
    "plt.xlabel('Date')\n",
    "plt.figure(figsize=(6, 6))\n",
    "plt.show()"
   ]
  },
  {
   "cell_type": "code",
   "execution_count": 21,
   "metadata": {},
   "outputs": [
    {
     "output_type": "execute_result",
     "data": {
      "text/plain": [
       "       precipitation\n",
       "count    2015.000000\n",
       "mean        0.176462\n",
       "std         0.460288\n",
       "min         0.000000\n",
       "25%         0.000000\n",
       "50%         0.020000\n",
       "75%         0.130000\n",
       "max         6.700000"
      ],
      "text/html": "<div>\n<style scoped>\n    .dataframe tbody tr th:only-of-type {\n        vertical-align: middle;\n    }\n\n    .dataframe tbody tr th {\n        vertical-align: top;\n    }\n\n    .dataframe thead th {\n        text-align: right;\n    }\n</style>\n<table border=\"1\" class=\"dataframe\">\n  <thead>\n    <tr style=\"text-align: right;\">\n      <th></th>\n      <th>precipitation</th>\n    </tr>\n  </thead>\n  <tbody>\n    <tr>\n      <th>count</th>\n      <td>2015.000000</td>\n    </tr>\n    <tr>\n      <th>mean</th>\n      <td>0.176462</td>\n    </tr>\n    <tr>\n      <th>std</th>\n      <td>0.460288</td>\n    </tr>\n    <tr>\n      <th>min</th>\n      <td>0.000000</td>\n    </tr>\n    <tr>\n      <th>25%</th>\n      <td>0.000000</td>\n    </tr>\n    <tr>\n      <th>50%</th>\n      <td>0.020000</td>\n    </tr>\n    <tr>\n      <th>75%</th>\n      <td>0.130000</td>\n    </tr>\n    <tr>\n      <th>max</th>\n      <td>6.700000</td>\n    </tr>\n  </tbody>\n</table>\n</div>"
     },
     "metadata": {},
     "execution_count": 21
    }
   ],
   "source": [
    "# Use Pandas to calculate the summary statistics for the precipitation data\n",
    "df.describe()"
   ]
  },
  {
   "cell_type": "code",
   "execution_count": 22,
   "metadata": {},
   "outputs": [
    {
     "output_type": "stream",
     "name": "stdout",
     "text": [
      "id INTEGER\nstation TEXT\ndate TEXT\nprcp FLOAT\ntobs FLOAT\n"
     ]
    }
   ],
   "source": [
    "inspector = inspect(engine)\n",
    "columns = inspector.get_columns('measurement')\n",
    "for c in columns:\n",
    "    print(c['name'], c[\"type\"])"
   ]
  },
  {
   "cell_type": "code",
   "execution_count": 23,
   "metadata": {},
   "outputs": [
    {
     "output_type": "execute_result",
     "data": {
      "text/plain": [
       "[(9)]"
      ]
     },
     "metadata": {},
     "execution_count": 23
    }
   ],
   "source": [
    "# Design a query to show how many stations are available in this dataset?\n",
    "station_table=session.query(func.count(Station.station)).all()\n",
    "station_table"
   ]
  },
  {
   "cell_type": "code",
   "execution_count": 24,
   "metadata": {},
   "outputs": [
    {
     "output_type": "execute_result",
     "data": {
      "text/plain": [
       "[('USC00519281', 2772),\n",
       " ('USC00519397', 2724),\n",
       " ('USC00513117', 2709),\n",
       " ('USC00519523', 2669),\n",
       " ('USC00516128', 2612),\n",
       " ('USC00514830', 2202),\n",
       " ('USC00511918', 1979),\n",
       " ('USC00517948', 1372),\n",
       " ('USC00518838', 511)]"
      ]
     },
     "metadata": {},
     "execution_count": 24
    }
   ],
   "source": [
    "# What are the most active stations? (i.e. what stations have the most rows)?  \n",
    "# List the stations and the counts in descending order.\n",
    "sel = [Measurement.station, \n",
    "       func.count(Measurement.station)\n",
    "      ]\n",
    "station_count = session.query(*sel).\\\n",
    "    group_by(Measurement.station).\\\n",
    "    order_by(func.count(Measurement.station).desc()).all()\n",
    "station_count"
   ]
  },
  {
   "cell_type": "code",
   "execution_count": 25,
   "metadata": {},
   "outputs": [
    {
     "output_type": "execute_result",
     "data": {
      "text/plain": [
       "[('USC00519281', 54.0, 85.0, 71.66378066378067)]"
      ]
     },
     "metadata": {},
     "execution_count": 25
    }
   ],
   "source": [
    "# Using the station id from the previous query, calculate the lowest temperature recorded, \n",
    "# highest temperature recorded, and average temperature of the most active station?   #USC00519281\n",
    "sel = [Measurement.station, \n",
    "       func.min(Measurement.tobs), \n",
    "       func.max(Measurement.tobs), \n",
    "       func.avg(Measurement.tobs) \n",
    "       ]\n",
    "station_temp = session.query(*sel).\\\n",
    "    filter(Measurement.station == \"USC00519281\").all()\n",
    "station_temp\n"
   ]
  },
  {
   "cell_type": "code",
   "execution_count": 26,
   "metadata": {},
   "outputs": [
    {
     "output_type": "execute_result",
     "data": {
      "text/plain": [
       "[('USC00519397', 360),\n",
       " ('USC00519281', 351),\n",
       " ('USC00516128', 348),\n",
       " ('USC00513117', 342),\n",
       " ('USC00519523', 336),\n",
       " ('USC00514830', 304),\n",
       " ('USC00517948', 182)]"
      ]
     },
     "metadata": {},
     "execution_count": 26
    }
   ],
   "source": [
    "#Design a query to retrieve the last 12 months of temperature observation data (TOBS).\n",
    "\n",
    "date1 = dt.datetime(2016, 8, 23)\n",
    "\n",
    "sel = [Measurement.station, \n",
    "       func.count(Measurement.station) \n",
    "      ]\n",
    "year_temp = session.query(*sel).\\\n",
    "    filter(Measurement.date >= date1).\\\n",
    "    group_by(Measurement.station).\\\n",
    "    order_by(func.count(Measurement.station).desc()).all()\n",
    "year_temp\n",
    "\n",
    "#Filter by the station with the highest number of observations."
   ]
  },
  {
   "cell_type": "code",
   "execution_count": 27,
   "metadata": {},
   "outputs": [],
   "source": [
    "#Plot the results as a histogram with `bins=12`.\n",
    "sel = [Measurement.date, Measurement.tobs]\n",
    "temp_year = session.query(*sel).\\\n",
    "    filter(Measurement.date >= one_year_date).filter(Measurement.station == \"USC00519281\").all()\n",
    "#temp_year"
   ]
  },
  {
   "cell_type": "code",
   "execution_count": 28,
   "metadata": {},
   "outputs": [],
   "source": [
    "temp_year_df = pd.DataFrame(temp_year, columns=['date', 'tobs'])\n",
    "temp_year_df.set_index('date', inplace=True, )\n",
    "# Sort the dataframe by date\n",
    "temp_year_df=temp_year_df.sort_index()\n",
    "#temp_year_df"
   ]
  },
  {
   "cell_type": "code",
   "execution_count": 29,
   "metadata": {},
   "outputs": [
    {
     "output_type": "display_data",
     "data": {
      "text/plain": "<Figure size 432x288 with 1 Axes>",
      "image/svg+xml": "<?xml version=\"1.0\" encoding=\"utf-8\" standalone=\"no\"?>\r\n<!DOCTYPE svg PUBLIC \"-//W3C//DTD SVG 1.1//EN\"\r\n  \"http://www.w3.org/Graphics/SVG/1.1/DTD/svg11.dtd\">\r\n<!-- Created with matplotlib (https://matplotlib.org/) -->\r\n<svg height=\"264.729375pt\" version=\"1.1\" viewBox=\"0 0 431.81425 264.729375\" width=\"431.81425pt\" xmlns=\"http://www.w3.org/2000/svg\" xmlns:xlink=\"http://www.w3.org/1999/xlink\">\r\n <defs>\r\n  <style type=\"text/css\">\r\n*{stroke-linecap:butt;stroke-linejoin:round;}\r\n  </style>\r\n </defs>\r\n <g id=\"figure_1\">\r\n  <g id=\"patch_1\">\r\n   <path d=\"M 0 264.729375 \r\nL 431.81425 264.729375 \r\nL 431.81425 0 \r\nL 0 0 \r\nz\r\n\" style=\"fill:#f0f0f0;\"/>\r\n  </g>\r\n  <g id=\"axes_1\">\r\n   <g id=\"patch_2\">\r\n    <path d=\"M 48.77425 240.48 \r\nL 424.61425 240.48 \r\nL 424.61425 7.2 \r\nL 48.77425 7.2 \r\nz\r\n\" style=\"fill:#f0f0f0;\"/>\r\n   </g>\r\n   <g id=\"matplotlib.axis_1\">\r\n    <g id=\"xtick_1\">\r\n     <g id=\"line2d_1\">\r\n      <path clip-path=\"url(#p7f49d757c7)\" d=\"M 80.09425 240.48 \r\nL 80.09425 7.2 \r\n\" style=\"fill:none;stroke:#cbcbcb;\"/>\r\n     </g>\r\n     <g id=\"line2d_2\"/>\r\n     <g id=\"text_1\">\r\n      <!-- 60 -->\r\n      <defs>\r\n       <path d=\"M 33.015625 40.375 \r\nQ 26.375 40.375 22.484375 35.828125 \r\nQ 18.609375 31.296875 18.609375 23.390625 \r\nQ 18.609375 15.53125 22.484375 10.953125 \r\nQ 26.375 6.390625 33.015625 6.390625 \r\nQ 39.65625 6.390625 43.53125 10.953125 \r\nQ 47.40625 15.53125 47.40625 23.390625 \r\nQ 47.40625 31.296875 43.53125 35.828125 \r\nQ 39.65625 40.375 33.015625 40.375 \r\nz\r\nM 52.59375 71.296875 \r\nL 52.59375 62.3125 \r\nQ 48.875 64.0625 45.09375 64.984375 \r\nQ 41.3125 65.921875 37.59375 65.921875 \r\nQ 27.828125 65.921875 22.671875 59.328125 \r\nQ 17.53125 52.734375 16.796875 39.40625 \r\nQ 19.671875 43.65625 24.015625 45.921875 \r\nQ 28.375 48.1875 33.59375 48.1875 \r\nQ 44.578125 48.1875 50.953125 41.515625 \r\nQ 57.328125 34.859375 57.328125 23.390625 \r\nQ 57.328125 12.15625 50.6875 5.359375 \r\nQ 44.046875 -1.421875 33.015625 -1.421875 \r\nQ 20.359375 -1.421875 13.671875 8.265625 \r\nQ 6.984375 17.96875 6.984375 36.375 \r\nQ 6.984375 53.65625 15.1875 63.9375 \r\nQ 23.390625 74.21875 37.203125 74.21875 \r\nQ 40.921875 74.21875 44.703125 73.484375 \r\nQ 48.484375 72.75 52.59375 71.296875 \r\nz\r\n\" id=\"DejaVuSans-54\"/>\r\n       <path d=\"M 31.78125 66.40625 \r\nQ 24.171875 66.40625 20.328125 58.90625 \r\nQ 16.5 51.421875 16.5 36.375 \r\nQ 16.5 21.390625 20.328125 13.890625 \r\nQ 24.171875 6.390625 31.78125 6.390625 \r\nQ 39.453125 6.390625 43.28125 13.890625 \r\nQ 47.125 21.390625 47.125 36.375 \r\nQ 47.125 51.421875 43.28125 58.90625 \r\nQ 39.453125 66.40625 31.78125 66.40625 \r\nz\r\nM 31.78125 74.21875 \r\nQ 44.046875 74.21875 50.515625 64.515625 \r\nQ 56.984375 54.828125 56.984375 36.375 \r\nQ 56.984375 17.96875 50.515625 8.265625 \r\nQ 44.046875 -1.421875 31.78125 -1.421875 \r\nQ 19.53125 -1.421875 13.0625 8.265625 \r\nQ 6.59375 17.96875 6.59375 36.375 \r\nQ 6.59375 54.828125 13.0625 64.515625 \r\nQ 19.53125 74.21875 31.78125 74.21875 \r\nz\r\n\" id=\"DejaVuSans-48\"/>\r\n      </defs>\r\n      <g transform=\"translate(71.18675 254.617813)scale(0.14 -0.14)\">\r\n       <use xlink:href=\"#DejaVuSans-54\"/>\r\n       <use x=\"63.623047\" xlink:href=\"#DejaVuSans-48\"/>\r\n      </g>\r\n     </g>\r\n    </g>\r\n    <g id=\"xtick_2\">\r\n     <g id=\"line2d_3\">\r\n      <path clip-path=\"url(#p7f49d757c7)\" d=\"M 151.276068 240.48 \r\nL 151.276068 7.2 \r\n\" style=\"fill:none;stroke:#cbcbcb;\"/>\r\n     </g>\r\n     <g id=\"line2d_4\"/>\r\n     <g id=\"text_2\">\r\n      <!-- 65 -->\r\n      <defs>\r\n       <path d=\"M 10.796875 72.90625 \r\nL 49.515625 72.90625 \r\nL 49.515625 64.59375 \r\nL 19.828125 64.59375 \r\nL 19.828125 46.734375 \r\nQ 21.96875 47.46875 24.109375 47.828125 \r\nQ 26.265625 48.1875 28.421875 48.1875 \r\nQ 40.625 48.1875 47.75 41.5 \r\nQ 54.890625 34.8125 54.890625 23.390625 \r\nQ 54.890625 11.625 47.5625 5.09375 \r\nQ 40.234375 -1.421875 26.90625 -1.421875 \r\nQ 22.3125 -1.421875 17.546875 -0.640625 \r\nQ 12.796875 0.140625 7.71875 1.703125 \r\nL 7.71875 11.625 \r\nQ 12.109375 9.234375 16.796875 8.0625 \r\nQ 21.484375 6.890625 26.703125 6.890625 \r\nQ 35.15625 6.890625 40.078125 11.328125 \r\nQ 45.015625 15.765625 45.015625 23.390625 \r\nQ 45.015625 31 40.078125 35.4375 \r\nQ 35.15625 39.890625 26.703125 39.890625 \r\nQ 22.75 39.890625 18.8125 39.015625 \r\nQ 14.890625 38.140625 10.796875 36.28125 \r\nz\r\n\" id=\"DejaVuSans-53\"/>\r\n      </defs>\r\n      <g transform=\"translate(142.368568 254.617813)scale(0.14 -0.14)\">\r\n       <use xlink:href=\"#DejaVuSans-54\"/>\r\n       <use x=\"63.623047\" xlink:href=\"#DejaVuSans-53\"/>\r\n      </g>\r\n     </g>\r\n    </g>\r\n    <g id=\"xtick_3\">\r\n     <g id=\"line2d_5\">\r\n      <path clip-path=\"url(#p7f49d757c7)\" d=\"M 222.457886 240.48 \r\nL 222.457886 7.2 \r\n\" style=\"fill:none;stroke:#cbcbcb;\"/>\r\n     </g>\r\n     <g id=\"line2d_6\"/>\r\n     <g id=\"text_3\">\r\n      <!-- 70 -->\r\n      <defs>\r\n       <path d=\"M 8.203125 72.90625 \r\nL 55.078125 72.90625 \r\nL 55.078125 68.703125 \r\nL 28.609375 0 \r\nL 18.3125 0 \r\nL 43.21875 64.59375 \r\nL 8.203125 64.59375 \r\nz\r\n\" id=\"DejaVuSans-55\"/>\r\n      </defs>\r\n      <g transform=\"translate(213.550386 254.617813)scale(0.14 -0.14)\">\r\n       <use xlink:href=\"#DejaVuSans-55\"/>\r\n       <use x=\"63.623047\" xlink:href=\"#DejaVuSans-48\"/>\r\n      </g>\r\n     </g>\r\n    </g>\r\n    <g id=\"xtick_4\">\r\n     <g id=\"line2d_7\">\r\n      <path clip-path=\"url(#p7f49d757c7)\" d=\"M 293.639705 240.48 \r\nL 293.639705 7.2 \r\n\" style=\"fill:none;stroke:#cbcbcb;\"/>\r\n     </g>\r\n     <g id=\"line2d_8\"/>\r\n     <g id=\"text_4\">\r\n      <!-- 75 -->\r\n      <g transform=\"translate(284.732205 254.617813)scale(0.14 -0.14)\">\r\n       <use xlink:href=\"#DejaVuSans-55\"/>\r\n       <use x=\"63.623047\" xlink:href=\"#DejaVuSans-53\"/>\r\n      </g>\r\n     </g>\r\n    </g>\r\n    <g id=\"xtick_5\">\r\n     <g id=\"line2d_9\">\r\n      <path clip-path=\"url(#p7f49d757c7)\" d=\"M 364.821523 240.48 \r\nL 364.821523 7.2 \r\n\" style=\"fill:none;stroke:#cbcbcb;\"/>\r\n     </g>\r\n     <g id=\"line2d_10\"/>\r\n     <g id=\"text_5\">\r\n      <!-- 80 -->\r\n      <defs>\r\n       <path d=\"M 31.78125 34.625 \r\nQ 24.75 34.625 20.71875 30.859375 \r\nQ 16.703125 27.09375 16.703125 20.515625 \r\nQ 16.703125 13.921875 20.71875 10.15625 \r\nQ 24.75 6.390625 31.78125 6.390625 \r\nQ 38.8125 6.390625 42.859375 10.171875 \r\nQ 46.921875 13.96875 46.921875 20.515625 \r\nQ 46.921875 27.09375 42.890625 30.859375 \r\nQ 38.875 34.625 31.78125 34.625 \r\nz\r\nM 21.921875 38.8125 \r\nQ 15.578125 40.375 12.03125 44.71875 \r\nQ 8.5 49.078125 8.5 55.328125 \r\nQ 8.5 64.0625 14.71875 69.140625 \r\nQ 20.953125 74.21875 31.78125 74.21875 \r\nQ 42.671875 74.21875 48.875 69.140625 \r\nQ 55.078125 64.0625 55.078125 55.328125 \r\nQ 55.078125 49.078125 51.53125 44.71875 \r\nQ 48 40.375 41.703125 38.8125 \r\nQ 48.828125 37.15625 52.796875 32.3125 \r\nQ 56.78125 27.484375 56.78125 20.515625 \r\nQ 56.78125 9.90625 50.3125 4.234375 \r\nQ 43.84375 -1.421875 31.78125 -1.421875 \r\nQ 19.734375 -1.421875 13.25 4.234375 \r\nQ 6.78125 9.90625 6.78125 20.515625 \r\nQ 6.78125 27.484375 10.78125 32.3125 \r\nQ 14.796875 37.15625 21.921875 38.8125 \r\nz\r\nM 18.3125 54.390625 \r\nQ 18.3125 48.734375 21.84375 45.5625 \r\nQ 25.390625 42.390625 31.78125 42.390625 \r\nQ 38.140625 42.390625 41.71875 45.5625 \r\nQ 45.3125 48.734375 45.3125 54.390625 \r\nQ 45.3125 60.0625 41.71875 63.234375 \r\nQ 38.140625 66.40625 31.78125 66.40625 \r\nQ 25.390625 66.40625 21.84375 63.234375 \r\nQ 18.3125 60.0625 18.3125 54.390625 \r\nz\r\n\" id=\"DejaVuSans-56\"/>\r\n      </defs>\r\n      <g transform=\"translate(355.914023 254.617813)scale(0.14 -0.14)\">\r\n       <use xlink:href=\"#DejaVuSans-56\"/>\r\n       <use x=\"63.623047\" xlink:href=\"#DejaVuSans-48\"/>\r\n      </g>\r\n     </g>\r\n    </g>\r\n   </g>\r\n   <g id=\"matplotlib.axis_2\">\r\n    <g id=\"ytick_1\">\r\n     <g id=\"line2d_11\">\r\n      <path clip-path=\"url(#p7f49d757c7)\" d=\"M 48.77425 240.48 \r\nL 424.61425 240.48 \r\n\" style=\"fill:none;stroke:#cbcbcb;\"/>\r\n     </g>\r\n     <g id=\"line2d_12\"/>\r\n     <g id=\"text_6\">\r\n      <!-- 0 -->\r\n      <g transform=\"translate(36.36675 245.798906)scale(0.14 -0.14)\">\r\n       <use xlink:href=\"#DejaVuSans-48\"/>\r\n      </g>\r\n     </g>\r\n    </g>\r\n    <g id=\"ytick_2\">\r\n     <g id=\"line2d_13\">\r\n      <path clip-path=\"url(#p7f49d757c7)\" d=\"M 48.77425 206.817662 \r\nL 424.61425 206.817662 \r\n\" style=\"fill:none;stroke:#cbcbcb;\"/>\r\n     </g>\r\n     <g id=\"line2d_14\"/>\r\n     <g id=\"text_7\">\r\n      <!-- 10 -->\r\n      <defs>\r\n       <path d=\"M 12.40625 8.296875 \r\nL 28.515625 8.296875 \r\nL 28.515625 63.921875 \r\nL 10.984375 60.40625 \r\nL 10.984375 69.390625 \r\nL 28.421875 72.90625 \r\nL 38.28125 72.90625 \r\nL 38.28125 8.296875 \r\nL 54.390625 8.296875 \r\nL 54.390625 0 \r\nL 12.40625 0 \r\nz\r\n\" id=\"DejaVuSans-49\"/>\r\n      </defs>\r\n      <g transform=\"translate(27.45925 212.136569)scale(0.14 -0.14)\">\r\n       <use xlink:href=\"#DejaVuSans-49\"/>\r\n       <use x=\"63.623047\" xlink:href=\"#DejaVuSans-48\"/>\r\n      </g>\r\n     </g>\r\n    </g>\r\n    <g id=\"ytick_3\">\r\n     <g id=\"line2d_15\">\r\n      <path clip-path=\"url(#p7f49d757c7)\" d=\"M 48.77425 173.155325 \r\nL 424.61425 173.155325 \r\n\" style=\"fill:none;stroke:#cbcbcb;\"/>\r\n     </g>\r\n     <g id=\"line2d_16\"/>\r\n     <g id=\"text_8\">\r\n      <!-- 20 -->\r\n      <defs>\r\n       <path d=\"M 19.1875 8.296875 \r\nL 53.609375 8.296875 \r\nL 53.609375 0 \r\nL 7.328125 0 \r\nL 7.328125 8.296875 \r\nQ 12.9375 14.109375 22.625 23.890625 \r\nQ 32.328125 33.6875 34.8125 36.53125 \r\nQ 39.546875 41.84375 41.421875 45.53125 \r\nQ 43.3125 49.21875 43.3125 52.78125 \r\nQ 43.3125 58.59375 39.234375 62.25 \r\nQ 35.15625 65.921875 28.609375 65.921875 \r\nQ 23.96875 65.921875 18.8125 64.3125 \r\nQ 13.671875 62.703125 7.8125 59.421875 \r\nL 7.8125 69.390625 \r\nQ 13.765625 71.78125 18.9375 73 \r\nQ 24.125 74.21875 28.421875 74.21875 \r\nQ 39.75 74.21875 46.484375 68.546875 \r\nQ 53.21875 62.890625 53.21875 53.421875 \r\nQ 53.21875 48.921875 51.53125 44.890625 \r\nQ 49.859375 40.875 45.40625 35.40625 \r\nQ 44.1875 33.984375 37.640625 27.21875 \r\nQ 31.109375 20.453125 19.1875 8.296875 \r\nz\r\n\" id=\"DejaVuSans-50\"/>\r\n      </defs>\r\n      <g transform=\"translate(27.45925 178.474231)scale(0.14 -0.14)\">\r\n       <use xlink:href=\"#DejaVuSans-50\"/>\r\n       <use x=\"63.623047\" xlink:href=\"#DejaVuSans-48\"/>\r\n      </g>\r\n     </g>\r\n    </g>\r\n    <g id=\"ytick_4\">\r\n     <g id=\"line2d_17\">\r\n      <path clip-path=\"url(#p7f49d757c7)\" d=\"M 48.77425 139.492987 \r\nL 424.61425 139.492987 \r\n\" style=\"fill:none;stroke:#cbcbcb;\"/>\r\n     </g>\r\n     <g id=\"line2d_18\"/>\r\n     <g id=\"text_9\">\r\n      <!-- 30 -->\r\n      <defs>\r\n       <path d=\"M 40.578125 39.3125 \r\nQ 47.65625 37.796875 51.625 33 \r\nQ 55.609375 28.21875 55.609375 21.1875 \r\nQ 55.609375 10.40625 48.1875 4.484375 \r\nQ 40.765625 -1.421875 27.09375 -1.421875 \r\nQ 22.515625 -1.421875 17.65625 -0.515625 \r\nQ 12.796875 0.390625 7.625 2.203125 \r\nL 7.625 11.71875 \r\nQ 11.71875 9.328125 16.59375 8.109375 \r\nQ 21.484375 6.890625 26.8125 6.890625 \r\nQ 36.078125 6.890625 40.9375 10.546875 \r\nQ 45.796875 14.203125 45.796875 21.1875 \r\nQ 45.796875 27.640625 41.28125 31.265625 \r\nQ 36.765625 34.90625 28.71875 34.90625 \r\nL 20.21875 34.90625 \r\nL 20.21875 43.015625 \r\nL 29.109375 43.015625 \r\nQ 36.375 43.015625 40.234375 45.921875 \r\nQ 44.09375 48.828125 44.09375 54.296875 \r\nQ 44.09375 59.90625 40.109375 62.90625 \r\nQ 36.140625 65.921875 28.71875 65.921875 \r\nQ 24.65625 65.921875 20.015625 65.03125 \r\nQ 15.375 64.15625 9.8125 62.3125 \r\nL 9.8125 71.09375 \r\nQ 15.4375 72.65625 20.34375 73.4375 \r\nQ 25.25 74.21875 29.59375 74.21875 \r\nQ 40.828125 74.21875 47.359375 69.109375 \r\nQ 53.90625 64.015625 53.90625 55.328125 \r\nQ 53.90625 49.265625 50.4375 45.09375 \r\nQ 46.96875 40.921875 40.578125 39.3125 \r\nz\r\n\" id=\"DejaVuSans-51\"/>\r\n      </defs>\r\n      <g transform=\"translate(27.45925 144.811893)scale(0.14 -0.14)\">\r\n       <use xlink:href=\"#DejaVuSans-51\"/>\r\n       <use x=\"63.623047\" xlink:href=\"#DejaVuSans-48\"/>\r\n      </g>\r\n     </g>\r\n    </g>\r\n    <g id=\"ytick_5\">\r\n     <g id=\"line2d_19\">\r\n      <path clip-path=\"url(#p7f49d757c7)\" d=\"M 48.77425 105.830649 \r\nL 424.61425 105.830649 \r\n\" style=\"fill:none;stroke:#cbcbcb;\"/>\r\n     </g>\r\n     <g id=\"line2d_20\"/>\r\n     <g id=\"text_10\">\r\n      <!-- 40 -->\r\n      <defs>\r\n       <path d=\"M 37.796875 64.3125 \r\nL 12.890625 25.390625 \r\nL 37.796875 25.390625 \r\nz\r\nM 35.203125 72.90625 \r\nL 47.609375 72.90625 \r\nL 47.609375 25.390625 \r\nL 58.015625 25.390625 \r\nL 58.015625 17.1875 \r\nL 47.609375 17.1875 \r\nL 47.609375 0 \r\nL 37.796875 0 \r\nL 37.796875 17.1875 \r\nL 4.890625 17.1875 \r\nL 4.890625 26.703125 \r\nz\r\n\" id=\"DejaVuSans-52\"/>\r\n      </defs>\r\n      <g transform=\"translate(27.45925 111.149556)scale(0.14 -0.14)\">\r\n       <use xlink:href=\"#DejaVuSans-52\"/>\r\n       <use x=\"63.623047\" xlink:href=\"#DejaVuSans-48\"/>\r\n      </g>\r\n     </g>\r\n    </g>\r\n    <g id=\"ytick_6\">\r\n     <g id=\"line2d_21\">\r\n      <path clip-path=\"url(#p7f49d757c7)\" d=\"M 48.77425 72.168312 \r\nL 424.61425 72.168312 \r\n\" style=\"fill:none;stroke:#cbcbcb;\"/>\r\n     </g>\r\n     <g id=\"line2d_22\"/>\r\n     <g id=\"text_11\">\r\n      <!-- 50 -->\r\n      <g transform=\"translate(27.45925 77.487218)scale(0.14 -0.14)\">\r\n       <use xlink:href=\"#DejaVuSans-53\"/>\r\n       <use x=\"63.623047\" xlink:href=\"#DejaVuSans-48\"/>\r\n      </g>\r\n     </g>\r\n    </g>\r\n    <g id=\"ytick_7\">\r\n     <g id=\"line2d_23\">\r\n      <path clip-path=\"url(#p7f49d757c7)\" d=\"M 48.77425 38.505974 \r\nL 424.61425 38.505974 \r\n\" style=\"fill:none;stroke:#cbcbcb;\"/>\r\n     </g>\r\n     <g id=\"line2d_24\"/>\r\n     <g id=\"text_12\">\r\n      <!-- 60 -->\r\n      <g transform=\"translate(27.45925 43.82488)scale(0.14 -0.14)\">\r\n       <use xlink:href=\"#DejaVuSans-54\"/>\r\n       <use x=\"63.623047\" xlink:href=\"#DejaVuSans-48\"/>\r\n      </g>\r\n     </g>\r\n    </g>\r\n    <g id=\"text_13\">\r\n     <!-- Frequency -->\r\n     <defs>\r\n      <path d=\"M 9.8125 72.90625 \r\nL 51.703125 72.90625 \r\nL 51.703125 64.59375 \r\nL 19.671875 64.59375 \r\nL 19.671875 43.109375 \r\nL 48.578125 43.109375 \r\nL 48.578125 34.8125 \r\nL 19.671875 34.8125 \r\nL 19.671875 0 \r\nL 9.8125 0 \r\nz\r\n\" id=\"DejaVuSans-70\"/>\r\n      <path d=\"M 41.109375 46.296875 \r\nQ 39.59375 47.171875 37.8125 47.578125 \r\nQ 36.03125 48 33.890625 48 \r\nQ 26.265625 48 22.1875 43.046875 \r\nQ 18.109375 38.09375 18.109375 28.8125 \r\nL 18.109375 0 \r\nL 9.078125 0 \r\nL 9.078125 54.6875 \r\nL 18.109375 54.6875 \r\nL 18.109375 46.1875 \r\nQ 20.953125 51.171875 25.484375 53.578125 \r\nQ 30.03125 56 36.53125 56 \r\nQ 37.453125 56 38.578125 55.875 \r\nQ 39.703125 55.765625 41.0625 55.515625 \r\nz\r\n\" id=\"DejaVuSans-114\"/>\r\n      <path d=\"M 56.203125 29.59375 \r\nL 56.203125 25.203125 \r\nL 14.890625 25.203125 \r\nQ 15.484375 15.921875 20.484375 11.0625 \r\nQ 25.484375 6.203125 34.421875 6.203125 \r\nQ 39.59375 6.203125 44.453125 7.46875 \r\nQ 49.3125 8.734375 54.109375 11.28125 \r\nL 54.109375 2.78125 \r\nQ 49.265625 0.734375 44.1875 -0.34375 \r\nQ 39.109375 -1.421875 33.890625 -1.421875 \r\nQ 20.796875 -1.421875 13.15625 6.1875 \r\nQ 5.515625 13.8125 5.515625 26.8125 \r\nQ 5.515625 40.234375 12.765625 48.109375 \r\nQ 20.015625 56 32.328125 56 \r\nQ 43.359375 56 49.78125 48.890625 \r\nQ 56.203125 41.796875 56.203125 29.59375 \r\nz\r\nM 47.21875 32.234375 \r\nQ 47.125 39.59375 43.09375 43.984375 \r\nQ 39.0625 48.390625 32.421875 48.390625 \r\nQ 24.90625 48.390625 20.390625 44.140625 \r\nQ 15.875 39.890625 15.1875 32.171875 \r\nz\r\n\" id=\"DejaVuSans-101\"/>\r\n      <path d=\"M 14.796875 27.296875 \r\nQ 14.796875 17.390625 18.875 11.75 \r\nQ 22.953125 6.109375 30.078125 6.109375 \r\nQ 37.203125 6.109375 41.296875 11.75 \r\nQ 45.40625 17.390625 45.40625 27.296875 \r\nQ 45.40625 37.203125 41.296875 42.84375 \r\nQ 37.203125 48.484375 30.078125 48.484375 \r\nQ 22.953125 48.484375 18.875 42.84375 \r\nQ 14.796875 37.203125 14.796875 27.296875 \r\nz\r\nM 45.40625 8.203125 \r\nQ 42.578125 3.328125 38.25 0.953125 \r\nQ 33.9375 -1.421875 27.875 -1.421875 \r\nQ 17.96875 -1.421875 11.734375 6.484375 \r\nQ 5.515625 14.40625 5.515625 27.296875 \r\nQ 5.515625 40.1875 11.734375 48.09375 \r\nQ 17.96875 56 27.875 56 \r\nQ 33.9375 56 38.25 53.625 \r\nQ 42.578125 51.265625 45.40625 46.390625 \r\nL 45.40625 54.6875 \r\nL 54.390625 54.6875 \r\nL 54.390625 -20.796875 \r\nL 45.40625 -20.796875 \r\nz\r\n\" id=\"DejaVuSans-113\"/>\r\n      <path d=\"M 8.5 21.578125 \r\nL 8.5 54.6875 \r\nL 17.484375 54.6875 \r\nL 17.484375 21.921875 \r\nQ 17.484375 14.15625 20.5 10.265625 \r\nQ 23.53125 6.390625 29.59375 6.390625 \r\nQ 36.859375 6.390625 41.078125 11.03125 \r\nQ 45.3125 15.671875 45.3125 23.6875 \r\nL 45.3125 54.6875 \r\nL 54.296875 54.6875 \r\nL 54.296875 0 \r\nL 45.3125 0 \r\nL 45.3125 8.40625 \r\nQ 42.046875 3.421875 37.71875 1 \r\nQ 33.40625 -1.421875 27.6875 -1.421875 \r\nQ 18.265625 -1.421875 13.375 4.4375 \r\nQ 8.5 10.296875 8.5 21.578125 \r\nz\r\nM 31.109375 56 \r\nz\r\n\" id=\"DejaVuSans-117\"/>\r\n      <path d=\"M 54.890625 33.015625 \r\nL 54.890625 0 \r\nL 45.90625 0 \r\nL 45.90625 32.71875 \r\nQ 45.90625 40.484375 42.875 44.328125 \r\nQ 39.84375 48.1875 33.796875 48.1875 \r\nQ 26.515625 48.1875 22.3125 43.546875 \r\nQ 18.109375 38.921875 18.109375 30.90625 \r\nL 18.109375 0 \r\nL 9.078125 0 \r\nL 9.078125 54.6875 \r\nL 18.109375 54.6875 \r\nL 18.109375 46.1875 \r\nQ 21.34375 51.125 25.703125 53.5625 \r\nQ 30.078125 56 35.796875 56 \r\nQ 45.21875 56 50.046875 50.171875 \r\nQ 54.890625 44.34375 54.890625 33.015625 \r\nz\r\n\" id=\"DejaVuSans-110\"/>\r\n      <path d=\"M 48.78125 52.59375 \r\nL 48.78125 44.1875 \r\nQ 44.96875 46.296875 41.140625 47.34375 \r\nQ 37.3125 48.390625 33.40625 48.390625 \r\nQ 24.65625 48.390625 19.8125 42.84375 \r\nQ 14.984375 37.3125 14.984375 27.296875 \r\nQ 14.984375 17.28125 19.8125 11.734375 \r\nQ 24.65625 6.203125 33.40625 6.203125 \r\nQ 37.3125 6.203125 41.140625 7.25 \r\nQ 44.96875 8.296875 48.78125 10.40625 \r\nL 48.78125 2.09375 \r\nQ 45.015625 0.34375 40.984375 -0.53125 \r\nQ 36.96875 -1.421875 32.421875 -1.421875 \r\nQ 20.0625 -1.421875 12.78125 6.34375 \r\nQ 5.515625 14.109375 5.515625 27.296875 \r\nQ 5.515625 40.671875 12.859375 48.328125 \r\nQ 20.21875 56 33.015625 56 \r\nQ 37.15625 56 41.109375 55.140625 \r\nQ 45.0625 54.296875 48.78125 52.59375 \r\nz\r\n\" id=\"DejaVuSans-99\"/>\r\n      <path d=\"M 32.171875 -5.078125 \r\nQ 28.375 -14.84375 24.75 -17.8125 \r\nQ 21.140625 -20.796875 15.09375 -20.796875 \r\nL 7.90625 -20.796875 \r\nL 7.90625 -13.28125 \r\nL 13.1875 -13.28125 \r\nQ 16.890625 -13.28125 18.9375 -11.515625 \r\nQ 21 -9.765625 23.484375 -3.21875 \r\nL 25.09375 0.875 \r\nL 2.984375 54.6875 \r\nL 12.5 54.6875 \r\nL 29.59375 11.921875 \r\nL 46.6875 54.6875 \r\nL 56.203125 54.6875 \r\nz\r\n\" id=\"DejaVuSans-121\"/>\r\n     </defs>\r\n     <g transform=\"translate(19.965375 167.233875)rotate(-90)scale(0.168 -0.168)\">\r\n      <use xlink:href=\"#DejaVuSans-70\"/>\r\n      <use x=\"50.269531\" xlink:href=\"#DejaVuSans-114\"/>\r\n      <use x=\"89.132812\" xlink:href=\"#DejaVuSans-101\"/>\r\n      <use x=\"150.65625\" xlink:href=\"#DejaVuSans-113\"/>\r\n      <use x=\"214.132812\" xlink:href=\"#DejaVuSans-117\"/>\r\n      <use x=\"277.511719\" xlink:href=\"#DejaVuSans-101\"/>\r\n      <use x=\"339.035156\" xlink:href=\"#DejaVuSans-110\"/>\r\n      <use x=\"402.414062\" xlink:href=\"#DejaVuSans-99\"/>\r\n      <use x=\"457.394531\" xlink:href=\"#DejaVuSans-121\"/>\r\n     </g>\r\n    </g>\r\n   </g>\r\n   <g id=\"patch_3\">\r\n    <path clip-path=\"url(#p7f49d757c7)\" d=\"M 65.857886 240.48 \r\nL 94.330614 240.48 \r\nL 94.330614 223.648831 \r\nL 65.857886 223.648831 \r\nz\r\n\" style=\"fill:#008fd5;opacity:0.5;\"/>\r\n   </g>\r\n   <g id=\"patch_4\">\r\n    <path clip-path=\"url(#p7f49d757c7)\" d=\"M 94.330614 240.48 \r\nL 122.803341 240.48 \r\nL 122.803341 216.916364 \r\nL 94.330614 216.916364 \r\nz\r\n\" style=\"fill:#008fd5;opacity:0.5;\"/>\r\n   </g>\r\n   <g id=\"patch_5\">\r\n    <path clip-path=\"url(#p7f49d757c7)\" d=\"M 122.803341 240.48 \r\nL 151.276068 240.48 \r\nL 151.276068 216.916364 \r\nL 122.803341 216.916364 \r\nz\r\n\" style=\"fill:#008fd5;opacity:0.5;\"/>\r\n   </g>\r\n   <g id=\"patch_6\">\r\n    <path clip-path=\"url(#p7f49d757c7)\" d=\"M 151.276068 240.48 \r\nL 179.748795 240.48 \r\nL 179.748795 200.085195 \r\nL 151.276068 200.085195 \r\nz\r\n\" style=\"fill:#008fd5;opacity:0.5;\"/>\r\n   </g>\r\n   <g id=\"patch_7\">\r\n    <path clip-path=\"url(#p7f49d757c7)\" d=\"M 179.748795 240.48 \r\nL 208.221523 240.48 \r\nL 208.221523 149.591688 \r\nL 179.748795 149.591688 \r\nz\r\n\" style=\"fill:#008fd5;opacity:0.5;\"/>\r\n   </g>\r\n   <g id=\"patch_8\">\r\n    <path clip-path=\"url(#p7f49d757c7)\" d=\"M 208.221523 240.48 \r\nL 236.69425 240.48 \r\nL 236.69425 102.464416 \r\nL 208.221523 102.464416 \r\nz\r\n\" style=\"fill:#008fd5;opacity:0.5;\"/>\r\n   </g>\r\n   <g id=\"patch_9\">\r\n    <path clip-path=\"url(#p7f49d757c7)\" d=\"M 236.69425 240.48 \r\nL 265.166977 240.48 \r\nL 265.166977 105.830649 \r\nL 236.69425 105.830649 \r\nz\r\n\" style=\"fill:#008fd5;opacity:0.5;\"/>\r\n   </g>\r\n   <g id=\"patch_10\">\r\n    <path clip-path=\"url(#p7f49d757c7)\" d=\"M 265.166977 240.48 \r\nL 293.639705 240.48 \r\nL 293.639705 48.604675 \r\nL 265.166977 48.604675 \r\nz\r\n\" style=\"fill:#008fd5;opacity:0.5;\"/>\r\n   </g>\r\n   <g id=\"patch_11\">\r\n    <path clip-path=\"url(#p7f49d757c7)\" d=\"M 293.639705 240.48 \r\nL 322.112432 240.48 \r\nL 322.112432 18.308571 \r\nL 293.639705 18.308571 \r\nz\r\n\" style=\"fill:#008fd5;opacity:0.5;\"/>\r\n   </g>\r\n   <g id=\"patch_12\">\r\n    <path clip-path=\"url(#p7f49d757c7)\" d=\"M 322.112432 240.48 \r\nL 350.585159 240.48 \r\nL 350.585159 65.435844 \r\nL 322.112432 65.435844 \r\nz\r\n\" style=\"fill:#008fd5;opacity:0.5;\"/>\r\n   </g>\r\n   <g id=\"patch_13\">\r\n    <path clip-path=\"url(#p7f49d757c7)\" d=\"M 350.585159 240.48 \r\nL 379.057886 240.48 \r\nL 379.057886 142.859221 \r\nL 350.585159 142.859221 \r\nz\r\n\" style=\"fill:#008fd5;opacity:0.5;\"/>\r\n   </g>\r\n   <g id=\"patch_14\">\r\n    <path clip-path=\"url(#p7f49d757c7)\" d=\"M 379.057886 240.48 \r\nL 407.530614 240.48 \r\nL 407.530614 213.55013 \r\nL 379.057886 213.55013 \r\nz\r\n\" style=\"fill:#008fd5;opacity:0.5;\"/>\r\n   </g>\r\n   <g id=\"patch_15\">\r\n    <path d=\"M 48.77425 240.48 \r\nL 48.77425 7.2 \r\n\" style=\"fill:none;stroke:#f0f0f0;stroke-linecap:square;stroke-linejoin:miter;stroke-width:3;\"/>\r\n   </g>\r\n   <g id=\"patch_16\">\r\n    <path d=\"M 424.61425 240.48 \r\nL 424.61425 7.2 \r\n\" style=\"fill:none;stroke:#f0f0f0;stroke-linecap:square;stroke-linejoin:miter;stroke-width:3;\"/>\r\n   </g>\r\n   <g id=\"patch_17\">\r\n    <path d=\"M 48.77425 240.48 \r\nL 424.61425 240.48 \r\n\" style=\"fill:none;stroke:#f0f0f0;stroke-linecap:square;stroke-linejoin:miter;stroke-width:3;\"/>\r\n   </g>\r\n   <g id=\"patch_18\">\r\n    <path d=\"M 48.77425 7.2 \r\nL 424.61425 7.2 \r\n\" style=\"fill:none;stroke:#f0f0f0;stroke-linecap:square;stroke-linejoin:miter;stroke-width:3;\"/>\r\n   </g>\r\n   <g id=\"legend_1\">\r\n    <g id=\"patch_19\">\r\n     <path d=\"M 339.778625 38.949375 \r\nL 414.81425 38.949375 \r\nQ 417.61425 38.949375 417.61425 36.149375 \r\nL 417.61425 17 \r\nQ 417.61425 14.2 414.81425 14.2 \r\nL 339.778625 14.2 \r\nQ 336.978625 14.2 336.978625 17 \r\nL 336.978625 36.149375 \r\nQ 336.978625 38.949375 339.778625 38.949375 \r\nz\r\n\" style=\"fill:#f0f0f0;opacity:0.8;stroke:#cccccc;stroke-linejoin:miter;stroke-width:0.5;\"/>\r\n    </g>\r\n    <g id=\"patch_20\">\r\n     <path d=\"M 342.578625 30.437812 \r\nL 370.578625 30.437812 \r\nL 370.578625 20.637812 \r\nL 342.578625 20.637812 \r\nz\r\n\" style=\"fill:#008fd5;opacity:0.5;\"/>\r\n    </g>\r\n    <g id=\"text_14\">\r\n     <!-- tobs -->\r\n     <defs>\r\n      <path d=\"M 18.3125 70.21875 \r\nL 18.3125 54.6875 \r\nL 36.8125 54.6875 \r\nL 36.8125 47.703125 \r\nL 18.3125 47.703125 \r\nL 18.3125 18.015625 \r\nQ 18.3125 11.328125 20.140625 9.421875 \r\nQ 21.96875 7.515625 27.59375 7.515625 \r\nL 36.8125 7.515625 \r\nL 36.8125 0 \r\nL 27.59375 0 \r\nQ 17.1875 0 13.234375 3.875 \r\nQ 9.28125 7.765625 9.28125 18.015625 \r\nL 9.28125 47.703125 \r\nL 2.6875 47.703125 \r\nL 2.6875 54.6875 \r\nL 9.28125 54.6875 \r\nL 9.28125 70.21875 \r\nz\r\n\" id=\"DejaVuSans-116\"/>\r\n      <path d=\"M 30.609375 48.390625 \r\nQ 23.390625 48.390625 19.1875 42.75 \r\nQ 14.984375 37.109375 14.984375 27.296875 \r\nQ 14.984375 17.484375 19.15625 11.84375 \r\nQ 23.34375 6.203125 30.609375 6.203125 \r\nQ 37.796875 6.203125 41.984375 11.859375 \r\nQ 46.1875 17.53125 46.1875 27.296875 \r\nQ 46.1875 37.015625 41.984375 42.703125 \r\nQ 37.796875 48.390625 30.609375 48.390625 \r\nz\r\nM 30.609375 56 \r\nQ 42.328125 56 49.015625 48.375 \r\nQ 55.71875 40.765625 55.71875 27.296875 \r\nQ 55.71875 13.875 49.015625 6.21875 \r\nQ 42.328125 -1.421875 30.609375 -1.421875 \r\nQ 18.84375 -1.421875 12.171875 6.21875 \r\nQ 5.515625 13.875 5.515625 27.296875 \r\nQ 5.515625 40.765625 12.171875 48.375 \r\nQ 18.84375 56 30.609375 56 \r\nz\r\n\" id=\"DejaVuSans-111\"/>\r\n      <path d=\"M 48.6875 27.296875 \r\nQ 48.6875 37.203125 44.609375 42.84375 \r\nQ 40.53125 48.484375 33.40625 48.484375 \r\nQ 26.265625 48.484375 22.1875 42.84375 \r\nQ 18.109375 37.203125 18.109375 27.296875 \r\nQ 18.109375 17.390625 22.1875 11.75 \r\nQ 26.265625 6.109375 33.40625 6.109375 \r\nQ 40.53125 6.109375 44.609375 11.75 \r\nQ 48.6875 17.390625 48.6875 27.296875 \r\nz\r\nM 18.109375 46.390625 \r\nQ 20.953125 51.265625 25.265625 53.625 \r\nQ 29.59375 56 35.59375 56 \r\nQ 45.5625 56 51.78125 48.09375 \r\nQ 58.015625 40.1875 58.015625 27.296875 \r\nQ 58.015625 14.40625 51.78125 6.484375 \r\nQ 45.5625 -1.421875 35.59375 -1.421875 \r\nQ 29.59375 -1.421875 25.265625 0.953125 \r\nQ 20.953125 3.328125 18.109375 8.203125 \r\nL 18.109375 0 \r\nL 9.078125 0 \r\nL 9.078125 75.984375 \r\nL 18.109375 75.984375 \r\nz\r\n\" id=\"DejaVuSans-98\"/>\r\n      <path d=\"M 44.28125 53.078125 \r\nL 44.28125 44.578125 \r\nQ 40.484375 46.53125 36.375 47.5 \r\nQ 32.28125 48.484375 27.875 48.484375 \r\nQ 21.1875 48.484375 17.84375 46.4375 \r\nQ 14.5 44.390625 14.5 40.28125 \r\nQ 14.5 37.15625 16.890625 35.375 \r\nQ 19.28125 33.59375 26.515625 31.984375 \r\nL 29.59375 31.296875 \r\nQ 39.15625 29.25 43.1875 25.515625 \r\nQ 47.21875 21.78125 47.21875 15.09375 \r\nQ 47.21875 7.46875 41.1875 3.015625 \r\nQ 35.15625 -1.421875 24.609375 -1.421875 \r\nQ 20.21875 -1.421875 15.453125 -0.5625 \r\nQ 10.6875 0.296875 5.421875 2 \r\nL 5.421875 11.28125 \r\nQ 10.40625 8.6875 15.234375 7.390625 \r\nQ 20.0625 6.109375 24.8125 6.109375 \r\nQ 31.15625 6.109375 34.5625 8.28125 \r\nQ 37.984375 10.453125 37.984375 14.40625 \r\nQ 37.984375 18.0625 35.515625 20.015625 \r\nQ 33.0625 21.96875 24.703125 23.78125 \r\nL 21.578125 24.515625 \r\nQ 13.234375 26.265625 9.515625 29.90625 \r\nQ 5.8125 33.546875 5.8125 39.890625 \r\nQ 5.8125 47.609375 11.28125 51.796875 \r\nQ 16.75 56 26.8125 56 \r\nQ 31.78125 56 36.171875 55.265625 \r\nQ 40.578125 54.546875 44.28125 53.078125 \r\nz\r\n\" id=\"DejaVuSans-115\"/>\r\n     </defs>\r\n     <g transform=\"translate(381.778625 30.437812)scale(0.14 -0.14)\">\r\n      <use xlink:href=\"#DejaVuSans-116\"/>\r\n      <use x=\"39.208984\" xlink:href=\"#DejaVuSans-111\"/>\r\n      <use x=\"100.390625\" xlink:href=\"#DejaVuSans-98\"/>\r\n      <use x=\"163.867188\" xlink:href=\"#DejaVuSans-115\"/>\r\n     </g>\r\n    </g>\r\n   </g>\r\n  </g>\r\n </g>\r\n <defs>\r\n  <clipPath id=\"p7f49d757c7\">\r\n   <rect height=\"233.28\" width=\"375.84\" x=\"48.77425\" y=\"7.2\"/>\r\n  </clipPath>\r\n </defs>\r\n</svg>\r\n",
      "image/png": "[encoded data removed]"
     },
     "metadata": {}
    }
   ],
   "source": [
    "ax = temp_year_df.plot.hist(bins=12, alpha=0.5)"
   ]
  },
  {
   "cell_type": "code",
   "execution_count": 30,
   "metadata": {},
   "outputs": [
    {
     "output_type": "execute_result",
     "data": {
      "text/plain": [
       "['measurement', 'station']"
      ]
     },
     "metadata": {},
     "execution_count": 30
    }
   ],
   "source": [
    "inspector = inspect(engine)\n",
    "inspector.get_table_names()"
   ]
  },
  {
   "cell_type": "code",
   "execution_count": 31,
   "metadata": {},
   "outputs": [
    {
     "output_type": "stream",
     "name": "stdout",
     "text": [
      "id INTEGER\nstation TEXT\ndate TEXT\nprcp FLOAT\ntobs FLOAT\n"
     ]
    }
   ],
   "source": [
    "# Get a list of column names and types\n",
    "columns = inspector.get_columns('measurement')\n",
    "for c in columns:\n",
    "    print(c['name'], c[\"type\"])"
   ]
  },
  {
   "cell_type": "code",
   "execution_count": 32,
   "metadata": {},
   "outputs": [
    {
     "output_type": "stream",
     "name": "stdout",
     "text": [
      "id INTEGER\nstation TEXT\nname TEXT\nlatitude FLOAT\nlongitude FLOAT\nelevation FLOAT\n"
     ]
    }
   ],
   "source": [
    "# Get a list of column names and types\n",
    "columns = inspector.get_columns('station')\n",
    "for c in columns:\n",
    "    print(c['name'], c[\"type\"])"
   ]
  },
  {
   "cell_type": "code",
   "execution_count": 33,
   "metadata": {},
   "outputs": [
    {
     "output_type": "execute_result",
     "data": {
      "text/plain": [
       "[('USC00519397', 'USC00519397'),\n",
       " ('USC00519397', 'USC00513117'),\n",
       " ('USC00519397', 'USC00514830'),\n",
       " ('USC00519397', 'USC00517948'),\n",
       " ('USC00519397', 'USC00518838'),\n",
       " ('USC00519397', 'USC00519523'),\n",
       " ('USC00519397', 'USC00519281'),\n",
       " ('USC00519397', 'USC00511918'),\n",
       " ('USC00519397', 'USC00516128'),\n",
       " ('USC00519397', 'USC00519397')]"
      ]
     },
     "metadata": {},
     "execution_count": 33
    }
   ],
   "source": [
    " session.query(Measurement.station, Station.station).limit(10).all()"
   ]
  },
  {
   "cell_type": "code",
   "execution_count": 34,
   "metadata": {},
   "outputs": [
    {
     "output_type": "stream",
     "name": "stdout",
     "text": [
      "USC00519397\nUSC00519397\nUSC00519397\nUSC00519397\nUSC00519397\nUSC00519397\nUSC00519397\nUSC00519397\nUSC00519397\nUSC00519397\nUSC00519397\nUSC00519397\nUSC00519397\nUSC00519397\nUSC00519397\nUSC00519397\nUSC00519397\nUSC00519397\nUSC00519397\nUSC00519397\n"
     ]
    }
   ],
   "source": [
    " same_station = session.query(Measurement, Station).filter(Measurement.station == Station.station).limit(10).all()\n",
    "\n",
    "for record in same_station:\n",
    "    (measurement, station) = record\n",
    "    print(measurement.station)\n",
    "    print(station.station)"
   ]
  },
  {
   "cell_type": "code",
   "execution_count": 35,
   "metadata": {},
   "outputs": [],
   "source": [
    "#follow class example for titanic\n",
    "#hawaii example doesn't have start and stop but we did with variable rule example passing in a superhero put in brackets tell it a variable name like start date\n",
    "#for start date and enc date use two sections in brackets startdate/enddate and two variables passed in by def justing league [start date, end date];\n",
    "##8 and #9 have the example of \n",
    "## instead of function being blank def passengers ():\n"
   ]
  },
  {
   "cell_type": "code",
   "execution_count": 36,
   "metadata": {},
   "outputs": [],
   "source": [
    "sel = [Measurement.station, Measurement.date, Measurement.prcp, Measurement.tobs, Station.latitude, Station.longitude, Station.elevation]\n",
    "same_station = session.query(*sel).filter(Measurement.station == Station.station).limit(10).all()\n",
    "\n",
    "\n",
    "        "
   ]
  }
 ],
 "metadata": {
  "kernel_info": {
   "name": "python3"
  },
  "kernelspec": {
   "display_name": "Python 3",
   "language": "python",
   "name": "python3"
  },
  "language_info": {
   "codemirror_mode": {
    "name": "ipython",
    "version": 3
   },
   "file_extension": ".py",
   "mimetype": "text/x-python",
   "name": "python",
   "nbconvert_exporter": "python",
   "pygments_lexer": "ipython3",
   "version": "3.8.3-final"
  },
  "nteract": {
   "version": "0.12.3"
  },
  "varInspector": {
   "cols": {
    "lenName": 16,
    "lenType": 16,
    "lenVar": 40
   },
   "kernels_config": {
    "python": {
     "delete_cmd_postfix": "",
     "delete_cmd_prefix": "del ",
     "library": "var_list.py",
     "varRefreshCmd": "print(var_dic_list())"
    },
    "r": {
     "delete_cmd_postfix": ") ",
     "delete_cmd_prefix": "rm(",
     "library": "var_list.r",
     "varRefreshCmd": "cat(var_dic_list()) "
    }
   },
   "types_to_exclude": [
    "module",
    "function",
    "builtin_function_or_method",
    "instance",
    "_Feature"
   ],
   "window_display": false
  }
 },
 "nbformat": 4,
 "nbformat_minor": 2
}